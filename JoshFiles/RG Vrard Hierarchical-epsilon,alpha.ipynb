{
 "cells": [
  {
   "cell_type": "markdown",
   "metadata": {},
   "source": [
    "# Red Giant Mode fitting\n",
    "\n",
    "Fitting $nstars$ RG stars chosen at random using Vrard model."
   ]
  },
  {
   "cell_type": "code",
   "execution_count": 3,
   "metadata": {},
   "outputs": [],
   "source": [
    "import numpy as np\n",
    "import pandas as pd\n",
    "import matplotlib.pyplot as plt\n",
    "import seaborn as sns\n",
    "import pystan\n",
    "import random"
   ]
  },
  {
   "cell_type": "code",
   "execution_count": 4,
   "metadata": {},
   "outputs": [],
   "source": [
    "#import output data\n",
    "nstars = 5\n",
    "IDs = []\n",
    "stardat = pd.read_csv('RGdata/output_1000stars.csv', delim_whitespace=False, header=0, usecols=range(1,4))\n",
    "for i in range(nstars):\n",
    "    IDs.append(random.choice(stardat['ID']))\n",
    "\n",
    "modes = {} # dictionary with frequencies and errors\n",
    "for i in IDs:\n",
    "    modes[str(i)] = pd.read_csv('RGdata/modes_'+str(i)+'.csv', delim_whitespace=False, header=0, usecols=[0,7])\n",
    "    modes[str(i)] = modes[str(i)].sort_values(by=['f0'])\n",
    "    modes[str(i)] = modes[str(i)].set_index(np.arange(0,len(modes[str(i)]),1))\n",
    "    modes[str(i)]['dnu'] = modes[str(i)].f0.diff(2).shift(-1)/2\n",
    "    dnu_avg = np.mean(modes[str(i)].dnu)\n",
    "    n_min = int(modes[str(i)].f0.min() / dnu_avg)\n",
    "    n_obs = np.arange(n_min, n_min+len(modes[str(i)].f0), 1)\n",
    "    modes[str(i)]['n'] = n_obs\n",
    "    \n",
    "stardat= stardat.loc[stardat['ID'].isin(IDs)]"
   ]
  },
  {
   "cell_type": "markdown",
   "metadata": {},
   "source": [
    "To find a ballpark figure before defining priors, will use model:\n",
    "\n",
    "$$\\nu(n)=(n+\\epsilon)\\langle\\Delta\\nu\\rangle+k(n_{max}-n)^2+\\mathcal{A}e^{-n/\\tau}sin(nw+\\phi)$$\n",
    "\n",
    "where $n_{max}= \\nu_{max}/\\Delta\\nu - \\epsilon$"
   ]
  },
  {
   "cell_type": "code",
   "execution_count": 5,
   "metadata": {},
   "outputs": [],
   "source": [
    "def echelle(stardat, modes, ID, model=False, stanfit=[], stan_dnu=0):\n",
    "    numax_obs = float(stardat.loc[stardat['ID'] == ID].Numax)\n",
    "    numax_obs_err = float(stardat.loc[stardat['ID'] == ID].Numax_err)\n",
    "    #dnu_obs = float(stardat.loc[stardat.ID == IDs[i]].Dnu_median_all)\n",
    "    #dnu_obs = np.mean(np.diff(modes[str(IDs[i])].f0)) \n",
    "    dnu_obs = np.mean(modes[str(ID)].f0.diff(2).shift(-1)/2)\n",
    "    # Create dataframes for frequencies and calculate orders n\n",
    "    l0modes = pd.DataFrame([modes[str(ID)].f0, modes[str(ID)].f0_err])\n",
    "    l0modes = l0modes.T\n",
    "    l0modes = l0modes.sort_values('f0', ascending=True)\n",
    "    n_min = int(l0modes.f0.min() / dnu_obs)\n",
    "    n_obs = np.arange(n_min, n_min+len(l0modes.f0), 1)\n",
    "    l0modes['n'] = n_obs\n",
    "    l0modes = l0modes.set_index(np.arange(0, len(l0modes.f0), 1))\n",
    "    plt.scatter(l0modes.f0 % dnu_obs, l0modes.f0, label = str(ID))\n",
    "    \n",
    "    if model:\n",
    "        label = 'Stan Fit '+str(ID)\n",
    "        plt.plot(stanfit % stan_dnu, stanfit, label = label)\n",
    "        \n",
    "    plt.xlabel(r'Frequency modulo ($\\mu Hz$)')\n",
    "    plt.ylabel(r'Frequency ($\\mu Hz$)')\n",
    "    plt.legend()"
   ]
  },
  {
   "cell_type": "code",
   "execution_count": 6,
   "metadata": {},
   "outputs": [],
   "source": [
    "def model(n, dnu, nmax, epsilon, alpha, A, G, phi):\n",
    "    freqs = (n + epsilon + alpha/2 * (nmax - n)**2 + A*G/(2*np.pi) * np.sin((2*np.pi*(n-nmax))/G + phi))*dnu #* np.exp(-n/tau);\n",
    "    return freqs"
   ]
  },
  {
   "cell_type": "code",
   "execution_count": 7,
   "metadata": {},
   "outputs": [
    {
     "data": {
      "image/png": "[encoded data removed]",
      "text/plain": [
       "<Figure size 432x288 with 1 Axes>"
      ]
     },
     "metadata": {
      "needs_background": "light"
     },
     "output_type": "display_data"
    }
   ],
   "source": [
    "for i in IDs:\n",
    "    #values from Vrard\n",
    "    dnu_avg = np.mean(modes[str(i)].dnu)\n",
    "    n = modes[str(i)].n\n",
    "    #epsilon = 0.601 + 0.632*np.log(dnu_avg)\n",
    "    epsilon = np.median((modes[str(i)].f0 % dnu_avg) / dnu_avg)\n",
    "    numax_obs = float(stardat.loc[stardat['ID'] == i].Numax)\n",
    "    nmax = numax_obs/dnu_avg - epsilon\n",
    "    alpha = 0.015*dnu_avg**(-0.32)\n",
    "    A = 0.06*dnu_avg**(-0.88) \n",
    "    G = 3.08\n",
    "    #tau = 8\n",
    "    phi = 1.71\n",
    "    f = model(n, dnu_avg, nmax, epsilon, alpha, A, G, phi)\n",
    "    echelle(stardat, modes, i, True, f, dnu_avg)\n",
    "    "
   ]
  },
  {
   "cell_type": "code",
   "execution_count": 8,
   "metadata": {},
   "outputs": [
    {
     "data": {
      "text/plain": [
       "\"plt.scatter(l0modes.f0 % dnu_obs, l0modes.f0, label = 'Data') \\nplt.plot(f % dnu_obs, f, label = 'Model')\\nplt.xlabel(r'Frequency modulo ($\\\\mu Hz$)')\\nplt.ylabel(r'Frequency ($\\\\mu Hz$)')\\n#mod_err = (l0modes.f0 % dnu_obs)*np.sqrt((dnu_obs_err/dnu_obs)**2 + (l0modes.f0_err/l0modes.f0)**2)\\nplt.errorbar(l0modes.f0 % dnu_obs, l0modes.f0, yerr = l0modes.f0_err, xerr = mod_err, ecolor = 'r', ls='none', label = 'Error')\\nplt.legend()\""
      ]
     },
     "execution_count": 8,
     "metadata": {},
     "output_type": "execute_result"
    }
   ],
   "source": [
    "'''plt.scatter(l0modes.f0 % dnu_obs, l0modes.f0, label = 'Data') \n",
    "plt.plot(f % dnu_obs, f, label = 'Model')\n",
    "plt.xlabel(r'Frequency modulo ($\\mu Hz$)')\n",
    "plt.ylabel(r'Frequency ($\\mu Hz$)')\n",
    "#mod_err = (l0modes.f0 % dnu_obs)*np.sqrt((dnu_obs_err/dnu_obs)**2 + (l0modes.f0_err/l0modes.f0)**2)\n",
    "plt.errorbar(l0modes.f0 % dnu_obs, l0modes.f0, yerr = l0modes.f0_err, xerr = mod_err, ecolor = 'r', ls='none', label = 'Error')\n",
    "plt.legend()'''"
   ]
  },
  {
   "cell_type": "code",
   "execution_count": 9,
   "metadata": {},
   "outputs": [
    {
     "name": "stderr",
     "output_type": "stream",
     "text": [
      "INFO:pystan:COMPILING THE C++ CODE FOR MODEL anon_model_cc0ddc959414ab6fac6e16ba6472391d NOW.\n",
      "/Library/Frameworks/Python.framework/Versions/3.7/lib/python3.7/site-packages/Cython/Compiler/Main.py:367: FutureWarning: Cython directive 'language_level' not set, using 2 for now (Py2). This will change in a later release! File: /var/folders/2_/b8v0t8pn1hj1p3r4lyfvvv2h0000gn/T/tmpsbsdl18q/stanfit4anon_model_cc0ddc959414ab6fac6e16ba6472391d_5559129757335362250.pyx\n",
      "  tree = Parsing.p_module(s, pxd, full_module_name)\n"
     ]
    }
   ],
   "source": [
    "code = '''\n",
    "data {\n",
    "    int N;\n",
    "    real n[N];\n",
    "    real freq[N];\n",
    "    real freq_err[N];\n",
    "    real dnu_guess;\n",
    "}\n",
    "parameters {\n",
    "    real dnu;\n",
    "    real nmax;\n",
    "    real epsilon;\n",
    "    real alpha;\n",
    "    real<lower = 0> A;\n",
    "    real<lower = 0> G;\n",
    "    real<lower = -2.0*pi(), upper = 2.0*pi()> phi;\n",
    "    //real<lower = 0> tau;\n",
    "    real epsA;\n",
    "    real epsB;\n",
    "    real alA;\n",
    "    real alB;\n",
    "    \n",
    "}\n",
    "model {\n",
    "    real mod[N];\n",
    "    for (i in 1:N){\n",
    "        mod[i] = (n[i] + epsilon + (alpha/2) * (nmax - n[i])^2 + \n",
    "            A*G/(2*pi()) * sin((2*pi()*(n[i]-nmax))/G + phi))*dnu;\n",
    "    }\n",
    "    mod ~ normal(freq, freq_err);\n",
    "    dnu ~ normal(dnu_guess, dnu_guess*0.001);\n",
    "    epsilon ~ normal(epsA + epsB*log(dnu), 0.5);\n",
    "    epsilon ~ uniform(-1.0, 2.0);\n",
    "    nmax ~ normal(10, 4);\n",
    "    alpha ~ lognormal(log(alA*dnu^(-alB)), 0.3);\n",
    "    //alpha ~ lognormal(log(0.015*dnu^(-0.32)), 0.3);\n",
    "    A ~ lognormal(log(0.06*dnu^(-0.88)), 0.4);\n",
    "    G ~ normal(3.08, 0.65);\n",
    "    // tau ~ normal(50, 10);\n",
    "    epsA ~ normal(0.601, 0.080);\n",
    "    epsB ~ normal(0.632, 0.080);\n",
    "    alA ~ normal(0.015, 0.005);\n",
    "    alB ~ normal(0.32, 0.08);\n",
    "}\n",
    "generated quantities{\n",
    "    real fm[N];\n",
    "    for (j in 1:N){\n",
    "        fm[j] = (n[j] + epsilon + (alpha/2) * (nmax - n[j])^2 + \n",
    "            A*G/(2*pi()) * sin((2*pi()*(n[j]-nmax))/G + phi))*dnu;\n",
    "        }\n",
    "}\n",
    "'''\n",
    "sm = pystan.StanModel(model_code=code)"
   ]
  },
  {
   "cell_type": "code",
   "execution_count": 10,
   "metadata": {},
   "outputs": [
    {
     "name": "stderr",
     "output_type": "stream",
     "text": [
      "WARNING:pystan:124 of 10000 iterations ended with a divergence (1.24%).\n",
      "WARNING:pystan:Try running with adapt_delta larger than 0.8 to remove the divergences.\n",
      "WARNING:pystan:n_eff / iter for parameter phi is 0.00020328846982399837!\n",
      "WARNING:pystan:n_eff / iter below 0.001 indicates that the effective sample size has likely been overestimated\n",
      "WARNING:pystan:Rhat for parameter phi is 7.479455551748304!\n",
      "WARNING:pystan:Rhat above 1.1 or below 0.9 indicates that the chains very likely have not mixed\n"
     ]
    }
   ],
   "source": [
    "fits = {}\n",
    "for i in IDs:\n",
    "    dat_star = stardat.loc[stardat['ID'] == i]\n",
    "    df_star = modes[str(i)]\n",
    "    df_star = df_star.sort_values(by=['f0'])\n",
    "    dnu_obs = np.mean(df_star.dnu)\n",
    "    numax_obs = float(dat_star.loc[dat_star['ID'] == i].Numax)\n",
    "    df_star = df_star.set_index(np.arange(0, len(df_star.f0), 1))\n",
    "    nmax_guess = np.mean(df_star.n)\n",
    "    epsilon_obs = np.median((df_star.f0 % dnu_obs) / dnu_obs)\n",
    "    #epsilon_obs = 0.601 + 0.632*np.log(dnu_obs)\n",
    "    alpha_obs = 0.015*dnu_obs**(-0.32)\n",
    "    A_obs = 0.06*dnu_obs**(-0.88)\n",
    "    \n",
    "    data = {'N': len(df_star.f0), 'n': df_star.n.values, 'freq': df_star.f0.values,\n",
    "            'freq_err': df_star.f0_err.values, 'dnu_guess': dnu_obs}\n",
    "    start = {'dnu': dnu_obs, 'epsilon': epsilon_obs, \n",
    "             'nmax': numax_obs/dnu_obs - epsilon_obs, 'alpha': alpha_obs, 'A': A_obs,\n",
    "             'G': 3, 'phi': 1.6}\n",
    "    nchains=4\n",
    "    fit = sm.sampling(data=data, iter=5000, chains=nchains, init=[start for n in range(nchains)])\n",
    "    fits[str(i)] = fit\n",
    "    output = pd.DataFrame({'dnu': fit['dnu'], 'nmax': fit['nmax'], 'epsilon': fit['epsilon'], \n",
    "                           'alpha': fit['alpha'], 'A': fit['A'], 'G': fit['G'], 'phi': fit['phi'], \n",
    "                           'epsA': fit['epsA'], 'epsB': fit['epsB'], 'alA': fit['alA'], 'alB': fit['alB']})\n",
    "    #output.to_csv('samples_' + str(i) + '.csv')"
   ]
  },
  {
   "cell_type": "code",
   "execution_count": 11,
   "metadata": {},
   "outputs": [
    {
     "name": "stdout",
     "output_type": "stream",
     "text": [
      "ID = 10196797\n",
      "Inference for Stan model: anon_model_cc0ddc959414ab6fac6e16ba6472391d.\n",
      "4 chains, each with iter=5000; warmup=2500; thin=1; \n",
      "post-warmup draws per chain=2500, total post-warmup draws=10000.\n",
      "\n",
      "          mean se_mean     sd   2.5%    25%    50%    75%  97.5%  n_eff   Rhat\n",
      "dnu       3.97  5.2e-5 4.0e-3   3.96   3.97   3.97   3.97   3.98   5804    1.0\n",
      "nmax      6.93  2.6e-3   0.17   6.58   6.82   6.93   7.04   7.27   4281    1.0\n",
      "epsilon   0.89  1.2e-4 8.8e-3   0.87   0.88   0.89    0.9   0.91   5561    1.0\n",
      "alpha     0.02  6.4e-5 4.9e-3 9.1e-3   0.01   0.02   0.02   0.03   5774    1.0\n",
      "A         0.05  1.2e-4   0.01   0.03   0.04   0.05   0.06   0.07   8587    1.0\n",
      "G         2.36  3.1e-3   0.22    1.9   2.23   2.36    2.5    2.8   4990    1.0\n",
      "phi       0.95  9.1e-3   0.55  -0.12   0.61   0.95   1.27    2.1   3709    1.0\n",
      "epsA      0.59  7.8e-4   0.08   0.43   0.53   0.59   0.64   0.74  10180    1.0\n",
      "epsB      0.61  7.6e-4   0.08   0.46   0.56   0.61   0.67   0.77  10579    1.0\n",
      "alA       0.02  4.3e-5 4.0e-3   0.01   0.02   0.02   0.02   0.03   8788    1.0\n",
      "alB       0.29  7.7e-4   0.08   0.14   0.24   0.29   0.34   0.44  10488    1.0\n",
      "fm[1]    23.58  3.8e-4   0.03  23.51  23.55  23.58   23.6  23.65   8266    1.0\n",
      "fm[2]    27.32  2.6e-4   0.02  27.28  27.31  27.32  27.34  27.36   7092    1.0\n",
      "fm[3]    31.39  2.2e-4   0.02  31.35  31.38  31.39  31.41  31.43   8989    1.0\n",
      "fm[4]     35.3  2.0e-4   0.02  35.27  35.29   35.3  35.32  35.34   9071    1.0\n",
      "fm[5]    39.43  4.0e-4   0.04  39.35   39.4  39.43  39.46  39.51  10483    1.0\n",
      "lp__     -7.21    0.04    2.4 -12.64  -8.66   -6.9  -5.43  -3.51   3967    1.0\n",
      "\n",
      "Samples were drawn using NUTS at Thu Dec 13 15:57:37 2018.\n",
      "For each parameter, n_eff is a crude measure of effective sample size,\n",
      "and Rhat is the potential scale reduction factor on split chains (at \n",
      "convergence, Rhat=1).\n",
      "ID = 1162746\n",
      "Inference for Stan model: anon_model_cc0ddc959414ab6fac6e16ba6472391d.\n",
      "4 chains, each with iter=5000; warmup=2500; thin=1; \n",
      "post-warmup draws per chain=2500, total post-warmup draws=10000.\n",
      "\n",
      "          mean se_mean     sd   2.5%    25%    50%    75%  97.5%  n_eff   Rhat\n",
      "dnu       3.77  5.5e-5 3.8e-3   3.76   3.77   3.77   3.77   3.78   4619    1.0\n",
      "nmax      6.63    0.02   0.62   4.97   6.42   6.75    7.0   7.44    820    1.0\n",
      "epsilon 7.8e-3  1.1e-4 7.3e-3-6.6e-3 2.9e-3 7.8e-3   0.01   0.02   4822    1.0\n",
      "alpha   6.9e-3  6.3e-5 2.8e-3 1.7e-3 4.9e-3 6.8e-3 8.7e-3   0.01   2027    1.0\n",
      "A         0.06  1.0e-4 7.8e-3   0.04   0.05   0.06   0.06   0.07   5705    1.0\n",
      "G         2.99  2.3e-3   0.15   2.71   2.88   2.98   3.09   3.32   4638    1.0\n",
      "phi       3.67    0.04   1.22   0.44   3.25   3.89   4.41   5.34    806    1.0\n",
      "epsA      0.57  8.3e-4   0.08   0.41   0.51   0.57   0.62   0.72   9369    1.0\n",
      "epsB      0.59  7.8e-4   0.08   0.43   0.53   0.59   0.64   0.74  10075    1.0\n",
      "alA       0.01  9.9e-5 4.7e-3 3.0e-3 8.9e-3   0.01   0.02   0.02   2262    1.0\n",
      "alB       0.33  8.3e-4   0.08   0.18   0.28   0.33   0.39   0.49   9120    1.0\n",
      "fm[1]    18.95  1.8e-4   0.02  18.92  18.94  18.95  18.97  18.99  10070    1.0\n",
      "fm[2]    22.75  1.4e-4   0.01  22.72  22.74  22.75  22.75  22.77  10087    1.0\n",
      "fm[3]    26.33  1.5e-4   0.02   26.3  26.32  26.33  26.34  26.36  10150    1.0\n",
      "fm[4]    30.25  4.0e-4   0.03  30.19  30.23  30.25  30.27  30.31   5755    1.0\n",
      "fm[5]    34.11  3.9e-4   0.03  34.05  34.09  34.11  34.14  34.17   6156    1.0\n",
      "fm[6]    37.79  7.1e-4   0.05   37.7  37.76  37.79  37.82  37.88   4112    1.0\n",
      "lp__     -8.37    0.04   2.39 -13.93  -9.77  -8.01  -6.63  -4.72   3272    1.0\n",
      "\n",
      "Samples were drawn using NUTS at Thu Dec 13 15:57:41 2018.\n",
      "For each parameter, n_eff is a crude measure of effective sample size,\n",
      "and Rhat is the potential scale reduction factor on split chains (at \n",
      "convergence, Rhat=1).\n",
      "ID = 3847071\n",
      "Inference for Stan model: anon_model_cc0ddc959414ab6fac6e16ba6472391d.\n",
      "4 chains, each with iter=5000; warmup=2500; thin=1; \n",
      "post-warmup draws per chain=2500, total post-warmup draws=10000.\n",
      "\n",
      "          mean se_mean     sd   2.5%    25%    50%    75%  97.5%  n_eff   Rhat\n",
      "dnu       6.15  1.1e-4 6.2e-3   6.14   6.15   6.15   6.15   6.16   3196    1.0\n",
      "nmax     10.09  1.5e-3   0.09   9.92  10.03  10.09  10.15  10.26   3507    1.0\n",
      "epsilon    0.1  1.8e-4   0.01   0.08   0.09    0.1    0.1   0.12   3187    1.0\n",
      "alpha     0.01  5.5e-6 6.0e-4   0.01   0.01   0.01   0.01   0.02  12049    1.0\n",
      "A         0.03  5.5e-5 4.3e-3   0.02   0.02   0.03   0.03   0.03   5972    1.0\n",
      "G         2.53  1.3e-3    0.1   2.35   2.46   2.53   2.59   2.75   5739    1.0\n",
      "phi       2.49  4.5e-3   0.26   1.99   2.31   2.48   2.66    3.0   3306    1.0\n",
      "epsA      0.56  8.2e-4   0.08   0.41   0.51   0.56   0.62   0.72   9560    1.0\n",
      "epsB      0.56  8.0e-4   0.08   0.41   0.51   0.56   0.61   0.72   9208    1.0\n",
      "alA       0.02  3.7e-5 3.6e-3   0.01   0.02   0.02   0.02   0.03   9779    1.0\n",
      "alB       0.29  7.6e-4   0.07   0.14   0.24   0.29   0.34   0.43   9476    1.0\n",
      "fm[1]    38.17  2.4e-4   0.02  38.12  38.15  38.17  38.19  38.22  10218    1.0\n",
      "fm[2]    44.12  1.5e-4   0.02  44.09  44.11  44.12  44.13  44.15  11007    1.0\n",
      "fm[3]    49.96  9.4e-5   0.01  49.94  49.95  49.96  49.97  49.98  11671    1.0\n",
      "fm[4]    55.98  7.8e-5 8.2e-3  55.96  55.98  55.98  55.99   56.0  11106    1.0\n",
      "fm[5]    62.14  7.6e-5 8.2e-3  62.12  62.13  62.14  62.15  62.16  11789    1.0\n",
      "fm[6]    68.22  1.4e-4   0.01  68.19  68.21  68.22  68.23  68.24   8303    1.0\n",
      "fm[7]     74.6  2.7e-4   0.02  74.55  74.59   74.6  74.62  74.65   7604    1.0\n",
      "fm[8]     80.9  3.7e-4   0.03  80.84  80.88   80.9  80.92  80.96   7429    1.0\n",
      "fm[9]    87.35  5.2e-4   0.05  87.25  87.31  87.35  87.38  87.46  10555    1.0\n",
      "lp__    -12.58    0.04   2.39 -18.16 -13.96 -12.25 -10.83   -8.9   4119    1.0\n",
      "\n",
      "Samples were drawn using NUTS at Thu Dec 13 15:57:47 2018.\n",
      "For each parameter, n_eff is a crude measure of effective sample size,\n",
      "and Rhat is the potential scale reduction factor on split chains (at \n",
      "convergence, Rhat=1).\n",
      "ID = 11308660\n",
      "Inference for Stan model: anon_model_cc0ddc959414ab6fac6e16ba6472391d.\n",
      "4 chains, each with iter=5000; warmup=2500; thin=1; \n",
      "post-warmup draws per chain=2500, total post-warmup draws=10000.\n",
      "\n",
      "          mean se_mean     sd   2.5%    25%    50%    75%  97.5%  n_eff   Rhat\n",
      "dnu       4.25  5.8e-5 4.2e-3   4.24   4.25   4.25   4.25   4.26   5260    1.0\n",
      "nmax      8.36  2.1e-3   0.11   8.14   8.29   8.36   8.43   8.56   2501   1.01\n",
      "epsilon  -0.05  1.2e-4 8.8e-3  -0.06  -0.05  -0.05  -0.04  -0.03   5167    1.0\n",
      "alpha     0.02  2.4e-5 2.2e-3   0.01   0.02   0.02   0.02   0.02   8334    1.0\n",
      "A         0.02  7.1e-5 6.1e-3   0.01   0.02   0.02   0.02   0.03   7342    1.0\n",
      "G         2.91  6.6e-3   0.42   2.15   2.67   2.86    3.1   3.93   4006    1.0\n",
      "phi       4.23    1.87   2.67  -0.95   2.72   5.64   5.95   6.24      2   7.48\n",
      "epsA      0.56  8.4e-4   0.08   0.41   0.51   0.56   0.62   0.72   8833    1.0\n",
      "epsB      0.58  8.2e-4   0.08   0.42   0.53   0.58   0.63   0.73   9277    1.0\n",
      "alA       0.02  3.8e-5 3.7e-3   0.01   0.02   0.02   0.02   0.03   9447    1.0\n",
      "alB       0.29  8.1e-4   0.08   0.14   0.24   0.29   0.34   0.44   9066    1.0\n",
      "fm[1]    25.52  3.1e-4   0.03  25.46   25.5  25.52  25.54  25.58   9485    1.0\n",
      "fm[2]    29.62  1.5e-4   0.02  29.59  29.61  29.62  29.63  29.65  10618    1.0\n",
      "fm[3]    33.76  2.1e-4   0.02  33.73  33.75  33.76  33.77  33.79   6388    1.0\n",
      "fm[4]    38.09  2.2e-4   0.02  38.05  38.07  38.09   38.1  38.12   7225    1.0\n",
      "fm[5]    42.39  8.2e-4   0.03  42.34  42.37  42.39  42.41  42.44    966   1.01\n",
      "fm[6]    46.77  2.9e-4   0.03  46.71  46.75  46.77   46.8  46.84  11492    1.0\n",
      "lp__     -7.95    0.57   2.67 -14.04  -9.58  -7.63  -6.04  -3.55     22   1.06\n",
      "\n",
      "Samples were drawn using NUTS at Thu Dec 13 15:57:48 2018.\n",
      "For each parameter, n_eff is a crude measure of effective sample size,\n",
      "and Rhat is the potential scale reduction factor on split chains (at \n",
      "convergence, Rhat=1).\n",
      "ID = 7273426\n",
      "Inference for Stan model: anon_model_cc0ddc959414ab6fac6e16ba6472391d.\n",
      "4 chains, each with iter=5000; warmup=2500; thin=1; \n",
      "post-warmup draws per chain=2500, total post-warmup draws=10000.\n",
      "\n",
      "          mean se_mean     sd   2.5%    25%    50%    75%  97.5%  n_eff   Rhat\n",
      "dnu       3.88  4.9e-5 3.9e-3   3.88   3.88   3.88   3.89   3.89   6508    1.0\n",
      "nmax      7.45  1.0e-3   0.08   7.28    7.4   7.45    7.5    7.6   5726    1.0\n",
      "epsilon   0.82  1.2e-4 9.1e-3    0.8   0.81   0.82   0.82   0.84   5796    1.0\n",
      "alpha     0.02  4.2e-5 3.4e-3   0.02   0.02   0.02   0.03   0.03   6547    1.0\n",
      "A         0.04  7.1e-5 6.7e-3   0.02   0.03   0.03   0.04   0.05   8926    1.0\n",
      "G          3.0  4.0e-3    0.3   2.47   2.79   2.99    3.2   3.64   5605    1.0\n",
      "phi       1.28  3.7e-3   0.28   0.76   1.09   1.26   1.44   1.89   5716    1.0\n",
      "epsA      0.58  7.8e-4   0.08   0.43   0.53   0.58   0.64   0.74   9978    1.0\n",
      "epsB      0.61  7.9e-4   0.08   0.46   0.56   0.61   0.67   0.76   9903    1.0\n",
      "alA       0.02  3.6e-5 3.8e-3   0.01   0.02   0.02   0.02   0.03  11260    1.0\n",
      "alB       0.27  7.5e-4   0.08   0.12   0.22   0.27   0.33   0.42  10581    1.0\n",
      "fm[1]    22.92  2.6e-4   0.03  22.87   22.9  22.92  22.94  22.98  11632    1.0\n",
      "fm[2]    26.52  1.6e-4   0.02  26.49  26.51  26.52  26.53  26.55  10046    1.0\n",
      "fm[3]     30.4  1.3e-4   0.01  30.37  30.39   30.4  30.41  30.42  11055    1.0\n",
      "fm[4]    34.31  2.6e-4   0.02  34.26  34.29  34.31  34.32  34.35   7175    1.0\n",
      "fm[5]    38.19  1.3e-4   0.01  38.16  38.18  38.19   38.2  38.21  10666    1.0\n",
      "fm[6]    42.34  2.8e-4   0.03  42.28  42.32  42.34  42.36   42.4  10803    1.0\n",
      "lp__     -6.12    0.04   2.35 -11.48  -7.52  -5.81  -4.39  -2.49   4233    1.0\n",
      "\n",
      "Samples were drawn using NUTS at Thu Dec 13 15:57:51 2018.\n",
      "For each parameter, n_eff is a crude measure of effective sample size,\n",
      "and Rhat is the potential scale reduction factor on split chains (at \n",
      "convergence, Rhat=1).\n"
     ]
    }
   ],
   "source": [
    "for i in IDs:\n",
    "    print('ID = ' + str(i))\n",
    "    print(fits[str(i)])"
   ]
  },
  {
   "cell_type": "code",
   "execution_count": 12,
   "metadata": {},
   "outputs": [
    {
     "data": {
      "image/png": "[encoded data removed]",
      "text/plain": [
       "<Figure size 432x288 with 1 Axes>"
      ]
     },
     "metadata": {
      "needs_background": "light"
     },
     "output_type": "display_data"
    }
   ],
   "source": [
    "for i in IDs:\n",
    "    stanfit = model(modes[str(i)].n, fits[str(i)]['dnu'].mean(), fits[str(i)]['nmax'].mean(), fits[str(i)]['epsilon'].mean(), fits[str(i)]['alpha'].mean(), fits[str(i)]['A'].mean(), fits[str(i)]['G'].mean(), fits[str(i)]['phi'].mean())\n",
    "    stan_dnu = fits[str(i)]['dnu'].mean()\n",
    "    echelle(stardat, modes, i, True, stanfit, stan_dnu)"
   ]
  },
  {
   "cell_type": "code",
   "execution_count": null,
   "metadata": {},
   "outputs": [],
   "source": [
    "import corner\n",
    "data = np.vstack([fit['dnu'], fit['nmax'], fit['epsilon'], fit['alpha'], fit['A'], fit['G'], fit['phi'], \n",
    "                fit['epsA'], fit['epsB'], fit['alA'], fit['alB'], fit['AA'], fit['AB']]).T\n",
    "corner.corner(data, labels=['dnu', 'nmax', 'epsilon', 'alpha', 'A', 'G', 'phi', 'epsA', 'epsB', 'alA', 'alB', 'AA', 'AB'])\n",
    "plt.show()"
   ]
  }
 ],
 "metadata": {
  "kernelspec": {
   "display_name": "Python 3",
   "language": "python",
   "name": "python3"
  },
  "language_info": {
   "codemirror_mode": {
    "name": "ipython",
    "version": 3
   },
   "file_extension": ".py",
   "mimetype": "text/x-python",
   "name": "python",
   "nbconvert_exporter": "python",
   "pygments_lexer": "ipython3",
   "version": "3.7.0"
  }
 },
 "nbformat": 4,
 "nbformat_minor": 2
}
