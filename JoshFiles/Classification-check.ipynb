{
 "cells": [
  {
   "cell_type": "code",
   "execution_count": 1,
   "metadata": {},
   "outputs": [],
   "source": [
    "# ORIGINAL RGB FILE\n",
    "import numpy as np\n",
    "import pandas as pd\n",
    "import matplotlib.pyplot as plt\n",
    "import random\n",
    "import pystan\n",
    "import os\n",
    "\n",
    "from IPython.display import display\n",
    "\n",
    "from matplotlib import rc\n",
    "rc(\"font\", family=\"serif\", size=11)\n",
    "\n",
    "import itertools\n",
    "colours = itertools.cycle(('r', 'b', 'g', 'orange', 'purple', 'k'))\n",
    "\n",
    "%matplotlib notebook"
   ]
  },
  {
   "cell_type": "code",
   "execution_count": 21,
   "metadata": {},
   "outputs": [
    {
     "name": "stdout",
     "output_type": "stream",
     "text": [
      "1212\n"
     ]
    },
    {
     "name": "stderr",
     "output_type": "stream",
     "text": [
      "/Library/Frameworks/Python.framework/Versions/3.7/lib/python3.7/site-packages/ipykernel_launcher.py:25: DeprecationWarning: The truth value of an empty array is ambiguous. Returning False, but in future this will result in an error. Use `array.size > 0` to check that an array is not empty.\n"
     ]
    },
    {
     "name": "stdout",
     "output_type": "stream",
     "text": [
      "423\n"
     ]
    }
   ],
   "source": [
    "#Import output data\n",
    "output = pd.read_csv('../data/output_back_filesremoved.csv', usecols=[1,11,24])\n",
    "#IDs = [(output.loc[output['ID'] == random.choice(output['ID'])]).iloc[0]['Numax'] for i in range(5)]\n",
    "df_met = pd.read_csv('../data/APOKASCfull.csv')\n",
    "df_class = pd.read_csv('../data/RGclassification.txt', header=None, delim_whitespace=True, names=['KIC', 'type'])\n",
    "\n",
    "#Set numax range so stars are chosen with similar size echelles\n",
    "rng = 30\n",
    "numax_tgt = 75\n",
    "#output = output.loc[(np.abs(output['numax'] - numax_tgt) < rng)].reset_index(drop=True)\n",
    "\n",
    "#Number of stars to model (between 1 and 1212) and star classification (RGB, RC, 2CL, U)\n",
    "#nStars = 60\n",
    "RGclass = 'RGB'\n",
    "\n",
    "nStars = len(output.kic)\n",
    "\n",
    "print(nStars)\n",
    "\n",
    "#Selects a random sample of stars from the file, recording their IDs and makes sure the stars exist in APOKASC fil\n",
    "IDs = []*nStars\n",
    "i = 0\n",
    "for i in range(len(output.kic.values)):\n",
    "    nextID = output.kic.values[i]\n",
    "    if df_class.loc[df_class['KIC'] == nextID].type.values == RGclass:\n",
    "        #for j in range(len(df_met.KIC)):\n",
    "            #if nextID == df_met.KIC[j]:\n",
    "        IDs.append(nextID)\n",
    "\n",
    "#Add the Elsworth classification\n",
    "\n",
    "#Chooses specific stars each time\n",
    "#IDs = [8759811, 10416550, 8824452, 11821439, 9470276]\n",
    "\n",
    "# Create a list of the numax values and errors corresponding to each ID\n",
    "Numax = [(output.loc[(output['kic'] == IDs[i])]).iloc[0]['numax'] for i in range(len(IDs))]\n",
    "Numax_err = [(output.loc[(output['kic'] == IDs[i])]).iloc[0]['numax_err'] for i in range(len(IDs))]\n",
    "\n",
    "print(len(IDs))"
   ]
  },
  {
   "cell_type": "code",
   "execution_count": 20,
   "metadata": {},
   "outputs": [
    {
     "name": "stdout",
     "output_type": "stream",
     "text": [
      "127\n"
     ]
    }
   ],
   "source": [
    "n= 423+98+505+59 #RGB + 2CL + RC + U\n",
    "print(1212-n)"
   ]
  },
  {
   "cell_type": "code",
   "execution_count": null,
   "metadata": {},
   "outputs": [],
   "source": []
  }
 ],
 "metadata": {
  "kernelspec": {
   "display_name": "Python 3",
   "language": "python",
   "name": "python3"
  },
  "language_info": {
   "codemirror_mode": {
    "name": "ipython",
    "version": 3
   },
   "file_extension": ".py",
   "mimetype": "text/x-python",
   "name": "python",
   "nbconvert_exporter": "python",
   "pygments_lexer": "ipython3",
   "version": "3.7.0"
  }
 },
 "nbformat": 4,
 "nbformat_minor": 2
}
