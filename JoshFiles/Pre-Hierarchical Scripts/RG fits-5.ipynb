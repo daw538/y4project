{
 "cells": [
  {
   "cell_type": "markdown",
   "metadata": {},
   "source": [
    "# Red Giant Mode fitting\n",
    "\n",
    "Fitting $nstars$ RG stars chosen at random."
   ]
  },
  {
   "cell_type": "code",
   "execution_count": 63,
   "metadata": {},
   "outputs": [],
   "source": [
    "import numpy as np\n",
    "import pandas as pd\n",
    "import matplotlib.pyplot as plt\n",
    "import seaborn as sns\n",
    "import pystan\n",
    "import random"
   ]
  },
  {
   "cell_type": "code",
   "execution_count": 85,
   "metadata": {},
   "outputs": [],
   "source": [
    "#import output data\n",
    "nstars = 5\n",
    "IDs = []\n",
    "stardat = pd.read_csv('RGdata/output_1000stars.csv', delim_whitespace=False, header=0, usecols=range(1,4))\n",
    "for i in range(nstars):\n",
    "    IDs.append(random.choice(stardat['ID']))\n",
    "\n",
    "modes = {} # dictionary with frequencies and errors\n",
    "for i in IDs:\n",
    "    modes[str(i)] = pd.read_csv('RGdata/modes_'+str(i)+'.csv', delim_whitespace=False, header=0, usecols=[0,7])\n",
    "    modes[str(i)] = modes[str(i)].sort_values(by=['f0'])\n",
    "    modes[str(i)] = modes[str(i)].set_index(np.arange(0,len(modes[str(i)]),1))\n",
    "    modes[str(i)]['dnu'] = modes[str(i)].f0.diff(2).shift(-1)/2\n",
    "    dnu_avg = np.mean(modes[str(i)].dnu)\n",
    "    n_min = int(modes[str(i)].f0.min() / dnu_avg)\n",
    "    n_obs = np.arange(n_min, n_min+len(modes[str(i)].f0), 1)\n",
    "    modes[str(i)]['n'] = n_obs\n",
    "    \n",
    "stardat= stardat.loc[stardat['ID'].isin(IDs)]"
   ]
  },
  {
   "cell_type": "markdown",
   "metadata": {},
   "source": [
    "To find a ballpark figure before defining priors, will use model:\n",
    "\n",
    "$$\\nu(n)=(n+\\epsilon)\\langle\\Delta\\nu\\rangle+k(n_{max}-n)^2+\\mathcal{A}e^{-n/\\tau}sin(nw+\\phi)$$\n",
    "\n",
    "where $n_{max}= \\nu_{max}/\\Delta\\nu - \\epsilon$"
   ]
  },
  {
   "cell_type": "code",
   "execution_count": 75,
   "metadata": {},
   "outputs": [],
   "source": [
    "def echelle(stardat, modes, ID, model=False, stanfit=[], stan_dnu=0):\n",
    "    numax_obs = float(stardat.loc[stardat['ID'] == ID].Numax)\n",
    "    numax_obs_err = float(stardat.loc[stardat['ID'] == ID].Numax_err)\n",
    "    #dnu_obs = float(stardat.loc[stardat.ID == IDs[i]].Dnu_median_all)\n",
    "    #dnu_obs = np.mean(np.diff(modes[str(IDs[i])].f0)) \n",
    "    dnu_obs = np.mean(modes[str(ID)].f0.diff(2).shift(-1)/2)\n",
    "    # Create dataframes for frequencies and calculate orders n\n",
    "    l0modes = pd.DataFrame([modes[str(ID)].f0, modes[str(ID)].f0_err])\n",
    "    l0modes = l0modes.T\n",
    "    l0modes = l0modes.sort_values('f0', ascending=True)\n",
    "    n_min = int(l0modes.f0.min() / dnu_obs)\n",
    "    n_obs = np.arange(n_min, n_min+len(l0modes.f0), 1)\n",
    "    l0modes['n'] = n_obs\n",
    "    l0modes = l0modes.set_index(np.arange(0, len(l0modes.f0), 1))\n",
    "    plt.scatter(l0modes.f0 % dnu_obs, l0modes.f0, label = str(ID))\n",
    "    \n",
    "    if model:\n",
    "        label = 'Stan Fit'+str(ID)\n",
    "        plt.plot(stanfit % stan_dnu, stanfit, label = label)\n"
   ]
  },
  {
   "cell_type": "code",
   "execution_count": 66,
   "metadata": {},
   "outputs": [],
   "source": [
    "def model(n, dnu, nmax, epsilon, k, A, w, tau, phi):\n",
    "    freqs = (n + epsilon) * dnu + k * (nmax - n)**2 + A * np.exp(-n/tau) * np.sin(n * w + phi);\n",
    "    return freqs"
   ]
  },
  {
   "cell_type": "code",
   "execution_count": 67,
   "metadata": {},
   "outputs": [
    {
     "data": {
      "text/plain": [
       "<matplotlib.legend.Legend at 0x128500c50>"
      ]
     },
     "execution_count": 67,
     "metadata": {},
     "output_type": "execute_result"
    },
    {
     "data": {
      "image/png": "[encoded data removed]",
      "text/plain": [
       "<Figure size 432x288 with 1 Axes>"
      ]
     },
     "metadata": {
      "needs_background": "light"
     },
     "output_type": "display_data"
    }
   ],
   "source": [
    "for i in IDs:   \n",
    "    echelle(stardat, modes, i)\n",
    "    \n",
    "    '''n = l0modes.n\n",
    "    epsilon = 0.4\n",
    "    nmax = numax_obs/dnu_obs - epsilon\n",
    "    k = 0.1\n",
    "    A = 0.2\n",
    "    w = 3\n",
    "    tau = 8\n",
    "    phi = 0\n",
    "    f = model(n, dnu_obs, nmax, epsilon, k, A, w, tau, phi)\n",
    "    plt.plot(f % dnu_obs, f, label = str(IDs[i])+'model')'''\n",
    "    \n",
    "\n",
    "plt.xlabel(r'Frequency modulo ($\\mu Hz$)')\n",
    "plt.ylabel(r'Frequency ($\\mu Hz$)')\n",
    "plt.legend()\n",
    "#plt.xlim(3.0, dnu_obs)"
   ]
  },
  {
   "cell_type": "code",
   "execution_count": 68,
   "metadata": {},
   "outputs": [
    {
     "data": {
      "text/plain": [
       "\"plt.scatter(l0modes.f0 % dnu_obs, l0modes.f0, label = 'Data') \\nplt.plot(f % dnu_obs, f, label = 'Model')\\nplt.xlabel(r'Frequency modulo ($\\\\mu Hz$)')\\nplt.ylabel(r'Frequency ($\\\\mu Hz$)')\\n#mod_err = (l0modes.f0 % dnu_obs)*np.sqrt((dnu_obs_err/dnu_obs)**2 + (l0modes.f0_err/l0modes.f0)**2)\\nplt.errorbar(l0modes.f0 % dnu_obs, l0modes.f0, yerr = l0modes.f0_err, xerr = mod_err, ecolor = 'r', ls='none', label = 'Error')\\nplt.legend()\""
      ]
     },
     "execution_count": 68,
     "metadata": {},
     "output_type": "execute_result"
    }
   ],
   "source": [
    "'''plt.scatter(l0modes.f0 % dnu_obs, l0modes.f0, label = 'Data') \n",
    "plt.plot(f % dnu_obs, f, label = 'Model')\n",
    "plt.xlabel(r'Frequency modulo ($\\mu Hz$)')\n",
    "plt.ylabel(r'Frequency ($\\mu Hz$)')\n",
    "#mod_err = (l0modes.f0 % dnu_obs)*np.sqrt((dnu_obs_err/dnu_obs)**2 + (l0modes.f0_err/l0modes.f0)**2)\n",
    "plt.errorbar(l0modes.f0 % dnu_obs, l0modes.f0, yerr = l0modes.f0_err, xerr = mod_err, ecolor = 'r', ls='none', label = 'Error')\n",
    "plt.legend()'''"
   ]
  },
  {
   "cell_type": "code",
   "execution_count": 69,
   "metadata": {},
   "outputs": [
    {
     "name": "stderr",
     "output_type": "stream",
     "text": [
      "INFO:pystan:COMPILING THE C++ CODE FOR MODEL anon_model_9c447c93b58b94cf47f14613c64c8a71 NOW.\n",
      "/Library/Frameworks/Python.framework/Versions/3.7/lib/python3.7/site-packages/Cython/Compiler/Main.py:367: FutureWarning: Cython directive 'language_level' not set, using 2 for now (Py2). This will change in a later release! File: /var/folders/2_/b8v0t8pn1hj1p3r4lyfvvv2h0000gn/T/tmpx74lk92g/stanfit4anon_model_9c447c93b58b94cf47f14613c64c8a71_2266244592247187319.pyx\n",
      "  tree = Parsing.p_module(s, pxd, full_module_name)\n"
     ]
    }
   ],
   "source": [
    "code = '''\n",
    "data {\n",
    "    int N;\n",
    "    real n[N];\n",
    "    real freq[N];\n",
    "    real freq_err[N];\n",
    "    real dnu_guess;\n",
    "}\n",
    "parameters {\n",
    "    real dnu;\n",
    "    real epsilon;\n",
    "    real nmax;\n",
    "    real k;\n",
    "    real<lower = 0> A;\n",
    "    real<lower = 0, upper = 1.5> w;\n",
    "    real<lower = -2.0*pi(), upper = 2.0*pi()> phi;\n",
    "    real<lower = 0> tau;\n",
    "}\n",
    "model {\n",
    "    real mod[N];\n",
    "    for (i in 1:N){\n",
    "        mod[i] = (n[i] + epsilon) * dnu + k * (nmax - n[i])^2 + \n",
    "            A * exp(-n[i]/tau) * sin(n[i] * w + phi);\n",
    "    }\n",
    "    mod ~ normal(freq, freq_err);\n",
    "    dnu ~ normal(dnu_guess, dnu_guess*0.001);\n",
    "    epsilon ~ normal(1.0, 0.3);\n",
    "    epsilon ~ uniform(-1.0, 2.0);\n",
    "    nmax ~ normal(20, 4);\n",
    "    k ~ lognormal(log(0.1), 0.3);\n",
    "    A ~ lognormal(log(1), 0.4);\n",
    "    w ~ normal(0.8, 0.1);\n",
    "    tau ~ normal(50, 10);\n",
    "}\n",
    "generated quantities{\n",
    "    real fm[N];\n",
    "    for (j in 1:N){\n",
    "        fm[j] = (n[j] + epsilon) * dnu + k * (nmax - n[j])^2 + \n",
    "            A * exp(-n[j]/tau) * sin(n[j] * w + phi);\n",
    "    }\n",
    "}\n",
    "'''\n",
    "sm = pystan.StanModel(model_code=code)"
   ]
  },
  {
   "cell_type": "code",
   "execution_count": 82,
   "metadata": {},
   "outputs": [
    {
     "name": "stderr",
     "output_type": "stream",
     "text": [
      "WARNING:pystan:10 of 10000 iterations ended with a divergence (0.1%).\n",
      "WARNING:pystan:Try running with adapt_delta larger than 0.8 to remove the divergences.\n",
      "WARNING:pystan:23 of 10000 iterations ended with a divergence (0.23%).\n",
      "WARNING:pystan:Try running with adapt_delta larger than 0.8 to remove the divergences.\n",
      "WARNING:pystan:52 of 10000 iterations ended with a divergence (0.52%).\n",
      "WARNING:pystan:Try running with adapt_delta larger than 0.8 to remove the divergences.\n",
      "WARNING:pystan:27 of 10000 iterations ended with a divergence (0.27%).\n",
      "WARNING:pystan:Try running with adapt_delta larger than 0.8 to remove the divergences.\n",
      "WARNING:pystan:2 of 10000 iterations ended with a divergence (0.02%).\n",
      "WARNING:pystan:Try running with adapt_delta larger than 0.8 to remove the divergences.\n"
     ]
    }
   ],
   "source": [
    "fits = {}\n",
    "for i in IDs:\n",
    "    dat_star = stardat.loc[stardat['ID'] == i]\n",
    "    df_star = modes[str(i)]\n",
    "    df_star = df_star.sort_values(by=['f0'])\n",
    "    dnu_obs = np.mean(df_star.dnu)\n",
    "    numax_obs = float(dat_star.loc[dat_star['ID'] == i].Numax)\n",
    "    df_star = df_star.set_index(np.arange(0, len(df_star.f0), 1))\n",
    "    nmax_guess = np.mean(df_star.n)\n",
    "    epsilon_obs = np.median((df_star.f0 % dnu_obs) / dnu_obs)\n",
    "    \n",
    "    data = {'N': len(df_star.f0), 'n': df_star.n.values, 'freq': df_star.f0.values,\n",
    "            'freq_err': df_star.f0_err.values, 'dnu_guess': dnu_obs}\n",
    "    start = {'dnu': dnu_obs, 'epsilon': epsilon_obs, \n",
    "             'nmax': numax_obs/dnu_obs - epsilon_obs, 'k': 0.1, 'A': 1.0,\n",
    "             'w': 0.8, 'phi': 2.0, 'tau': 50}\n",
    "    nchains=4\n",
    "    fit = sm.sampling(data=data, iter=5000, chains=nchains, init=[start for n in range(nchains)])\n",
    "    fits[str(i)] = fit\n",
    "    output = pd.DataFrame({'dnu': fit['dnu'], 'nmax': fit['nmax'], 'epsilon': fit['epsilon'], \n",
    "                           'k': fit['k'], 'A': fit['A'], 'w': fit['w'], 'phi': fit['phi'], 'tau': fit['tau']})\n",
    "    #output.to_csv('samples_' + str(i) + '.csv')"
   ]
  },
  {
   "cell_type": "code",
   "execution_count": 83,
   "metadata": {},
   "outputs": [
    {
     "name": "stdout",
     "output_type": "stream",
     "text": [
      "ID = 3527032\n",
      "Inference for Stan model: anon_model_9c447c93b58b94cf47f14613c64c8a71.\n",
      "4 chains, each with iter=5000; warmup=2500; thin=1; \n",
      "post-warmup draws per chain=2500, total post-warmup draws=10000.\n",
      "\n",
      "          mean se_mean     sd   2.5%    25%    50%    75%  97.5%  n_eff   Rhat\n",
      "dnu       4.55  5.6e-5 4.5e-3   4.54   4.55   4.55   4.56   4.56   6558    1.0\n",
      "epsilon  -0.05  6.7e-4   0.03  -0.13  -0.07  -0.05  -0.03-1.2e-3   2155    1.0\n",
      "nmax      9.17  3.5e-3    0.2   8.74   9.06   9.18   9.29   9.52   3103    1.0\n",
      "k         0.07  2.2e-4   0.01   0.05   0.06   0.07   0.08    0.1   2611    1.0\n",
      "A         0.49  3.5e-3   0.17   0.24   0.37   0.46   0.58   0.89   2165    1.0\n",
      "w         0.53  1.3e-3   0.07    0.4   0.49   0.53   0.58   0.67   2633    1.0\n",
      "phi       3.11    0.01   0.66   1.78   2.67    3.1   3.55   4.41   2487    1.0\n",
      "tau       47.7    0.14  10.63  26.45   40.8  47.79  54.84  68.12   5846    1.0\n",
      "fm[1]    27.84  1.2e-4   0.01  27.81  27.83  27.84  27.85  27.86   9382    1.0\n",
      "fm[2]     32.2  2.3e-4   0.02  32.17  32.19   32.2  32.21  32.23   4418    1.0\n",
      "fm[3]    36.65  1.6e-4   0.01  36.63  36.64  36.65  36.66  36.67   5468    1.0\n",
      "fm[4]    41.14  6.4e-5 6.3e-3  41.13  41.14  41.14  41.15  41.16   9783    1.0\n",
      "fm[5]    45.68  1.1e-4 9.9e-3  45.66  45.67  45.68  45.68   45.7   8199    1.0\n",
      "fm[6]    50.27  1.5e-4   0.01  50.25  50.26  50.27  50.28   50.3   8313    1.0\n",
      "fm[7]    54.98  2.6e-4   0.02  54.93  54.96  54.98  54.99  55.02   8071    1.0\n",
      "fm[8]    59.84  7.1e-4   0.06  59.72   59.8  59.84  59.88  59.96   7484    1.0\n",
      "lp__    -35.47    0.04   2.15 -40.57 -36.69 -35.12 -33.89  -32.4   2803    1.0\n",
      "\n",
      "Samples were drawn using NUTS at Wed Dec 12 17:42:44 2018.\n",
      "For each parameter, n_eff is a crude measure of effective sample size,\n",
      "and Rhat is the potential scale reduction factor on split chains (at \n",
      "convergence, Rhat=1).\n",
      "ID = 4057744\n",
      "Inference for Stan model: anon_model_9c447c93b58b94cf47f14613c64c8a71.\n",
      "4 chains, each with iter=5000; warmup=2500; thin=1; \n",
      "post-warmup draws per chain=2500, total post-warmup draws=10000.\n",
      "\n",
      "          mean se_mean     sd   2.5%    25%    50%    75%  97.5%  n_eff   Rhat\n",
      "dnu       2.93  3.5e-5 3.0e-3   2.93   2.93   2.93   2.94   2.94   7216    1.0\n",
      "epsilon   0.66  1.3e-3   0.04   0.56   0.63   0.66   0.69   0.73   1099    1.0\n",
      "nmax      8.95  1.5e-3   0.09   8.79   8.89   8.95   9.01   9.15   3705    1.0\n",
      "k         0.11  4.5e-4   0.02   0.08    0.1   0.11   0.12   0.15   1628    1.0\n",
      "A         0.58  4.4e-3   0.15   0.34   0.47   0.56   0.66   0.93   1210    1.0\n",
      "w          0.8  1.5e-3   0.07   0.65   0.75    0.8   0.85   0.94   2207    1.0\n",
      "phi        0.8    0.01    0.6   -0.4   0.39   0.81   1.21    2.0   2224    1.0\n",
      "tau      47.39    0.15   10.8  26.07  40.02  47.52  54.75  67.82   5506    1.0\n",
      "fm[1]     20.2  1.9e-4   0.02  20.17  20.19   20.2  20.22  20.24  10331    1.0\n",
      "fm[2]    22.95  1.1e-4   0.01  22.93  22.95  22.95  22.96  22.97   8939    1.0\n",
      "fm[3]    25.88  1.2e-4   0.01  25.86  25.87  25.88  25.89   25.9   9127    1.0\n",
      "fm[4]     28.8  1.8e-4   0.02  28.77  28.79   28.8  28.81  28.83   9671    1.0\n",
      "fm[5]    31.67  2.5e-4   0.02  31.62  31.66  31.67  31.69  31.72   9061    1.0\n",
      "fm[6]    34.62  3.2e-4   0.03  34.56   34.6  34.62  34.64  34.68   9897    1.0\n",
      "fm[7]    37.84  1.1e-3   0.07   37.7  37.79  37.84  37.89  37.99   4879    1.0\n",
      "lp__    -22.96    0.04   2.11 -27.88 -24.18 -22.63 -21.38 -19.88   3069    1.0\n",
      "\n",
      "Samples were drawn using NUTS at Wed Dec 12 17:42:53 2018.\n",
      "For each parameter, n_eff is a crude measure of effective sample size,\n",
      "and Rhat is the potential scale reduction factor on split chains (at \n",
      "convergence, Rhat=1).\n",
      "ID = 11020211\n",
      "Inference for Stan model: anon_model_9c447c93b58b94cf47f14613c64c8a71.\n",
      "4 chains, each with iter=5000; warmup=2500; thin=1; \n",
      "post-warmup draws per chain=2500, total post-warmup draws=10000.\n",
      "\n",
      "          mean se_mean     sd   2.5%    25%    50%    75%  97.5%  n_eff   Rhat\n",
      "dnu       9.95  1.5e-4 9.9e-3   9.93   9.94   9.95   9.96   9.97   4663    1.0\n",
      "epsilon    0.1  2.9e-4   0.02   0.07   0.09    0.1   0.11   0.13   2861    1.0\n",
      "nmax     10.78  1.2e-3   0.07  10.65  10.73  10.78  10.83  10.93   3834    1.0\n",
      "k         0.16  3.9e-4   0.02   0.12   0.14   0.16   0.17    0.2   2724    1.0\n",
      "A         0.55  3.0e-3   0.15   0.32   0.45   0.54   0.64   0.89   2390    1.0\n",
      "w         0.86  1.5e-3   0.08   0.71    0.8   0.86   0.91   1.02   2684    1.0\n",
      "phi      -1.15    0.02   0.82  -2.84  -1.67  -1.12  -0.59   0.41   2700    1.0\n",
      "tau      46.59    0.15  10.73  24.37  39.76  47.01  53.87  66.78   5062    1.0\n",
      "fm[1]    81.62  2.1e-4   0.02  81.58   81.6  81.62  81.63  81.66  10343    1.0\n",
      "fm[2]    91.22  1.8e-4   0.02  91.19  91.21  91.22  91.23  91.25   8176    1.0\n",
      "fm[3]   101.04  9.3e-5 9.0e-3 101.02 101.03 101.04 101.05 101.06   9333    1.0\n",
      "fm[4]    110.9  8.5e-5 8.5e-3 110.88 110.89  110.9 110.91 110.92   9969    1.0\n",
      "fm[5]   120.82  1.6e-4   0.02 120.78  120.8 120.81 120.83 120.84   9264    1.0\n",
      "fm[6]   130.98  3.7e-4   0.03 130.91 130.95 130.98  131.0 131.04   8575    1.0\n",
      "fm[7]    141.6  1.5e-3   0.11 141.38 141.53  141.6 141.68 141.82   5778    1.0\n",
      "lp__     -33.2    0.04   2.12 -38.23  -34.4 -32.87 -31.65 -30.09   3077    1.0\n",
      "\n",
      "Samples were drawn using NUTS at Wed Dec 12 17:43:03 2018.\n",
      "For each parameter, n_eff is a crude measure of effective sample size,\n",
      "and Rhat is the potential scale reduction factor on split chains (at \n",
      "convergence, Rhat=1).\n",
      "ID = 11244855\n",
      "Inference for Stan model: anon_model_9c447c93b58b94cf47f14613c64c8a71.\n",
      "4 chains, each with iter=5000; warmup=2500; thin=1; \n",
      "post-warmup draws per chain=2500, total post-warmup draws=10000.\n",
      "\n",
      "          mean se_mean     sd   2.5%    25%    50%    75%  97.5%  n_eff   Rhat\n",
      "dnu       4.24  4.9e-5 4.2e-3   4.23   4.23   4.24   4.24   4.24   7543    1.0\n",
      "epsilon  -0.09  6.3e-4   0.03  -0.15  -0.11  -0.09  -0.07  -0.03   2402    1.0\n",
      "nmax      9.22    0.01   0.47   8.58   8.89   9.13   9.45   10.4   1954    1.0\n",
      "k         0.08  3.8e-4   0.02   0.04   0.07   0.08   0.09   0.12   2617    1.0\n",
      "A         0.48  3.2e-3   0.15   0.25   0.37   0.46   0.57   0.83   2160    1.0\n",
      "w          0.6  1.6e-3   0.08   0.44   0.54    0.6   0.65   0.76   2671    1.0\n",
      "phi       1.99    0.01   0.67   0.65   1.54   2.01   2.44   3.26   3094    1.0\n",
      "tau      47.98    0.14   10.4   27.4  41.06  48.05  54.97  68.07   5431    1.0\n",
      "fm[1]    25.61  2.2e-4   0.02  25.57   25.6  25.61  25.62  25.65   9311    1.0\n",
      "fm[2]    29.63  1.5e-4   0.01   29.6  29.62  29.63  29.64  29.66   9329    1.0\n",
      "fm[3]    33.82  1.4e-4   0.01  33.79  33.81  33.82  33.82  33.84   7444    1.0\n",
      "fm[4]    38.09  1.3e-4   0.01  38.06  38.08  38.09   38.1  38.12   9826    1.0\n",
      "fm[5]    42.41  2.2e-4   0.02  42.38   42.4  42.41  42.43  42.45   6447    1.0\n",
      "fm[6]    46.78  3.3e-4   0.03  46.72  46.76  46.78   46.8  46.84   8103    1.0\n",
      "lp__    -27.53    0.04   2.07 -32.29 -28.68 -27.23  -26.0 -24.49   3017    1.0\n",
      "\n",
      "Samples were drawn using NUTS at Wed Dec 12 17:43:11 2018.\n",
      "For each parameter, n_eff is a crude measure of effective sample size,\n",
      "and Rhat is the potential scale reduction factor on split chains (at \n",
      "convergence, Rhat=1).\n",
      "ID = 6192431\n",
      "Inference for Stan model: anon_model_9c447c93b58b94cf47f14613c64c8a71.\n",
      "4 chains, each with iter=5000; warmup=2500; thin=1; \n",
      "post-warmup draws per chain=2500, total post-warmup draws=10000.\n",
      "\n",
      "          mean se_mean     sd   2.5%    25%    50%    75%  97.5%  n_eff   Rhat\n",
      "dnu       4.08  4.6e-5 4.1e-3   4.07   4.08   4.08   4.09   4.09   7697    1.0\n",
      "epsilon   0.77  7.1e-4   0.03   0.69   0.75   0.77   0.79   0.82   2320    1.0\n",
      "nmax      8.27  4.1e-3   0.22   7.98   8.12   8.22   8.37   8.82   2861    1.0\n",
      "k         0.11  3.8e-4   0.02   0.07   0.09   0.11   0.12   0.15   2932    1.0\n",
      "A         0.56  3.4e-3   0.16   0.31   0.44   0.53   0.65   0.94   2280    1.0\n",
      "w         0.71  1.8e-3   0.08   0.54   0.66   0.71   0.77   0.88   2266    1.0\n",
      "phi       1.84    0.01   0.62   0.58   1.44   1.84   2.25   3.04   2291    1.0\n",
      "tau      48.62    0.13  10.35  28.28   41.7  48.69  55.61  68.75   6289    1.0\n",
      "fm[1]    24.33  2.6e-4   0.03  24.27  24.31  24.33  24.34  24.38  10453    1.0\n",
      "fm[2]    28.12  2.9e-4   0.02  28.07   28.1  28.12  28.13  28.16   6137    1.0\n",
      "fm[3]    32.14  1.2e-4   0.01  32.12  32.14  32.14  32.15  32.17  10095    1.0\n",
      "fm[4]    36.26  1.7e-4   0.02  36.22  36.24  36.26  36.27  36.29   8627    1.0\n",
      "fm[5]    40.37  2.6e-4   0.02  40.32  40.35  40.37  40.38  40.41   7301    1.0\n",
      "fm[6]     44.5  3.7e-4   0.03  44.44  44.48   44.5  44.53  44.57   7428    1.0\n",
      "fm[7]    48.78  8.6e-4   0.07  48.64  48.73  48.78  48.83  48.92   6919    1.0\n",
      "lp__     -5.18    0.04   2.16 -10.32  -6.37  -4.85  -3.61  -1.98   2871    1.0\n",
      "\n",
      "Samples were drawn using NUTS at Wed Dec 12 17:43:18 2018.\n",
      "For each parameter, n_eff is a crude measure of effective sample size,\n",
      "and Rhat is the potential scale reduction factor on split chains (at \n",
      "convergence, Rhat=1).\n"
     ]
    }
   ],
   "source": [
    "for i in IDs:\n",
    "    print('ID = ' + str(i))\n",
    "    print(fits[str(i)])"
   ]
  },
  {
   "cell_type": "code",
   "execution_count": 84,
   "metadata": {},
   "outputs": [
    {
     "data": {
      "image/png": "[encoded data removed]",
      "text/plain": [
       "<Figure size 432x288 with 1 Axes>"
      ]
     },
     "metadata": {
      "needs_background": "light"
     },
     "output_type": "display_data"
    }
   ],
   "source": [
    "for i in IDs:\n",
    "    stanfit = model(modes[str(i)].n, fits[str(i)]['dnu'].mean(), fits[str(i)]['nmax'].mean(), fits[str(i)]['epsilon'].mean(), fits[str(i)]['k'].mean(), fits[str(i)]['A'].mean(), fits[str(i)]['w'].mean(), fits[str(i)]['tau'].mean(), fits[str(i)]['phi'].mean())\n",
    "    stan_dnu = fits[str(i)]['dnu'].mean()\n",
    "    echelle(stardat, modes, i, True, stanfit, stan_dnu)"
   ]
  },
  {
   "cell_type": "code",
   "execution_count": null,
   "metadata": {},
   "outputs": [],
   "source": []
  }
 ],
 "metadata": {
  "kernelspec": {
   "display_name": "Python 3",
   "language": "python",
   "name": "python3"
  },
  "language_info": {
   "codemirror_mode": {
    "name": "ipython",
    "version": 3
   },
   "file_extension": ".py",
   "mimetype": "text/x-python",
   "name": "python",
   "nbconvert_exporter": "python",
   "pygments_lexer": "ipython3",
   "version": "3.7.0"
  }
 },
 "nbformat": 4,
 "nbformat_minor": 2
}
