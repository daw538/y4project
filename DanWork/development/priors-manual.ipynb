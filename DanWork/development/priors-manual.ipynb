{
 "cells": [
  {
   "cell_type": "code",
   "execution_count": 1,
   "metadata": {},
   "outputs": [],
   "source": [
    "import numpy as np\n",
    "import matplotlib.pyplot as plt\n",
    "import pandas as pd"
   ]
  },
  {
   "cell_type": "markdown",
   "metadata": {},
   "source": [
    "In order to get a greater idea of some suitable priors that could potentially be used in our future model, I looked at a sample of RGB stars and applied a model to each of them. The same starting priors were used for each run to see how well they could fit a range of stars."
   ]
  },
  {
   "cell_type": "code",
   "execution_count": 5,
   "metadata": {},
   "outputs": [
    {
     "data": {
      "text/html": [
       "<div>\n",
       "<style scoped>\n",
       "    .dataframe tbody tr th:only-of-type {\n",
       "        vertical-align: middle;\n",
       "    }\n",
       "\n",
       "    .dataframe tbody tr th {\n",
       "        vertical-align: top;\n",
       "    }\n",
       "\n",
       "    .dataframe thead th {\n",
       "        text-align: right;\n",
       "    }\n",
       "</style>\n",
       "<table border=\"1\" class=\"dataframe\">\n",
       "  <thead>\n",
       "    <tr style=\"text-align: right;\">\n",
       "      <th></th>\n",
       "      <th>ID</th>\n",
       "      <th>dnu</th>\n",
       "      <th>nmax</th>\n",
       "      <th>epsilon</th>\n",
       "      <th>k</th>\n",
       "      <th>A</th>\n",
       "      <th>omega</th>\n",
       "      <th>phi</th>\n",
       "      <th>tau</th>\n",
       "    </tr>\n",
       "  </thead>\n",
       "  <tbody>\n",
       "    <tr>\n",
       "      <th>count</th>\n",
       "      <td>1.000000e+01</td>\n",
       "      <td>10.000000</td>\n",
       "      <td>10.000000</td>\n",
       "      <td>10.000000</td>\n",
       "      <td>10.000000</td>\n",
       "      <td>10.000000</td>\n",
       "      <td>10.000000</td>\n",
       "      <td>10.000000</td>\n",
       "      <td>10.000000</td>\n",
       "    </tr>\n",
       "    <tr>\n",
       "      <th>mean</th>\n",
       "      <td>1.014455e+07</td>\n",
       "      <td>5.289000</td>\n",
       "      <td>8.949000</td>\n",
       "      <td>0.421000</td>\n",
       "      <td>0.037000</td>\n",
       "      <td>0.189000</td>\n",
       "      <td>3.057000</td>\n",
       "      <td>0.281900</td>\n",
       "      <td>7.574000</td>\n",
       "    </tr>\n",
       "    <tr>\n",
       "      <th>std</th>\n",
       "      <td>1.600040e+06</td>\n",
       "      <td>2.912515</td>\n",
       "      <td>1.687499</td>\n",
       "      <td>0.370179</td>\n",
       "      <td>0.006749</td>\n",
       "      <td>0.013703</td>\n",
       "      <td>0.293373</td>\n",
       "      <td>1.993442</td>\n",
       "      <td>1.613831</td>\n",
       "    </tr>\n",
       "    <tr>\n",
       "      <th>min</th>\n",
       "      <td>7.811522e+06</td>\n",
       "      <td>2.500000</td>\n",
       "      <td>7.010000</td>\n",
       "      <td>0.070000</td>\n",
       "      <td>0.030000</td>\n",
       "      <td>0.170000</td>\n",
       "      <td>2.440000</td>\n",
       "      <td>-2.220000</td>\n",
       "      <td>5.460000</td>\n",
       "    </tr>\n",
       "    <tr>\n",
       "      <th>25%</th>\n",
       "      <td>8.871190e+06</td>\n",
       "      <td>3.720000</td>\n",
       "      <td>7.627500</td>\n",
       "      <td>0.120000</td>\n",
       "      <td>0.030000</td>\n",
       "      <td>0.180000</td>\n",
       "      <td>3.015000</td>\n",
       "      <td>-0.792500</td>\n",
       "      <td>6.400000</td>\n",
       "    </tr>\n",
       "    <tr>\n",
       "      <th>50%</th>\n",
       "      <td>1.030913e+07</td>\n",
       "      <td>4.405000</td>\n",
       "      <td>8.680000</td>\n",
       "      <td>0.210000</td>\n",
       "      <td>0.040000</td>\n",
       "      <td>0.190000</td>\n",
       "      <td>3.080000</td>\n",
       "      <td>-0.140500</td>\n",
       "      <td>7.475000</td>\n",
       "    </tr>\n",
       "    <tr>\n",
       "      <th>75%</th>\n",
       "      <td>1.160357e+07</td>\n",
       "      <td>5.757500</td>\n",
       "      <td>10.092500</td>\n",
       "      <td>0.830000</td>\n",
       "      <td>0.040000</td>\n",
       "      <td>0.190000</td>\n",
       "      <td>3.140000</td>\n",
       "      <td>0.932500</td>\n",
       "      <td>8.777500</td>\n",
       "    </tr>\n",
       "    <tr>\n",
       "      <th>max</th>\n",
       "      <td>1.200516e+07</td>\n",
       "      <td>12.880000</td>\n",
       "      <td>12.070000</td>\n",
       "      <td>0.890000</td>\n",
       "      <td>0.050000</td>\n",
       "      <td>0.220000</td>\n",
       "      <td>3.550000</td>\n",
       "      <td>4.790000</td>\n",
       "      <td>10.140000</td>\n",
       "    </tr>\n",
       "  </tbody>\n",
       "</table>\n",
       "</div>"
      ],
      "text/plain": [
       "                 ID        dnu       nmax    epsilon          k          A  \\\n",
       "count  1.000000e+01  10.000000  10.000000  10.000000  10.000000  10.000000   \n",
       "mean   1.014455e+07   5.289000   8.949000   0.421000   0.037000   0.189000   \n",
       "std    1.600040e+06   2.912515   1.687499   0.370179   0.006749   0.013703   \n",
       "min    7.811522e+06   2.500000   7.010000   0.070000   0.030000   0.170000   \n",
       "25%    8.871190e+06   3.720000   7.627500   0.120000   0.030000   0.180000   \n",
       "50%    1.030913e+07   4.405000   8.680000   0.210000   0.040000   0.190000   \n",
       "75%    1.160357e+07   5.757500  10.092500   0.830000   0.040000   0.190000   \n",
       "max    1.200516e+07  12.880000  12.070000   0.890000   0.050000   0.220000   \n",
       "\n",
       "           omega        phi        tau  \n",
       "count  10.000000  10.000000  10.000000  \n",
       "mean    3.057000   0.281900   7.574000  \n",
       "std     0.293373   1.993442   1.613831  \n",
       "min     2.440000  -2.220000   5.460000  \n",
       "25%     3.015000  -0.792500   6.400000  \n",
       "50%     3.080000  -0.140500   7.475000  \n",
       "75%     3.140000   0.932500   8.777500  \n",
       "max     3.550000   4.790000  10.140000  "
      ]
     },
     "execution_count": 5,
     "metadata": {},
     "output_type": "execute_result"
    }
   ],
   "source": [
    "df = pd.read_csv('rgbpriors.csv')\n",
    "df.describe()"
   ]
  },
  {
   "cell_type": "markdown",
   "metadata": {},
   "source": [
    "It is clear from looking at the summary statistics above, some of the parameters vary more significantly than others. We can say with some confidence that the following variables can likely be modelled with the following parameters:\n",
    "\n",
    "$k \\sim \\mathcal{N} (0.037, 0.006^2)$\n",
    "\n",
    "$A \\sim \\mathcal{N} (0.189, 0.014^2)$\n",
    "\n",
    "$\\omega \\sim \\mathcal{N} (3.057, 0.293^2)$\n",
    "\n",
    "We can also look at the asymptotic relationships found in the Vrard Paper:\n",
    "\n",
    "Parameter | RGB Stars _(asymptotic parameters)_\n",
    "------------ | -------------\n",
    "$\\epsilon$ | $0.601+0.632\\log\\left<\\Delta\\nu\\right>$\n",
    "$n_{max}$ | $\\frac{\\nu_{max}}{\\left<\\Delta\\nu\\right>} - \\epsilon$\n",
    "$\\alpha$ | $0.015\\left<\\Delta\\nu\\right>^{-0.32}$\n",
    "$\\mathcal{A}$ | $0.06\\left<\\Delta\\nu\\right>^{-0.88\\pm0.05}$\n",
    "$\\mathcal{G}$ | $3.08\\pm0.65$\n",
    "$\\phi$ | $1.71\\pm0.77$"
   ]
  },
  {
   "cell_type": "markdown",
   "metadata": {},
   "source": [
    "The two plots below are an attempt to roughly replicate Figure 5-6 in the Vrard paper, despite the limited sample size. The $A$ in our model is different to the parameter used in the paper $A \\equiv \\frac{\\mathcal{AG}}{2\\pi}$.\n",
    "\n",
    "The sample does appear to have an outlier however, being a star that has a higher $\\Delta\\nu$ and $n_{max}$ than the others. Perhaps this is suggestive of a star in a different evolutionary state (sub-giant of clump star potentially) - the higher frequencies are usually indicative of a smaller object?"
   ]
  },
  {
   "cell_type": "code",
   "execution_count": 11,
   "metadata": {},
   "outputs": [
    {
     "data": {
      "image/png": "[encoded data removed]",
      "text/plain": [
       "<Figure size 432x288 with 1 Axes>"
      ]
     },
     "metadata": {
      "needs_background": "light"
     },
     "output_type": "display_data"
    },
    {
     "data": {
      "image/png": "[encoded data removed]",
      "text/plain": [
       "<Figure size 432x288 with 1 Axes>"
      ]
     },
     "metadata": {
      "needs_background": "light"
     },
     "output_type": "display_data"
    }
   ],
   "source": [
    "plt.scatter(df['dnu'],df['A'])\n",
    "plt.xlabel(r'$\\left<\\Delta\\nu\\right>$')\n",
    "plt.ylabel(r'A')\n",
    "plt.show()\n",
    "plt.scatter(df['dnu'],df['phi'])\n",
    "plt.xlabel(r'$\\left<\\Delta\\nu\\right>$')\n",
    "plt.ylabel(r'$\\phi$')\n",
    "plt.show()"
   ]
  },
  {
   "cell_type": "code",
   "execution_count": null,
   "metadata": {},
   "outputs": [],
   "source": []
  }
 ],
 "metadata": {
  "kernelspec": {
   "display_name": "Python 3",
   "language": "python",
   "name": "python3"
  },
  "language_info": {
   "codemirror_mode": {
    "name": "ipython",
    "version": 3
   },
   "file_extension": ".py",
   "mimetype": "text/x-python",
   "name": "python",
   "nbconvert_exporter": "python",
   "pygments_lexer": "ipython3",
   "version": "3.7.1"
  }
 },
 "nbformat": 4,
 "nbformat_minor": 2
}
