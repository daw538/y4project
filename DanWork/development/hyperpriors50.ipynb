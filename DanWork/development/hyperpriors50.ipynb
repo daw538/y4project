{
 "cells": [
  {
   "cell_type": "code",
   "execution_count": 2,
   "metadata": {},
   "outputs": [],
   "source": [
    "import numpy as np\n",
    "import matplotlib.pyplot as plt\n",
    "import pandas as pd\n",
    "\n",
    "from IPython.display import display\n",
    "\n",
    "from matplotlib import rc\n",
    "rc(\"font\", family=\"serif\", size=11)"
   ]
  },
  {
   "cell_type": "code",
   "execution_count": 3,
   "metadata": {},
   "outputs": [
    {
     "data": {
      "text/html": [
       "<div>\n",
       "<style scoped>\n",
       "    .dataframe tbody tr th:only-of-type {\n",
       "        vertical-align: middle;\n",
       "    }\n",
       "\n",
       "    .dataframe tbody tr th {\n",
       "        vertical-align: top;\n",
       "    }\n",
       "\n",
       "    .dataframe thead th {\n",
       "        text-align: right;\n",
       "    }\n",
       "</style>\n",
       "<table border=\"1\" class=\"dataframe\">\n",
       "  <thead>\n",
       "    <tr style=\"text-align: right;\">\n",
       "      <th></th>\n",
       "      <th>dnu</th>\n",
       "      <th>nmax</th>\n",
       "      <th>epsilon</th>\n",
       "      <th>k</th>\n",
       "      <th>a</th>\n",
       "      <th>omega</th>\n",
       "      <th>phi</th>\n",
       "      <th>tau</th>\n",
       "    </tr>\n",
       "  </thead>\n",
       "  <tbody>\n",
       "    <tr>\n",
       "      <th>0</th>\n",
       "      <td>3.417190</td>\n",
       "      <td>8.442403</td>\n",
       "      <td>-0.034184</td>\n",
       "      <td>0.039992</td>\n",
       "      <td>0.199970</td>\n",
       "      <td>2.995716</td>\n",
       "      <td>1.814704</td>\n",
       "      <td>7.222101</td>\n",
       "    </tr>\n",
       "    <tr>\n",
       "      <th>1</th>\n",
       "      <td>3.754812</td>\n",
       "      <td>8.960056</td>\n",
       "      <td>0.022635</td>\n",
       "      <td>0.039991</td>\n",
       "      <td>0.199951</td>\n",
       "      <td>2.542640</td>\n",
       "      <td>2.422721</td>\n",
       "      <td>6.457171</td>\n",
       "    </tr>\n",
       "    <tr>\n",
       "      <th>2</th>\n",
       "      <td>3.751456</td>\n",
       "      <td>7.723743</td>\n",
       "      <td>0.749848</td>\n",
       "      <td>0.039997</td>\n",
       "      <td>0.199982</td>\n",
       "      <td>2.916525</td>\n",
       "      <td>-0.186773</td>\n",
       "      <td>7.661952</td>\n",
       "    </tr>\n",
       "    <tr>\n",
       "      <th>3</th>\n",
       "      <td>4.482039</td>\n",
       "      <td>8.810814</td>\n",
       "      <td>0.019615</td>\n",
       "      <td>0.039990</td>\n",
       "      <td>0.200056</td>\n",
       "      <td>2.895128</td>\n",
       "      <td>-0.617579</td>\n",
       "      <td>8.201355</td>\n",
       "    </tr>\n",
       "    <tr>\n",
       "      <th>4</th>\n",
       "      <td>4.241912</td>\n",
       "      <td>10.420866</td>\n",
       "      <td>-0.028487</td>\n",
       "      <td>0.039972</td>\n",
       "      <td>0.200104</td>\n",
       "      <td>2.947050</td>\n",
       "      <td>2.707668</td>\n",
       "      <td>8.915055</td>\n",
       "    </tr>\n",
       "  </tbody>\n",
       "</table>\n",
       "</div>"
      ],
      "text/plain": [
       "        dnu       nmax   epsilon         k         a     omega       phi  \\\n",
       "0  3.417190   8.442403 -0.034184  0.039992  0.199970  2.995716  1.814704   \n",
       "1  3.754812   8.960056  0.022635  0.039991  0.199951  2.542640  2.422721   \n",
       "2  3.751456   7.723743  0.749848  0.039997  0.199982  2.916525 -0.186773   \n",
       "3  4.482039   8.810814  0.019615  0.039990  0.200056  2.895128 -0.617579   \n",
       "4  4.241912  10.420866 -0.028487  0.039972  0.200104  2.947050  2.707668   \n",
       "\n",
       "        tau  \n",
       "0  7.222101  \n",
       "1  6.457171  \n",
       "2  7.661952  \n",
       "3  8.201355  \n",
       "4  8.915055  "
      ]
     },
     "metadata": {},
     "output_type": "display_data"
    },
    {
     "data": {
      "text/html": [
       "<div>\n",
       "<style scoped>\n",
       "    .dataframe tbody tr th:only-of-type {\n",
       "        vertical-align: middle;\n",
       "    }\n",
       "\n",
       "    .dataframe tbody tr th {\n",
       "        vertical-align: top;\n",
       "    }\n",
       "\n",
       "    .dataframe thead th {\n",
       "        text-align: right;\n",
       "    }\n",
       "</style>\n",
       "<table border=\"1\" class=\"dataframe\">\n",
       "  <thead>\n",
       "    <tr style=\"text-align: right;\">\n",
       "      <th></th>\n",
       "      <th>dnu</th>\n",
       "      <th>nmax</th>\n",
       "      <th>epsilon</th>\n",
       "      <th>k</th>\n",
       "      <th>a</th>\n",
       "      <th>omega</th>\n",
       "      <th>phi</th>\n",
       "      <th>tau</th>\n",
       "    </tr>\n",
       "  </thead>\n",
       "  <tbody>\n",
       "    <tr>\n",
       "      <th>count</th>\n",
       "      <td>500.000000</td>\n",
       "      <td>500.000000</td>\n",
       "      <td>500.000000</td>\n",
       "      <td>500.000000</td>\n",
       "      <td>500.000000</td>\n",
       "      <td>500.000000</td>\n",
       "      <td>500.000000</td>\n",
       "      <td>500.000000</td>\n",
       "    </tr>\n",
       "    <tr>\n",
       "      <th>mean</th>\n",
       "      <td>4.954373</td>\n",
       "      <td>9.199285</td>\n",
       "      <td>0.202922</td>\n",
       "      <td>0.040124</td>\n",
       "      <td>0.205903</td>\n",
       "      <td>2.916179</td>\n",
       "      <td>1.510869</td>\n",
       "      <td>9.171260</td>\n",
       "    </tr>\n",
       "    <tr>\n",
       "      <th>std</th>\n",
       "      <td>2.211655</td>\n",
       "      <td>1.642682</td>\n",
       "      <td>0.622991</td>\n",
       "      <td>0.002977</td>\n",
       "      <td>0.122259</td>\n",
       "      <td>0.415290</td>\n",
       "      <td>2.342927</td>\n",
       "      <td>4.686283</td>\n",
       "    </tr>\n",
       "    <tr>\n",
       "      <th>min</th>\n",
       "      <td>1.409101</td>\n",
       "      <td>5.161062</td>\n",
       "      <td>-4.562166</td>\n",
       "      <td>0.035949</td>\n",
       "      <td>0.199316</td>\n",
       "      <td>1.144761</td>\n",
       "      <td>-5.722393</td>\n",
       "      <td>5.088306</td>\n",
       "    </tr>\n",
       "    <tr>\n",
       "      <th>25%</th>\n",
       "      <td>3.975713</td>\n",
       "      <td>8.022414</td>\n",
       "      <td>-0.019882</td>\n",
       "      <td>0.039976</td>\n",
       "      <td>0.199970</td>\n",
       "      <td>2.687027</td>\n",
       "      <td>-0.351189</td>\n",
       "      <td>7.559606</td>\n",
       "    </tr>\n",
       "    <tr>\n",
       "      <th>50%</th>\n",
       "      <td>4.241069</td>\n",
       "      <td>8.966589</td>\n",
       "      <td>0.067954</td>\n",
       "      <td>0.039991</td>\n",
       "      <td>0.200024</td>\n",
       "      <td>2.910098</td>\n",
       "      <td>1.721212</td>\n",
       "      <td>8.406519</td>\n",
       "    </tr>\n",
       "    <tr>\n",
       "      <th>75%</th>\n",
       "      <td>5.178939</td>\n",
       "      <td>10.141352</td>\n",
       "      <td>0.788840</td>\n",
       "      <td>0.039999</td>\n",
       "      <td>0.200119</td>\n",
       "      <td>3.110683</td>\n",
       "      <td>3.000351</td>\n",
       "      <td>9.609721</td>\n",
       "    </tr>\n",
       "    <tr>\n",
       "      <th>max</th>\n",
       "      <td>18.673679</td>\n",
       "      <td>16.844115</td>\n",
       "      <td>1.073500</td>\n",
       "      <td>0.103829</td>\n",
       "      <td>2.933408</td>\n",
       "      <td>5.274007</td>\n",
       "      <td>6.276552</td>\n",
       "      <td>80.736132</td>\n",
       "    </tr>\n",
       "  </tbody>\n",
       "</table>\n",
       "</div>"
      ],
      "text/plain": [
       "              dnu        nmax     epsilon           k           a       omega  \\\n",
       "count  500.000000  500.000000  500.000000  500.000000  500.000000  500.000000   \n",
       "mean     4.954373    9.199285    0.202922    0.040124    0.205903    2.916179   \n",
       "std      2.211655    1.642682    0.622991    0.002977    0.122259    0.415290   \n",
       "min      1.409101    5.161062   -4.562166    0.035949    0.199316    1.144761   \n",
       "25%      3.975713    8.022414   -0.019882    0.039976    0.199970    2.687027   \n",
       "50%      4.241069    8.966589    0.067954    0.039991    0.200024    2.910098   \n",
       "75%      5.178939   10.141352    0.788840    0.039999    0.200119    3.110683   \n",
       "max     18.673679   16.844115    1.073500    0.103829    2.933408    5.274007   \n",
       "\n",
       "              phi         tau  \n",
       "count  500.000000  500.000000  \n",
       "mean     1.510869    9.171260  \n",
       "std      2.342927    4.686283  \n",
       "min     -5.722393    5.088306  \n",
       "25%     -0.351189    7.559606  \n",
       "50%      1.721212    8.406519  \n",
       "75%      3.000351    9.609721  \n",
       "max      6.276552   80.736132  "
      ]
     },
     "execution_count": 3,
     "metadata": {},
     "output_type": "execute_result"
    }
   ],
   "source": [
    "df = pd.read_csv('hyperpriors50.csv', usecols=['dnu','nmax','epsilon','k','a','omega','phi','tau'])\n",
    "df = pd.read_csv('manystars.csv', usecols=['dnu','nmax','epsilon','k','a','omega','phi','tau'])\n",
    "display(df.head())\n",
    "df.describe()"
   ]
  },
  {
   "cell_type": "code",
   "execution_count": 4,
   "metadata": {},
   "outputs": [],
   "source": [
    "def leastsq(xarr, yarr):\n",
    "    xbar = np.mean(xarr)\n",
    "    ybar = np.mean(yarr)\n",
    "    Sxy = sum(xarr * yarr) - len(df)*xbar*ybar\n",
    "    Sxx = sum(xarr**2) - len(df)*xbar**2\n",
    "    m = Sxy/Sxx\n",
    "    x = np.linspace(min(xarr), max(xarr), len(df))\n",
    "    y = ybar + m*(x-xbar)\n",
    "    c = ybar - m*xbar\n",
    "    ##eq = (f'y = {m:+.3f}x{c:+.3f}')\n",
    "    print(f'a = {m:.3f}')\n",
    "    print(f'b = {c:.3f}')\n",
    "    return x, y, m, c#, eq"
   ]
  },
  {
   "cell_type": "code",
   "execution_count": 35,
   "metadata": {},
   "outputs": [
    {
     "name": "stdout",
     "output_type": "stream",
     "text": [
      "a = 0.004\n",
      "b = 0.185\n"
     ]
    },
    {
     "data": {
      "image/png": "[encoded data removed]",
      "text/plain": [
       "<Figure size 432x288 with 1 Axes>"
      ]
     },
     "metadata": {
      "needs_background": "light"
     },
     "output_type": "display_data"
    },
    {
     "name": "stdout",
     "output_type": "stream",
     "text": [
      "a = 0.152\n",
      "b = 0.758\n"
     ]
    },
    {
     "data": {
      "image/png": "[encoded data removed]",
      "text/plain": [
       "<Figure size 432x288 with 1 Axes>"
      ]
     },
     "metadata": {
      "needs_background": "light"
     },
     "output_type": "display_data"
    },
    {
     "name": "stdout",
     "output_type": "stream",
     "text": [
      "a = -0.009\n",
      "b = 2.959\n"
     ]
    },
    {
     "data": {
      "image/png": "[encoded data removed]",
      "text/plain": [
       "<Figure size 432x288 with 1 Axes>"
      ]
     },
     "metadata": {
      "needs_background": "light"
     },
     "output_type": "display_data"
    },
    {
     "name": "stdout",
     "output_type": "stream",
     "text": [
      "a = 0.022\n",
      "b = -3.250\n"
     ]
    },
    {
     "data": {
      "image/png": "[encoded data removed]",
      "text/plain": [
       "<Figure size 432x288 with 1 Axes>"
      ]
     },
     "metadata": {
      "needs_background": "light"
     },
     "output_type": "display_data"
    }
   ],
   "source": [
    "%matplotlib inline\n",
    "\n",
    "dnu_a = leastsq(df['dnu'], df['a'])\n",
    "plt.figure(1)\n",
    "plt.scatter(df['dnu'],df['a'], marker='x')\n",
    "plt.plot(dnu_a[0], dnu_a[1], 'k')\n",
    "plt.xlabel(r'$\\left<\\Delta\\nu\\right>$')\n",
    "plt.ylabel(r'a')\n",
    "plt.ylim(0.2,0.22)\n",
    "plt.show()\n",
    "\n",
    "dnu_phi = leastsq(df['dnu'], df['phi'])\n",
    "plt.figure(2)\n",
    "plt.scatter(df['dnu'],df['phi'], marker='x')\n",
    "plt.plot(dnu_phi[0], dnu_phi[1], 'k')\n",
    "plt.xlabel(r'$\\left<\\Delta\\nu\\right>$')\n",
    "plt.ylabel(r'$\\phi$')\n",
    "plt.show()\n",
    "\n",
    "dnu_omega = leastsq(df['dnu'], df['omega'])\n",
    "plt.figure(3)\n",
    "plt.scatter(df['dnu'],df['omega'], marker='x')\n",
    "plt.plot(dnu_omega[0], dnu_omega[1], 'k')\n",
    "plt.xlabel(r'$\\left<\\Delta\\nu\\right>$')\n",
    "plt.ylabel(r'$\\omega$')\n",
    "plt.show()\n",
    "\n",
    "dnu_k = leastsq(np.log(df['dnu']), np.log(df['k']))\n",
    "plt.figure(4)\n",
    "plt.scatter(np.log(df['dnu']),np.log(df['k']), marker='x')\n",
    "plt.plot(dnu_k[0], dnu_k[1], 'k')\n",
    "plt.xlabel(r'$\\left<\\Delta\\nu\\right>$')\n",
    "plt.ylabel(r'$\\k$')\n",
    "#plt.ylim(min(df['k']),max(df['k']))\n",
    "plt.show()\n",
    "\n",
    "plt.figure(4)\n",
    "plt.scatter(np.log(df['dnu']),np.log(df['k']), marker='x')\n",
    "plt.plot(dnu_k[0], 0.004**(dnu_k[1]), 'k')\n",
    "plt.xlabel(r'$\\left<\\Delta\\nu\\right>$')\n",
    "plt.ylabel(r'$\\k$')\n",
    "#plt.ylim(min(df['k']),max(df['k']))\n",
    "plt.show()"
   ]
  },
  {
   "cell_type": "code",
   "execution_count": 14,
   "metadata": {},
   "outputs": [
    {
     "name": "stdout",
     "output_type": "stream",
     "text": [
      "        dnu      nmax   epsilon         k         a     omega       phi  \\\n",
      "3  4.996504  7.429712  0.010132  0.040928  0.221116  2.159576  6.273541   \n",
      "\n",
      "        tau  \n",
      "3  34.22991  \n"
     ]
    }
   ],
   "source": [
    "print(df.loc[(df['k']>0.0402)])"
   ]
  },
  {
   "cell_type": "code",
   "execution_count": null,
   "metadata": {},
   "outputs": [],
   "source": []
  }
 ],
 "metadata": {
  "kernelspec": {
   "display_name": "Python 3",
   "language": "python",
   "name": "python3"
  },
  "language_info": {
   "codemirror_mode": {
    "name": "ipython",
    "version": 3
   },
   "file_extension": ".py",
   "mimetype": "text/x-python",
   "name": "python",
   "nbconvert_exporter": "python",
   "pygments_lexer": "ipython3",
   "version": "3.7.1"
  }
 },
 "nbformat": 4,
 "nbformat_minor": 2
}
