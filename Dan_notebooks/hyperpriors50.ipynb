{
 "cells": [
  {
   "cell_type": "code",
   "execution_count": 15,
   "metadata": {},
   "outputs": [],
   "source": [
    "import numpy as np\n",
    "import matplotlib.pyplot as plt\n",
    "import pandas as pd\n",
    "\n",
    "from IPython.display import display\n",
    "\n",
    "from matplotlib import rc\n",
    "rc(\"font\", family=\"serif\", size=11)"
   ]
  },
  {
   "cell_type": "code",
   "execution_count": 17,
   "metadata": {},
   "outputs": [
    {
     "data": {
      "text/html": [
       "<div>\n",
       "<style scoped>\n",
       "    .dataframe tbody tr th:only-of-type {\n",
       "        vertical-align: middle;\n",
       "    }\n",
       "\n",
       "    .dataframe tbody tr th {\n",
       "        vertical-align: top;\n",
       "    }\n",
       "\n",
       "    .dataframe thead th {\n",
       "        text-align: right;\n",
       "    }\n",
       "</style>\n",
       "<table border=\"1\" class=\"dataframe\">\n",
       "  <thead>\n",
       "    <tr style=\"text-align: right;\">\n",
       "      <th></th>\n",
       "      <th>dnu</th>\n",
       "      <th>nmax</th>\n",
       "      <th>epsilon</th>\n",
       "      <th>k</th>\n",
       "      <th>a</th>\n",
       "      <th>omega</th>\n",
       "      <th>phi</th>\n",
       "      <th>tau</th>\n",
       "    </tr>\n",
       "  </thead>\n",
       "  <tbody>\n",
       "    <tr>\n",
       "      <th>0</th>\n",
       "      <td>3.774666</td>\n",
       "      <td>8.909744</td>\n",
       "      <td>-0.074084</td>\n",
       "      <td>0.040001</td>\n",
       "      <td>0.200128</td>\n",
       "      <td>3.696033</td>\n",
       "      <td>-0.287783</td>\n",
       "      <td>9.418238</td>\n",
       "    </tr>\n",
       "    <tr>\n",
       "      <th>1</th>\n",
       "      <td>3.977722</td>\n",
       "      <td>8.245239</td>\n",
       "      <td>-0.021279</td>\n",
       "      <td>0.039998</td>\n",
       "      <td>0.200136</td>\n",
       "      <td>2.318750</td>\n",
       "      <td>4.942493</td>\n",
       "      <td>9.519606</td>\n",
       "    </tr>\n",
       "    <tr>\n",
       "      <th>2</th>\n",
       "      <td>5.346790</td>\n",
       "      <td>10.247160</td>\n",
       "      <td>0.128692</td>\n",
       "      <td>0.039996</td>\n",
       "      <td>0.199988</td>\n",
       "      <td>2.960478</td>\n",
       "      <td>2.535166</td>\n",
       "      <td>7.896521</td>\n",
       "    </tr>\n",
       "    <tr>\n",
       "      <th>3</th>\n",
       "      <td>4.384523</td>\n",
       "      <td>8.646312</td>\n",
       "      <td>-0.041921</td>\n",
       "      <td>0.039990</td>\n",
       "      <td>0.200043</td>\n",
       "      <td>2.478256</td>\n",
       "      <td>2.859963</td>\n",
       "      <td>9.080585</td>\n",
       "    </tr>\n",
       "    <tr>\n",
       "      <th>4</th>\n",
       "      <td>4.068102</td>\n",
       "      <td>7.832365</td>\n",
       "      <td>0.905429</td>\n",
       "      <td>0.039984</td>\n",
       "      <td>0.200098</td>\n",
       "      <td>2.916249</td>\n",
       "      <td>2.141961</td>\n",
       "      <td>8.761845</td>\n",
       "    </tr>\n",
       "  </tbody>\n",
       "</table>\n",
       "</div>"
      ],
      "text/plain": [
       "        dnu       nmax   epsilon         k         a     omega       phi  \\\n",
       "0  3.774666   8.909744 -0.074084  0.040001  0.200128  3.696033 -0.287783   \n",
       "1  3.977722   8.245239 -0.021279  0.039998  0.200136  2.318750  4.942493   \n",
       "2  5.346790  10.247160  0.128692  0.039996  0.199988  2.960478  2.535166   \n",
       "3  4.384523   8.646312 -0.041921  0.039990  0.200043  2.478256  2.859963   \n",
       "4  4.068102   7.832365  0.905429  0.039984  0.200098  2.916249  2.141961   \n",
       "\n",
       "        tau  \n",
       "0  9.418238  \n",
       "1  9.519606  \n",
       "2  7.896521  \n",
       "3  9.080585  \n",
       "4  8.761845  "
      ]
     },
     "metadata": {},
     "output_type": "display_data"
    },
    {
     "data": {
      "text/html": [
       "<div>\n",
       "<style scoped>\n",
       "    .dataframe tbody tr th:only-of-type {\n",
       "        vertical-align: middle;\n",
       "    }\n",
       "\n",
       "    .dataframe tbody tr th {\n",
       "        vertical-align: top;\n",
       "    }\n",
       "\n",
       "    .dataframe thead th {\n",
       "        text-align: right;\n",
       "    }\n",
       "</style>\n",
       "<table border=\"1\" class=\"dataframe\">\n",
       "  <thead>\n",
       "    <tr style=\"text-align: right;\">\n",
       "      <th></th>\n",
       "      <th>dnu</th>\n",
       "      <th>nmax</th>\n",
       "      <th>epsilon</th>\n",
       "      <th>k</th>\n",
       "      <th>a</th>\n",
       "      <th>omega</th>\n",
       "      <th>phi</th>\n",
       "      <th>tau</th>\n",
       "    </tr>\n",
       "  </thead>\n",
       "  <tbody>\n",
       "    <tr>\n",
       "      <th>count</th>\n",
       "      <td>49.000000</td>\n",
       "      <td>49.000000</td>\n",
       "      <td>49.000000</td>\n",
       "      <td>49.000000</td>\n",
       "      <td>49.000000</td>\n",
       "      <td>49.000000</td>\n",
       "      <td>49.000000</td>\n",
       "      <td>49.000000</td>\n",
       "    </tr>\n",
       "    <tr>\n",
       "      <th>mean</th>\n",
       "      <td>4.789271</td>\n",
       "      <td>9.033036</td>\n",
       "      <td>0.324131</td>\n",
       "      <td>0.039987</td>\n",
       "      <td>0.200054</td>\n",
       "      <td>2.973337</td>\n",
       "      <td>1.532220</td>\n",
       "      <td>8.421141</td>\n",
       "    </tr>\n",
       "    <tr>\n",
       "      <th>std</th>\n",
       "      <td>1.432366</td>\n",
       "      <td>1.518429</td>\n",
       "      <td>0.404851</td>\n",
       "      <td>0.000017</td>\n",
       "      <td>0.000153</td>\n",
       "      <td>0.423825</td>\n",
       "      <td>2.769804</td>\n",
       "      <td>1.351646</td>\n",
       "    </tr>\n",
       "    <tr>\n",
       "      <th>min</th>\n",
       "      <td>2.010309</td>\n",
       "      <td>6.060882</td>\n",
       "      <td>-0.074084</td>\n",
       "      <td>0.039929</td>\n",
       "      <td>0.199915</td>\n",
       "      <td>2.230067</td>\n",
       "      <td>-5.905832</td>\n",
       "      <td>6.405741</td>\n",
       "    </tr>\n",
       "    <tr>\n",
       "      <th>25%</th>\n",
       "      <td>4.085945</td>\n",
       "      <td>7.832365</td>\n",
       "      <td>0.005327</td>\n",
       "      <td>0.039976</td>\n",
       "      <td>0.199979</td>\n",
       "      <td>2.686841</td>\n",
       "      <td>-0.287783</td>\n",
       "      <td>7.467620</td>\n",
       "    </tr>\n",
       "    <tr>\n",
       "      <th>50%</th>\n",
       "      <td>4.382371</td>\n",
       "      <td>8.757296</td>\n",
       "      <td>0.117071</td>\n",
       "      <td>0.039991</td>\n",
       "      <td>0.199999</td>\n",
       "      <td>2.989705</td>\n",
       "      <td>2.009497</td>\n",
       "      <td>8.337822</td>\n",
       "    </tr>\n",
       "    <tr>\n",
       "      <th>75%</th>\n",
       "      <td>5.043919</td>\n",
       "      <td>10.174720</td>\n",
       "      <td>0.850133</td>\n",
       "      <td>0.040001</td>\n",
       "      <td>0.200098</td>\n",
       "      <td>3.117897</td>\n",
       "      <td>3.855331</td>\n",
       "      <td>9.195576</td>\n",
       "    </tr>\n",
       "    <tr>\n",
       "      <th>max</th>\n",
       "      <td>8.492134</td>\n",
       "      <td>12.369756</td>\n",
       "      <td>0.946648</td>\n",
       "      <td>0.040016</td>\n",
       "      <td>0.200848</td>\n",
       "      <td>3.981650</td>\n",
       "      <td>6.033815</td>\n",
       "      <td>13.793253</td>\n",
       "    </tr>\n",
       "  </tbody>\n",
       "</table>\n",
       "</div>"
      ],
      "text/plain": [
       "             dnu       nmax    epsilon          k          a      omega  \\\n",
       "count  49.000000  49.000000  49.000000  49.000000  49.000000  49.000000   \n",
       "mean    4.789271   9.033036   0.324131   0.039987   0.200054   2.973337   \n",
       "std     1.432366   1.518429   0.404851   0.000017   0.000153   0.423825   \n",
       "min     2.010309   6.060882  -0.074084   0.039929   0.199915   2.230067   \n",
       "25%     4.085945   7.832365   0.005327   0.039976   0.199979   2.686841   \n",
       "50%     4.382371   8.757296   0.117071   0.039991   0.199999   2.989705   \n",
       "75%     5.043919  10.174720   0.850133   0.040001   0.200098   3.117897   \n",
       "max     8.492134  12.369756   0.946648   0.040016   0.200848   3.981650   \n",
       "\n",
       "             phi        tau  \n",
       "count  49.000000  49.000000  \n",
       "mean    1.532220   8.421141  \n",
       "std     2.769804   1.351646  \n",
       "min    -5.905832   6.405741  \n",
       "25%    -0.287783   7.467620  \n",
       "50%     2.009497   8.337822  \n",
       "75%     3.855331   9.195576  \n",
       "max     6.033815  13.793253  "
      ]
     },
     "execution_count": 17,
     "metadata": {},
     "output_type": "execute_result"
    }
   ],
   "source": [
    "df = pd.read_csv('hyperpriors50.csv', usecols=['dnu','nmax','epsilon','k','a','omega','phi','tau'])\n",
    "display(df.head())\n",
    "df.describe()"
   ]
  },
  {
   "cell_type": "code",
   "execution_count": 71,
   "metadata": {},
   "outputs": [],
   "source": [
    "def leastsq(xarr, yarr):\n",
    "    xbar = np.mean(xarr)\n",
    "    ybar = np.mean(yarr)\n",
    "    Sxy = sum(xarr * yarr) - len(df)*xbar*ybar\n",
    "    Sxx = sum(xarr**2) - len(df)*xbar**2\n",
    "    m = Sxy/Sxx\n",
    "    x = np.linspace(min(xarr), max(xarr), len(df))\n",
    "    y = ybar + m*(x-xbar)\n",
    "    c = ybar - m*xbar\n",
    "    ##eq = (f'y = {m:+.3f}x{c:+.3f}')\n",
    "    print(f'a = {m:.3f}')\n",
    "    print(f'b = {c:.3f}')\n",
    "    return x, y, m, c#, eq"
   ]
  },
  {
   "cell_type": "code",
   "execution_count": 72,
   "metadata": {},
   "outputs": [
    {
     "name": "stdout",
     "output_type": "stream",
     "text": [
      "a = 0.002\n",
      "b = -1.611\n"
     ]
    },
    {
     "data": {
      "image/png": "[encoded data removed]",
      "text/plain": [
       "<Figure size 432x288 with 1 Axes>"
      ]
     },
     "metadata": {
      "needs_background": "light"
     },
     "output_type": "display_data"
    },
    {
     "name": "stdout",
     "output_type": "stream",
     "text": [
      "a = 0.266\n",
      "b = 0.257\n"
     ]
    },
    {
     "data": {
      "image/png": "[encoded data removed]",
      "text/plain": [
       "<Figure size 432x288 with 1 Axes>"
      ]
     },
     "metadata": {
      "needs_background": "light"
     },
     "output_type": "display_data"
    },
    {
     "name": "stdout",
     "output_type": "stream",
     "text": [
      "a = -0.042\n",
      "b = 3.172\n"
     ]
    },
    {
     "data": {
      "image/png": "[encoded data removed]",
      "text/plain": [
       "<Figure size 432x288 with 1 Axes>"
      ]
     },
     "metadata": {
      "needs_background": "light"
     },
     "output_type": "display_data"
    },
    {
     "name": "stdout",
     "output_type": "stream",
     "text": [
      "a = -0.000\n",
      "b = 0.040\n"
     ]
    },
    {
     "data": {
      "image/png": "[encoded data removed]",
      "text/plain": [
       "<Figure size 432x288 with 1 Axes>"
      ]
     },
     "metadata": {
      "needs_background": "light"
     },
     "output_type": "display_data"
    }
   ],
   "source": [
    "%matplotlib inline\n",
    "\n",
    "dnu_a = leastsq(np.log(df['dnu']), np.log(df['a']))\n",
    "plt.figure(1)\n",
    "plt.scatter(df['dnu'],df['a'], marker='x')\n",
    "plt.plot(np.exp(dnu_a[0]), np.exp(dnu_a[1]), 'k')\n",
    "plt.xlabel(r'$\\left<\\Delta\\nu\\right>$')\n",
    "plt.ylabel(r'a')\n",
    "plt.ylim(min(df['a']),max(df['a']))\n",
    "plt.show()\n",
    "\n",
    "dnu_phi = leastsq(df['dnu'], df['phi'])\n",
    "plt.figure(2)\n",
    "plt.scatter(df['dnu'],df['phi'], marker='x')\n",
    "plt.plot(dnu_phi[0], dnu_phi[1], 'k')\n",
    "plt.xlabel(r'$\\left<\\Delta\\nu\\right>$')\n",
    "plt.ylabel(r'$\\phi$')\n",
    "plt.show()\n",
    "\n",
    "dnu_omega = leastsq(df['dnu'], df['omega'])\n",
    "plt.figure(3)\n",
    "plt.scatter(df['dnu'],df['omega'], marker='x')\n",
    "plt.plot(dnu_omega[0], dnu_omega[1], 'k')\n",
    "plt.xlabel(r'$\\left<\\Delta\\nu\\right>$')\n",
    "plt.ylabel(r'$\\omega$')\n",
    "plt.show()\n",
    "\n",
    "dnu_k = leastsq(df['dnu'], df['k'])\n",
    "plt.figure(4)\n",
    "plt.scatter(df['dnu'],df['k'], marker='x')\n",
    "plt.plot(dnu_k[0], dnu_k[1], 'k')\n",
    "plt.xlabel(r'$\\left<\\Delta\\nu\\right>$')\n",
    "plt.ylabel(r'$\\k$')\n",
    "plt.ylim(min(df['k']),max(df['k']))\n",
    "plt.show()"
   ]
  },
  {
   "cell_type": "code",
   "execution_count": 14,
   "metadata": {},
   "outputs": [
    {
     "name": "stdout",
     "output_type": "stream",
     "text": [
      "        dnu      nmax   epsilon         k         a     omega       phi  \\\n",
      "3  4.996504  7.429712  0.010132  0.040928  0.221116  2.159576  6.273541   \n",
      "\n",
      "        tau  \n",
      "3  34.22991  \n"
     ]
    }
   ],
   "source": [
    "print(df.loc[(df['k']>0.0402)])"
   ]
  },
  {
   "cell_type": "code",
   "execution_count": null,
   "metadata": {},
   "outputs": [],
   "source": []
  }
 ],
 "metadata": {
  "kernelspec": {
   "display_name": "Python 3",
   "language": "python",
   "name": "python3"
  },
  "language_info": {
   "codemirror_mode": {
    "name": "ipython",
    "version": 3
   },
   "file_extension": ".py",
   "mimetype": "text/x-python",
   "name": "python",
   "nbconvert_exporter": "python",
   "pygments_lexer": "ipython3",
   "version": "3.7.1"
  }
 },
 "nbformat": 4,
 "nbformat_minor": 2
}
