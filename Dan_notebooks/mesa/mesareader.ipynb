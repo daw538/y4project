{
 "cells": [
  {
   "cell_type": "code",
   "execution_count": 1,
   "metadata": {},
   "outputs": [],
   "source": [
    "import numpy as np\n",
    "import matplotlib.pyplot as plt\n",
    "import pandas as pd\n",
    "import tqdm\n",
    "\n",
    "from IPython.display import display\n",
    "\n",
    "# Packages for custom plot styles\n",
    "from matplotlib import rc\n",
    "from matplotlib.gridspec import GridSpec\n",
    "rc(\"font\", family=\"serif\", size=11)"
   ]
  },
  {
   "cell_type": "code",
   "execution_count": 123,
   "metadata": {},
   "outputs": [
    {
     "data": {
      "image/png": "[encoded data removed]",
      "text/plain": [
       "<Figure size 648x288 with 2 Axes>"
      ]
     },
     "metadata": {
      "needs_background": "light"
     },
     "output_type": "display_data"
    }
   ],
   "source": [
    "folder = \"~/Documents/mesa/work/\"\n",
    "file = \"LOGS/M1.0_Y0.25_mmdd.data\"\n",
    "\n",
    "df = pd.read_csv(folder+file, skiprows=5, delim_whitespace=True)\n",
    "#display(df)\n",
    "\n",
    "plt.figure(1, figsize=(9,4))\n",
    "plt.subplot(121)\n",
    "plt.plot(df['log_Teff'], df['log_L'])\n",
    "plt.plot(df.loc[(df.log_R > 0.7)].log_Teff, df.loc[(df.log_R > 0.7)].log_L)\n",
    "plt.gca().invert_xaxis()\n",
    "plt.subplot(122)\n",
    "plt.plot(df['star_age'], df['log_R'])\n",
    "plt.plot(df.loc[(df.log_R > 0.8)].star_age, df.loc[(df.log_R > 0.8)].log_R)\n",
    "plt.plot(df.loc[(df.log_R > 1.2)].star_age, df.loc[(df.log_R > 1.2)].log_R)\n",
    "plt.scatter(df.loc[(df.log_center_T > 7.65)].star_age, df.loc[(df.log_center_T > 7.65)].log_R)\n",
    "plt.xlim(1.4e10,)\n",
    "plt.show()"
   ]
  },
  {
   "cell_type": "code",
   "execution_count": 129,
   "metadata": {},
   "outputs": [
    {
     "name": "stdout",
     "output_type": "stream",
     "text": [
      "4.222467334891586\n"
     ]
    },
    {
     "data": {
      "text/html": [
       "<div>\n",
       "<style scoped>\n",
       "    .dataframe tbody tr th:only-of-type {\n",
       "        vertical-align: middle;\n",
       "    }\n",
       "\n",
       "    .dataframe tbody tr th {\n",
       "        vertical-align: top;\n",
       "    }\n",
       "\n",
       "    .dataframe thead th {\n",
       "        text-align: right;\n",
       "    }\n",
       "</style>\n",
       "<table border=\"1\" class=\"dataframe\">\n",
       "  <thead>\n",
       "    <tr style=\"text-align: right;\">\n",
       "      <th></th>\n",
       "      <th>l</th>\n",
       "      <th>n_pg</th>\n",
       "      <th>Re(freq)</th>\n",
       "      <th>Im(freq)</th>\n",
       "      <th>E_norm</th>\n",
       "    </tr>\n",
       "  </thead>\n",
       "  <tbody>\n",
       "    <tr>\n",
       "      <th>0</th>\n",
       "      <td>0</td>\n",
       "      <td>2</td>\n",
       "      <td>11.582128</td>\n",
       "      <td>0.0</td>\n",
       "      <td>0.001116</td>\n",
       "    </tr>\n",
       "    <tr>\n",
       "      <th>1</th>\n",
       "      <td>0</td>\n",
       "      <td>3</td>\n",
       "      <td>15.992400</td>\n",
       "      <td>0.0</td>\n",
       "      <td>0.000107</td>\n",
       "    </tr>\n",
       "    <tr>\n",
       "      <th>2</th>\n",
       "      <td>0</td>\n",
       "      <td>4</td>\n",
       "      <td>19.665932</td>\n",
       "      <td>0.0</td>\n",
       "      <td>0.000023</td>\n",
       "    </tr>\n",
       "    <tr>\n",
       "      <th>3</th>\n",
       "      <td>0</td>\n",
       "      <td>5</td>\n",
       "      <td>23.491569</td>\n",
       "      <td>0.0</td>\n",
       "      <td>0.000011</td>\n",
       "    </tr>\n",
       "    <tr>\n",
       "      <th>4</th>\n",
       "      <td>0</td>\n",
       "      <td>6</td>\n",
       "      <td>27.211936</td>\n",
       "      <td>0.0</td>\n",
       "      <td>0.000006</td>\n",
       "    </tr>\n",
       "    <tr>\n",
       "      <th>5</th>\n",
       "      <td>0</td>\n",
       "      <td>7</td>\n",
       "      <td>31.214866</td>\n",
       "      <td>0.0</td>\n",
       "      <td>0.000005</td>\n",
       "    </tr>\n",
       "    <tr>\n",
       "      <th>6</th>\n",
       "      <td>0</td>\n",
       "      <td>8</td>\n",
       "      <td>35.231972</td>\n",
       "      <td>0.0</td>\n",
       "      <td>0.000004</td>\n",
       "    </tr>\n",
       "    <tr>\n",
       "      <th>7</th>\n",
       "      <td>0</td>\n",
       "      <td>9</td>\n",
       "      <td>39.307647</td>\n",
       "      <td>0.0</td>\n",
       "      <td>0.000004</td>\n",
       "    </tr>\n",
       "    <tr>\n",
       "      <th>8</th>\n",
       "      <td>0</td>\n",
       "      <td>10</td>\n",
       "      <td>43.480048</td>\n",
       "      <td>0.0</td>\n",
       "      <td>0.000004</td>\n",
       "    </tr>\n",
       "    <tr>\n",
       "      <th>9</th>\n",
       "      <td>0</td>\n",
       "      <td>11</td>\n",
       "      <td>47.653435</td>\n",
       "      <td>0.0</td>\n",
       "      <td>0.000004</td>\n",
       "    </tr>\n",
       "  </tbody>\n",
       "</table>\n",
       "</div>"
      ],
      "text/plain": [
       "   l  n_pg   Re(freq)  Im(freq)    E_norm\n",
       "0  0     2  11.582128       0.0  0.001116\n",
       "1  0     3  15.992400       0.0  0.000107\n",
       "2  0     4  19.665932       0.0  0.000023\n",
       "3  0     5  23.491569       0.0  0.000011\n",
       "4  0     6  27.211936       0.0  0.000006\n",
       "5  0     7  31.214866       0.0  0.000005\n",
       "6  0     8  35.231972       0.0  0.000004\n",
       "7  0     9  39.307647       0.0  0.000004\n",
       "8  0    10  43.480048       0.0  0.000004\n",
       "9  0    11  47.653435       0.0  0.000004"
      ]
     },
     "metadata": {},
     "output_type": "display_data"
    },
    {
     "data": {
      "image/png": "[encoded data removed]",
      "text/plain": [
       "<Figure size 648x288 with 2 Axes>"
      ]
     },
     "metadata": {
      "needs_background": "light"
     },
     "output_type": "display_data"
    }
   ],
   "source": [
    "folder = \"~/Documents/mesa/work/\"\n",
    "file = \"gyre/gyresummary.txt\"\n",
    "\n",
    "dg = pd.read_csv(folder+file, skiprows=5, delim_whitespace=True)#, names=['l', 'n', 'f0', 'f0im', 'e_norm'])\n",
    "#dg['Re(freq)'] = dg['Re(freq)']*2*np.pi\n",
    "dnuavg = np.mean(np.diff(dg['Re(freq)']))\n",
    "print(dnuavg)\n",
    "display(dg.head(10))\n",
    "\n",
    "plt.figure(3, figsize=(9,4))\n",
    "plt.subplot(121)\n",
    "plt.scatter(dg['n_pg'], dg['Re(freq)'])\n",
    "plt.subplot(122)\n",
    "plt.scatter(dg['Re(freq)'] % dnuavg, dg['Re(freq)'])\n",
    "plt.show()"
   ]
  },
  {
   "cell_type": "code",
   "execution_count": 112,
   "metadata": {},
   "outputs": [],
   "source": [
    "file = \"M1.0_Y0.25_mmdd.index\"\n",
    "dh = pd.read_csv(folder+file, skiprows=1, delim_whitespace=True, names=['model','priority','profile'])\n",
    "prof1 = dh.loc[(dh.priority == 1)]['model'].min()\n",
    "prof2 = dh.loc[(dh.priority == 1)]['model'].max()\n",
    "prof = [prof1, prof2]"
   ]
  },
  {
   "cell_type": "code",
   "execution_count": null,
   "metadata": {},
   "outputs": [],
   "source": []
  }
 ],
 "metadata": {
  "kernelspec": {
   "display_name": "Python 3",
   "language": "python",
   "name": "python3"
  },
  "language_info": {
   "codemirror_mode": {
    "name": "ipython",
    "version": 3
   },
   "file_extension": ".py",
   "mimetype": "text/x-python",
   "name": "python",
   "nbconvert_exporter": "python",
   "pygments_lexer": "ipython3",
   "version": "3.7.2"
  }
 },
 "nbformat": 4,
 "nbformat_minor": 2
}
