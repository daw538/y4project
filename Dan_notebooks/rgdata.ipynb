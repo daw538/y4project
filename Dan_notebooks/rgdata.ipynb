{
 "cells": [
  {
   "cell_type": "code",
   "execution_count": 92,
   "metadata": {},
   "outputs": [],
   "source": [
    "import numpy as np\n",
    "import pandas as pd\n",
    "import matplotlib.pyplot as plt\n",
    "import random\n",
    "\n",
    "from matplotlib import rc\n",
    "rc(\"font\", family=\"serif\", size=11)"
   ]
  },
  {
   "cell_type": "code",
   "execution_count": 98,
   "metadata": {},
   "outputs": [
    {
     "name": "stdout",
     "output_type": "stream",
     "text": [
      "           ID      Numax  Numax_err\n",
      "259  11083319  44.015084   2.727756\n"
     ]
    },
    {
     "data": {
      "text/html": [
       "<div>\n",
       "<style scoped>\n",
       "    .dataframe tbody tr th:only-of-type {\n",
       "        vertical-align: middle;\n",
       "    }\n",
       "\n",
       "    .dataframe tbody tr th {\n",
       "        vertical-align: top;\n",
       "    }\n",
       "\n",
       "    .dataframe thead th {\n",
       "        text-align: right;\n",
       "    }\n",
       "</style>\n",
       "<table border=\"1\" class=\"dataframe\">\n",
       "  <thead>\n",
       "    <tr style=\"text-align: right;\">\n",
       "      <th></th>\n",
       "      <th>ID</th>\n",
       "      <th>Numax</th>\n",
       "      <th>Numax_err</th>\n",
       "    </tr>\n",
       "  </thead>\n",
       "  <tbody>\n",
       "    <tr>\n",
       "      <th>0</th>\n",
       "      <td>10907196</td>\n",
       "      <td>42.981248</td>\n",
       "      <td>1.456479</td>\n",
       "    </tr>\n",
       "    <tr>\n",
       "      <th>1</th>\n",
       "      <td>10962775</td>\n",
       "      <td>34.176654</td>\n",
       "      <td>1.342026</td>\n",
       "    </tr>\n",
       "    <tr>\n",
       "      <th>2</th>\n",
       "      <td>11177749</td>\n",
       "      <td>33.498019</td>\n",
       "      <td>0.049846</td>\n",
       "    </tr>\n",
       "    <tr>\n",
       "      <th>3</th>\n",
       "      <td>11231549</td>\n",
       "      <td>28.981327</td>\n",
       "      <td>0.348002</td>\n",
       "    </tr>\n",
       "    <tr>\n",
       "      <th>4</th>\n",
       "      <td>11178396</td>\n",
       "      <td>27.302513</td>\n",
       "      <td>1.358871</td>\n",
       "    </tr>\n",
       "  </tbody>\n",
       "</table>\n",
       "</div>"
      ],
      "text/plain": [
       "         ID      Numax  Numax_err\n",
       "0  10907196  42.981248   1.456479\n",
       "1  10962775  34.176654   1.342026\n",
       "2  11177749  33.498019   0.049846\n",
       "3  11231549  28.981327   0.348002\n",
       "4  11178396  27.302513   1.358871"
      ]
     },
     "execution_count": 98,
     "metadata": {},
     "output_type": "execute_result"
    }
   ],
   "source": [
    "output = pd.read_csv('../data/output_1000stars.csv', usecols=range(1,4))\n",
    "ID = 11083319\n",
    "#ID = random.choice(output['ID'])\n",
    "star = output.loc[(output['ID'] == ID)]\n",
    "print(star)\n",
    "output.head()\n"
   ]
  },
  {
   "cell_type": "code",
   "execution_count": 102,
   "metadata": {},
   "outputs": [
    {
     "data": {
      "text/html": [
       "<div>\n",
       "<style scoped>\n",
       "    .dataframe tbody tr th:only-of-type {\n",
       "        vertical-align: middle;\n",
       "    }\n",
       "\n",
       "    .dataframe tbody tr th {\n",
       "        vertical-align: top;\n",
       "    }\n",
       "\n",
       "    .dataframe thead th {\n",
       "        text-align: right;\n",
       "    }\n",
       "</style>\n",
       "<table border=\"1\" class=\"dataframe\">\n",
       "  <thead>\n",
       "    <tr style=\"text-align: right;\">\n",
       "      <th></th>\n",
       "      <th>n</th>\n",
       "      <th>f0</th>\n",
       "      <th>f0_err</th>\n",
       "      <th>dnu</th>\n",
       "    </tr>\n",
       "  </thead>\n",
       "  <tbody>\n",
       "    <tr>\n",
       "      <th>0</th>\n",
       "      <td>7</td>\n",
       "      <td>33.385122</td>\n",
       "      <td>0.030268</td>\n",
       "      <td>NaN</td>\n",
       "    </tr>\n",
       "    <tr>\n",
       "      <th>1</th>\n",
       "      <td>8</td>\n",
       "      <td>37.450272</td>\n",
       "      <td>0.036264</td>\n",
       "      <td>4.056850</td>\n",
       "    </tr>\n",
       "    <tr>\n",
       "      <th>2</th>\n",
       "      <td>9</td>\n",
       "      <td>41.498822</td>\n",
       "      <td>0.027044</td>\n",
       "      <td>4.161904</td>\n",
       "    </tr>\n",
       "    <tr>\n",
       "      <th>3</th>\n",
       "      <td>10</td>\n",
       "      <td>45.774079</td>\n",
       "      <td>0.030813</td>\n",
       "      <td>4.224105</td>\n",
       "    </tr>\n",
       "    <tr>\n",
       "      <th>4</th>\n",
       "      <td>11</td>\n",
       "      <td>49.947033</td>\n",
       "      <td>0.024758</td>\n",
       "      <td>4.217064</td>\n",
       "    </tr>\n",
       "    <tr>\n",
       "      <th>5</th>\n",
       "      <td>12</td>\n",
       "      <td>54.208207</td>\n",
       "      <td>0.042612</td>\n",
       "      <td>4.301390</td>\n",
       "    </tr>\n",
       "    <tr>\n",
       "      <th>6</th>\n",
       "      <td>13</td>\n",
       "      <td>58.549813</td>\n",
       "      <td>0.088717</td>\n",
       "      <td>4.504210</td>\n",
       "    </tr>\n",
       "    <tr>\n",
       "      <th>7</th>\n",
       "      <td>14</td>\n",
       "      <td>63.216627</td>\n",
       "      <td>0.090662</td>\n",
       "      <td>NaN</td>\n",
       "    </tr>\n",
       "  </tbody>\n",
       "</table>\n",
       "</div>"
      ],
      "text/plain": [
       "    n         f0    f0_err       dnu\n",
       "0   7  33.385122  0.030268       NaN\n",
       "1   8  37.450272  0.036264  4.056850\n",
       "2   9  41.498822  0.027044  4.161904\n",
       "3  10  45.774079  0.030813  4.224105\n",
       "4  11  49.947033  0.024758  4.217064\n",
       "5  12  54.208207  0.042612  4.301390\n",
       "6  13  58.549813  0.088717  4.504210\n",
       "7  14  63.216627  0.090662       NaN"
      ]
     },
     "execution_count": 102,
     "metadata": {},
     "output_type": "execute_result"
    }
   ],
   "source": [
    "modes = pd.read_csv('../data/rgbmodes/modes_'+str(ID)+'.csv', usecols=['f0', 'f0_err'])\n",
    "\n",
    "modes = modes.sort_values(by=['f0'])\n",
    "modes = modes.set_index(np.arange(0,len(modes),1))\n",
    "modes['dnu'] = (modes['f0'].diff(2).shift(-1))/2\n",
    "dnu_avg = np.mean(modes['dnu'])\n",
    "n_min = int(modes['f0'].min() / dnu_avg)\n",
    "\n",
    "n = np.arange(n_min, n_min+len(modes), 1)\n",
    "modes.insert(loc=0, column='n', value=n)\n",
    "\n",
    "\n",
    "modes"
   ]
  },
  {
   "cell_type": "code",
   "execution_count": 131,
   "metadata": {},
   "outputs": [
    {
     "data": {
      "image/png": "[encoded data removed]",
      "text/plain": [
       "<Figure size 432x288 with 1 Axes>"
      ]
     },
     "metadata": {
      "needs_background": "light"
     },
     "output_type": "display_data"
    }
   ],
   "source": [
    "plt.scatter(modes['f0'] % dnu_avg, modes['f0'], label=r'$l=$'+str(0))\n",
    "\n",
    "def model(n, dnu, nmax, epsilon, k, A, omega, phi, tau):\n",
    "    freqs = (n + epsilon) * dnu\n",
    "    freqs += (nmax-n)**2 * k\n",
    "    freqs += A*np.sin(omega*n + phi)*np.exp(-n/tau)\n",
    "    return freqs\n",
    "\n",
    "nmax = 11\n",
    "epsilon = 1\n",
    "k = 0.14\n",
    "A = 1\n",
    "omega = 5\n",
    "phi = 2.5\n",
    "tau = 10\n",
    "\n",
    "f = model(n, dnu_avg, nmax, epsilon, k, A, omega, phi, tau)\n",
    "\n",
    "plt.plot(f % dnu_avg, f, label='Model')\n",
    "plt.ylabel('Frequency')\n",
    "plt.xlabel(r'Mod. Freq. Spacing ('+ str(u\"%.3f\" % dnu_avg) +') $\\mu$Hz')\n",
    "plt.legend()\n",
    "plt.show()"
   ]
  },
  {
   "cell_type": "code",
   "execution_count": null,
   "metadata": {},
   "outputs": [],
   "source": []
  }
 ],
 "metadata": {
  "kernelspec": {
   "display_name": "Python 3",
   "language": "python",
   "name": "python3"
  },
  "language_info": {
   "codemirror_mode": {
    "name": "ipython",
    "version": 3
   },
   "file_extension": ".py",
   "mimetype": "text/x-python",
   "name": "python",
   "nbconvert_exporter": "python",
   "pygments_lexer": "ipython3",
   "version": "3.7.1"
  }
 },
 "nbformat": 4,
 "nbformat_minor": 2
}
