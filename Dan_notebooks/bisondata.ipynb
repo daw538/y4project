{
 "cells": [
  {
   "cell_type": "code",
   "execution_count": 60,
   "metadata": {},
   "outputs": [],
   "source": [
    "import numpy as np\n",
    "import pandas as pd\n",
    "import matplotlib.pyplot as plt"
   ]
  },
  {
   "cell_type": "code",
   "execution_count": 64,
   "metadata": {},
   "outputs": [
    {
     "name": "stdout",
     "output_type": "stream",
     "text": [
      "Please select file: 'broomhall' or 'davies': broomhall\n"
     ]
    }
   ],
   "source": [
    "# Import required data\n",
    "broomhall = '../data/broomhall2009.txt'\n",
    "davies = '../data/davies2014.txt'\n",
    "\n",
    "file = input(\"Please select file: 'broomhall' or 'davies': \")\n",
    "if file == str('broomhall'):\n",
    "    file = broomhall\n",
    "elif file == str('davies'):\n",
    "    file = davies\n",
    "else:\n",
    "    print('Please try again')\n",
    "\n",
    "df = pd.read_csv(file, header=None, delim_whitespace=True, names=['n', 'l', 'nu', 'd_nu'])"
   ]
  },
  {
   "cell_type": "code",
   "execution_count": 65,
   "metadata": {},
   "outputs": [],
   "source": [
    "# List comprehension: creates a list that contains separate\n",
    "# arrays for l=0,1,2... etc.\n",
    "l = [df[(df.l == i)] for i in (range(max(df.l)-min(df.l)))]\n",
    "#print(l[0].n)"
   ]
  },
  {
   "cell_type": "code",
   "execution_count": 69,
   "metadata": {},
   "outputs": [
    {
     "name": "stdout",
     "output_type": "stream",
     "text": [
      "[290.549 144.319 140.852 138.264 135.599 135.225 136.097 135.231 134.039\n",
      " 133.392 133.488 134.474 134.88  134.732 134.864 134.902 135.472 135.901\n",
      " 135.824 136.276 137.221]\n"
     ]
    },
    {
     "data": {
      "image/png": "[encoded data removed]",
      "text/plain": [
       "<Figure size 432x288 with 1 Axes>"
      ]
     },
     "metadata": {
      "needs_background": "light"
     },
     "output_type": "display_data"
    }
   ],
   "source": [
    "plt.scatter(l[1].n, l[1].nu)\n",
    "print(np.diff(l[0].nu))\n",
    "#plt.scatter(l[0].nu, np.diff(l[0].nu))"
   ]
  },
  {
   "cell_type": "code",
   "execution_count": null,
   "metadata": {},
   "outputs": [],
   "source": []
  },
  {
   "cell_type": "code",
   "execution_count": null,
   "metadata": {},
   "outputs": [],
   "source": []
  }
 ],
 "metadata": {
  "kernelspec": {
   "display_name": "Python 3",
   "language": "python",
   "name": "python3"
  },
  "language_info": {
   "codemirror_mode": {
    "name": "ipython",
    "version": 3
   },
   "file_extension": ".py",
   "mimetype": "text/x-python",
   "name": "python",
   "nbconvert_exporter": "python",
   "pygments_lexer": "ipython3",
   "version": "3.7.1"
  }
 },
 "nbformat": 4,
 "nbformat_minor": 2
}
