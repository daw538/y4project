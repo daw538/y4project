{
 "cells": [
  {
   "cell_type": "code",
   "execution_count": 1,
   "metadata": {},
   "outputs": [],
   "source": [
    "import numpy as np\n",
    "import pandas as pd\n",
    "import matplotlib.pyplot as plt\n",
    "\n",
    "from matplotlib import rc\n",
    "rc(\"font\", family=\"serif\", size=11)"
   ]
  },
  {
   "cell_type": "markdown",
   "metadata": {},
   "source": [
    "Here we shall import some data taken from HiROS and import into a pandas dataframe for analysis."
   ]
  },
  {
   "cell_type": "code",
   "execution_count": 2,
   "metadata": {},
   "outputs": [
    {
     "name": "stdout",
     "output_type": "stream",
     "text": [
      "Please select file: 'broomhall' or 'davies': broomhall\n"
     ]
    },
    {
     "data": {
      "text/html": [
       "<div>\n",
       "<style scoped>\n",
       "    .dataframe tbody tr th:only-of-type {\n",
       "        vertical-align: middle;\n",
       "    }\n",
       "\n",
       "    .dataframe tbody tr th {\n",
       "        vertical-align: top;\n",
       "    }\n",
       "\n",
       "    .dataframe thead th {\n",
       "        text-align: right;\n",
       "    }\n",
       "</style>\n",
       "<table border=\"1\" class=\"dataframe\">\n",
       "  <thead>\n",
       "    <tr style=\"text-align: right;\">\n",
       "      <th></th>\n",
       "      <th>n</th>\n",
       "      <th>l</th>\n",
       "      <th>nu</th>\n",
       "      <th>d_nu</th>\n",
       "    </tr>\n",
       "  </thead>\n",
       "  <tbody>\n",
       "    <tr>\n",
       "      <th>0</th>\n",
       "      <td>6</td>\n",
       "      <td>0</td>\n",
       "      <td>972.613</td>\n",
       "      <td>0.002</td>\n",
       "    </tr>\n",
       "    <tr>\n",
       "      <th>1</th>\n",
       "      <td>7</td>\n",
       "      <td>1</td>\n",
       "      <td>1185.592</td>\n",
       "      <td>0.004</td>\n",
       "    </tr>\n",
       "    <tr>\n",
       "      <th>2</th>\n",
       "      <td>8</td>\n",
       "      <td>0</td>\n",
       "      <td>1263.162</td>\n",
       "      <td>0.012</td>\n",
       "    </tr>\n",
       "    <tr>\n",
       "      <th>3</th>\n",
       "      <td>8</td>\n",
       "      <td>1</td>\n",
       "      <td>1329.629</td>\n",
       "      <td>0.004</td>\n",
       "    </tr>\n",
       "    <tr>\n",
       "      <th>4</th>\n",
       "      <td>8</td>\n",
       "      <td>2</td>\n",
       "      <td>1394.680</td>\n",
       "      <td>0.011</td>\n",
       "    </tr>\n",
       "  </tbody>\n",
       "</table>\n",
       "</div>"
      ],
      "text/plain": [
       "   n  l        nu   d_nu\n",
       "0  6  0   972.613  0.002\n",
       "1  7  1  1185.592  0.004\n",
       "2  8  0  1263.162  0.012\n",
       "3  8  1  1329.629  0.004\n",
       "4  8  2  1394.680  0.011"
      ]
     },
     "execution_count": 2,
     "metadata": {},
     "output_type": "execute_result"
    }
   ],
   "source": [
    "# Import required data\n",
    "broomhall = '../data/broomhall2009.txt'\n",
    "davies = '../data/davies2014.txt'\n",
    "\n",
    "file = input(\"Please select file: 'broomhall' or 'davies': \")\n",
    "if file == str('broomhall'):\n",
    "    file = broomhall\n",
    "elif file == str('davies'):\n",
    "    file = davies\n",
    "else:\n",
    "    print('Please try again')\n",
    "\n",
    "df = pd.read_csv(file, header=None, delim_whitespace=True, names=['n', 'l', 'nu', 'd_nu'])\n",
    "df.head()"
   ]
  },
  {
   "cell_type": "markdown",
   "metadata": {},
   "source": [
    "We can see from the preview above that the file contains a mix of radial modes at increasing orders. To perform any useful analysis, the induvidual modes $l$ must be considered separately. A neat way of doing this is to use a list comprehension, which avoids the need for multiple for loops and appending to arrays each time. This produces separate arrays for each value of $l$ which are contained within an overall list that can be called."
   ]
  },
  {
   "cell_type": "code",
   "execution_count": 4,
   "metadata": {},
   "outputs": [],
   "source": [
    "l = [df[(df.l == i)] for i in (range(max(df.l)-min(df.l)+1))]"
   ]
  },
  {
   "cell_type": "code",
   "execution_count": 40,
   "metadata": {},
   "outputs": [
    {
     "data": {
      "image/png": "[encoded data removed]",
      "text/plain": [
       "<Figure size 432x288 with 1 Axes>"
      ]
     },
     "metadata": {
      "needs_background": "light"
     },
     "output_type": "display_data"
    },
    {
     "name": "stdout",
     "output_type": "stream",
     "text": [
      "135.47200\n",
      "135.68600\n",
      "135.55400\n",
      "135.65200\n"
     ]
    },
    {
     "data": {
      "image/png": "[encoded data removed]",
      "text/plain": [
       "<Figure size 432x288 with 1 Axes>"
      ]
     },
     "metadata": {
      "needs_background": "light"
     },
     "output_type": "display_data"
    },
    {
     "data": {
      "text/plain": [
       "<matplotlib.legend.Legend at 0x7f3ab7520048>"
      ]
     },
     "execution_count": 40,
     "metadata": {},
     "output_type": "execute_result"
    },
    {
     "data": {
      "image/png": "[encoded data removed]",
      "text/plain": [
       "<Figure size 432x288 with 1 Axes>"
      ]
     },
     "metadata": {
      "needs_background": "light"
     },
     "output_type": "display_data"
    }
   ],
   "source": [
    "plt.figure(1)\n",
    "plt.errorbar(l[0].n, l[0].nu, yerr=l[0].d_nu, fmt='x')\n",
    "plt.errorbar(l[1].n, l[1].nu, yerr=l[1].d_nu, fmt='x')\n",
    "plt.errorbar(l[2].n, l[2].nu, yerr=l[2].d_nu, fmt='x')\n",
    "plt.errorbar(l[3].n, l[3].nu, yerr=l[3].d_nu, fmt='x')\n",
    "plt.show()\n",
    "\n",
    "print(u\"%.5f\" % np.median(np.diff(l[0].nu)))\n",
    "print(u\"%.5f\" % np.median(np.diff(l[1].nu)))\n",
    "print(u\"%.5f\" % np.median(np.diff(l[2].nu)))\n",
    "print(u\"%.5f\" % np.median(np.diff(l[3].nu)))\n",
    "\n",
    "# Échelle Plot for the data\n",
    "mod = 135.5\n",
    "\n",
    "plt.figure(2)\n",
    "plt.scatter(l[0].nu % mod, l[0].nu, label=r'$l=0$')\n",
    "plt.scatter(l[1].nu % mod, l[1].nu, label=r'$l=1$')\n",
    "plt.scatter(l[2].nu % mod, l[2].nu, label=r'$l=2$')\n",
    "plt.scatter(l[3].nu % mod, l[3].nu, label=r'$l=3$')\n",
    "plt.title('Échelle Diagram for Sun')\n",
    "plt.xlabel('Modulo Frequency Spacing ('+ str(mod) +') $\\mu$Hz')\n",
    "plt.ylabel('Frequency ($\\mu$Hz)')\n",
    "plt.legend()\n",
    "plt.show()\n",
    "\n",
    "# New plotting method\n",
    "for i in range(max(df.l)-min(df.l)+1):\n",
    "    plt.scatter(df.loc[(df.l == i) & (df.n > 11)].nu % 135.5, df.loc[(df.l == i) & (df.n > 11)].nu,\n",
    "                label=r'$l=$'+str(i))\n",
    "plt.title('Échelle Diagram for Sun')\n",
    "plt.xlabel('Modulo Frequency Spacing ('+ str(mod) +') $\\mu$Hz')\n",
    "plt.ylabel('Frequency ($\\mu$Hz)')\n",
    "plt.legend()\n"
   ]
  },
  {
   "cell_type": "code",
   "execution_count": 3,
   "metadata": {},
   "outputs": [
    {
     "data": {
      "text/plain": [
       "<matplotlib.colorbar.Colorbar at 0x7f7c21a2a080>"
      ]
     },
     "execution_count": 3,
     "metadata": {},
     "output_type": "execute_result"
    },
    {
     "data": {
      "image/png": "[encoded data removed]",
      "text/plain": [
       "<Figure size 432x288 with 2 Axes>"
      ]
     },
     "metadata": {
      "needs_background": "light"
     },
     "output_type": "display_data"
    }
   ],
   "source": [
    "# Look at l=0 data initially only\n",
    "plt.scatter(df.loc[(df.l == 0) & (df.n > 11)].nu, df.loc[(df.l == 0) & (df.n > 11)].nu % 135.5,\n",
    "            c=df.loc[(df.l == 0) & (df.n > 11)].n, cmap='viridis', label=r'$l=$'+str(0))\n",
    "plt.colorbar()"
   ]
  },
  {
   "cell_type": "markdown",
   "metadata": {},
   "source": [
    "#### Using Vrard Paper\n",
    "\n",
    "To compute the local frequency separation for a mode $\\nu_{n,0}$ we use the average difference over the adjacent modes\n",
    "$$ \\Delta\\nu(n) = \\frac{\\nu_{n+1,0} - \\nu_{n-1,0}}{2}$$\n",
    "which cannot be appropriately calculated for modes the limits of n.\n",
    "\n",
    "The asymptotic dependence of the large frequency separation wrt. n is given in the paper as\n",
    "$$ \\Delta\\nu_{\\textrm{up}}(n) = \\left( 1 + \\alpha\\left(n-n_\\textrm{max}\\right)\\right) \\left<\\Delta\\nu\\right>$$\n",
    "where $\\alpha$ is defined by the power law $\\alpha = A\\left<\\Delta\\nu\\right>^Β$. In the paper, the constants are set as $A=0.015$ and $B=-0.32$\n",
    "\n",
    "Having calulated these extra frequencies $\\Delta\\nu_\\textrm{up}$, the difference between the theoretical and observed large frequency separation is calculated with $\\delta_\\textrm{g,obs} = \\Delta\\nu(n) - \\Delta\\nu_{\\textrm{up}}(n)$"
   ]
  },
  {
   "cell_type": "code",
   "execution_count": 155,
   "metadata": {},
   "outputs": [
    {
     "name": "stderr",
     "output_type": "stream",
     "text": [
      "/usr/lib/python3.7/site-packages/ipykernel_launcher.py:9: SettingWithCopyWarning: \n",
      "A value is trying to be set on a copy of a slice from a DataFrame.\n",
      "Try using .loc[row_indexer,col_indexer] = value instead\n",
      "\n",
      "See the caveats in the documentation: http://pandas.pydata.org/pandas-docs/stable/indexing.html#indexing-view-versus-copy\n",
      "  if __name__ == '__main__':\n",
      "/usr/lib/python3.7/site-packages/ipykernel_launcher.py:11: SettingWithCopyWarning: \n",
      "A value is trying to be set on a copy of a slice from a DataFrame.\n",
      "Try using .loc[row_indexer,col_indexer] = value instead\n",
      "\n",
      "See the caveats in the documentation: http://pandas.pydata.org/pandas-docs/stable/indexing.html#indexing-view-versus-copy\n",
      "  # This is added back by InteractiveShellApp.init_path()\n"
     ]
    },
    {
     "data": {
      "image/png": "[encoded data removed]",
      "text/plain": [
       "<Figure size 864x360 with 2 Axes>"
      ]
     },
     "metadata": {
      "needs_background": "light"
     },
     "output_type": "display_data"
    },
    {
     "data": {
      "text/html": [
       "<div>\n",
       "<style scoped>\n",
       "    .dataframe tbody tr th:only-of-type {\n",
       "        vertical-align: middle;\n",
       "    }\n",
       "\n",
       "    .dataframe tbody tr th {\n",
       "        vertical-align: top;\n",
       "    }\n",
       "\n",
       "    .dataframe thead th {\n",
       "        text-align: right;\n",
       "    }\n",
       "</style>\n",
       "<table border=\"1\" class=\"dataframe\">\n",
       "  <thead>\n",
       "    <tr style=\"text-align: right;\">\n",
       "      <th></th>\n",
       "      <th>n</th>\n",
       "      <th>l</th>\n",
       "      <th>nu</th>\n",
       "      <th>d_nu</th>\n",
       "      <th>dnu_n</th>\n",
       "      <th>dnu_up</th>\n",
       "      <th>dg</th>\n",
       "    </tr>\n",
       "  </thead>\n",
       "  <tbody>\n",
       "    <tr>\n",
       "      <th>12</th>\n",
       "      <td>11</td>\n",
       "      <td>0</td>\n",
       "      <td>1686.597</td>\n",
       "      <td>0.011</td>\n",
       "      <td>NaN</td>\n",
       "      <td>130.438023</td>\n",
       "      <td>NaN</td>\n",
       "    </tr>\n",
       "    <tr>\n",
       "      <th>16</th>\n",
       "      <td>12</td>\n",
       "      <td>0</td>\n",
       "      <td>1822.196</td>\n",
       "      <td>0.011</td>\n",
       "      <td>135.4120</td>\n",
       "      <td>130.859606</td>\n",
       "      <td>4.552394</td>\n",
       "    </tr>\n",
       "    <tr>\n",
       "      <th>20</th>\n",
       "      <td>13</td>\n",
       "      <td>0</td>\n",
       "      <td>1957.421</td>\n",
       "      <td>0.012</td>\n",
       "      <td>135.6610</td>\n",
       "      <td>131.281190</td>\n",
       "      <td>4.379810</td>\n",
       "    </tr>\n",
       "    <tr>\n",
       "      <th>24</th>\n",
       "      <td>14</td>\n",
       "      <td>0</td>\n",
       "      <td>2093.518</td>\n",
       "      <td>0.013</td>\n",
       "      <td>135.6640</td>\n",
       "      <td>131.702773</td>\n",
       "      <td>3.961227</td>\n",
       "    </tr>\n",
       "    <tr>\n",
       "      <th>28</th>\n",
       "      <td>15</td>\n",
       "      <td>0</td>\n",
       "      <td>2228.749</td>\n",
       "      <td>0.014</td>\n",
       "      <td>134.6350</td>\n",
       "      <td>132.124356</td>\n",
       "      <td>2.510644</td>\n",
       "    </tr>\n",
       "    <tr>\n",
       "      <th>32</th>\n",
       "      <td>16</td>\n",
       "      <td>0</td>\n",
       "      <td>2362.788</td>\n",
       "      <td>0.016</td>\n",
       "      <td>133.7155</td>\n",
       "      <td>132.545939</td>\n",
       "      <td>1.169561</td>\n",
       "    </tr>\n",
       "    <tr>\n",
       "      <th>36</th>\n",
       "      <td>17</td>\n",
       "      <td>0</td>\n",
       "      <td>2496.180</td>\n",
       "      <td>0.017</td>\n",
       "      <td>133.4400</td>\n",
       "      <td>132.967522</td>\n",
       "      <td>0.472478</td>\n",
       "    </tr>\n",
       "    <tr>\n",
       "      <th>40</th>\n",
       "      <td>18</td>\n",
       "      <td>0</td>\n",
       "      <td>2629.668</td>\n",
       "      <td>0.015</td>\n",
       "      <td>133.9810</td>\n",
       "      <td>133.389105</td>\n",
       "      <td>0.591895</td>\n",
       "    </tr>\n",
       "    <tr>\n",
       "      <th>44</th>\n",
       "      <td>19</td>\n",
       "      <td>0</td>\n",
       "      <td>2764.142</td>\n",
       "      <td>0.015</td>\n",
       "      <td>134.6770</td>\n",
       "      <td>133.810688</td>\n",
       "      <td>0.866312</td>\n",
       "    </tr>\n",
       "    <tr>\n",
       "      <th>48</th>\n",
       "      <td>20</td>\n",
       "      <td>0</td>\n",
       "      <td>2899.022</td>\n",
       "      <td>0.013</td>\n",
       "      <td>134.8060</td>\n",
       "      <td>134.232271</td>\n",
       "      <td>0.573729</td>\n",
       "    </tr>\n",
       "    <tr>\n",
       "      <th>52</th>\n",
       "      <td>21</td>\n",
       "      <td>0</td>\n",
       "      <td>3033.754</td>\n",
       "      <td>0.014</td>\n",
       "      <td>134.7980</td>\n",
       "      <td>134.653854</td>\n",
       "      <td>0.144146</td>\n",
       "    </tr>\n",
       "    <tr>\n",
       "      <th>56</th>\n",
       "      <td>22</td>\n",
       "      <td>0</td>\n",
       "      <td>3168.618</td>\n",
       "      <td>0.017</td>\n",
       "      <td>134.8830</td>\n",
       "      <td>135.075437</td>\n",
       "      <td>-0.192438</td>\n",
       "    </tr>\n",
       "    <tr>\n",
       "      <th>60</th>\n",
       "      <td>23</td>\n",
       "      <td>0</td>\n",
       "      <td>3303.520</td>\n",
       "      <td>0.021</td>\n",
       "      <td>135.1870</td>\n",
       "      <td>135.497021</td>\n",
       "      <td>-0.310021</td>\n",
       "    </tr>\n",
       "    <tr>\n",
       "      <th>64</th>\n",
       "      <td>24</td>\n",
       "      <td>0</td>\n",
       "      <td>3438.992</td>\n",
       "      <td>0.030</td>\n",
       "      <td>135.6865</td>\n",
       "      <td>135.918604</td>\n",
       "      <td>-0.232104</td>\n",
       "    </tr>\n",
       "    <tr>\n",
       "      <th>68</th>\n",
       "      <td>25</td>\n",
       "      <td>0</td>\n",
       "      <td>3574.893</td>\n",
       "      <td>0.048</td>\n",
       "      <td>135.8625</td>\n",
       "      <td>136.340187</td>\n",
       "      <td>-0.477687</td>\n",
       "    </tr>\n",
       "    <tr>\n",
       "      <th>72</th>\n",
       "      <td>26</td>\n",
       "      <td>0</td>\n",
       "      <td>3710.717</td>\n",
       "      <td>0.088</td>\n",
       "      <td>136.0500</td>\n",
       "      <td>136.761770</td>\n",
       "      <td>-0.711770</td>\n",
       "    </tr>\n",
       "    <tr>\n",
       "      <th>75</th>\n",
       "      <td>27</td>\n",
       "      <td>0</td>\n",
       "      <td>3846.993</td>\n",
       "      <td>0.177</td>\n",
       "      <td>136.7485</td>\n",
       "      <td>137.183353</td>\n",
       "      <td>-0.434853</td>\n",
       "    </tr>\n",
       "    <tr>\n",
       "      <th>78</th>\n",
       "      <td>28</td>\n",
       "      <td>0</td>\n",
       "      <td>3984.214</td>\n",
       "      <td>0.323</td>\n",
       "      <td>NaN</td>\n",
       "      <td>137.604936</td>\n",
       "      <td>NaN</td>\n",
       "    </tr>\n",
       "  </tbody>\n",
       "</table>\n",
       "</div>"
      ],
      "text/plain": [
       "     n  l        nu   d_nu     dnu_n      dnu_up        dg\n",
       "12  11  0  1686.597  0.011       NaN  130.438023       NaN\n",
       "16  12  0  1822.196  0.011  135.4120  130.859606  4.552394\n",
       "20  13  0  1957.421  0.012  135.6610  131.281190  4.379810\n",
       "24  14  0  2093.518  0.013  135.6640  131.702773  3.961227\n",
       "28  15  0  2228.749  0.014  134.6350  132.124356  2.510644\n",
       "32  16  0  2362.788  0.016  133.7155  132.545939  1.169561\n",
       "36  17  0  2496.180  0.017  133.4400  132.967522  0.472478\n",
       "40  18  0  2629.668  0.015  133.9810  133.389105  0.591895\n",
       "44  19  0  2764.142  0.015  134.6770  133.810688  0.866312\n",
       "48  20  0  2899.022  0.013  134.8060  134.232271  0.573729\n",
       "52  21  0  3033.754  0.014  134.7980  134.653854  0.144146\n",
       "56  22  0  3168.618  0.017  134.8830  135.075437 -0.192438\n",
       "60  23  0  3303.520  0.021  135.1870  135.497021 -0.310021\n",
       "64  24  0  3438.992  0.030  135.6865  135.918604 -0.232104\n",
       "68  25  0  3574.893  0.048  135.8625  136.340187 -0.477687\n",
       "72  26  0  3710.717  0.088  136.0500  136.761770 -0.711770\n",
       "75  27  0  3846.993  0.177  136.7485  137.183353 -0.434853\n",
       "78  28  0  3984.214  0.323       NaN  137.604936       NaN"
      ]
     },
     "execution_count": 155,
     "metadata": {},
     "output_type": "execute_result"
    }
   ],
   "source": [
    "nmax = 22\n",
    "# Modelling from Vrard Paper\n",
    "\n",
    "l0 = df.loc[(df.l == 0) & (df.n > 10)]\n",
    "l0[:].dnu_n = (l0['nu'].diff(2).shift(-1))/2   # Differences between neighbouring frequencies\n",
    "\n",
    "alpha = 0.015*np.mean(l0['dnu_n'])**(-0.32)    # Equation provided in paper\n",
    "\n",
    "l0['dnu_up'] = (1 + alpha*(l0['n']-nmax)) * (np.mean(l0['dnu_n']))   # Calculating Δν_up (see equation above)\n",
    "\n",
    "l0['dg'] = l0['dnu_n']-l0['dnu_up']    # Difference between theoretical and observed large freq spacings\n",
    "\n",
    "\n",
    "# Plots to replicate results of Figure 2 in the Vrard paper\n",
    "plt.figure(10, figsize=(12,5))\n",
    "plt.subplot(1,2,1)\n",
    "plt.scatter(l0.nu, l0.dnu_n)\n",
    "plt.xlabel(r'Frequency ($\\mu m$)')\n",
    "plt.ylabel(r'$\\Delta\\nu(n)$')\n",
    "plt.subplot(1,2,2)\n",
    "plt.scatter(l0.nu, l0.dg)\n",
    "plt.xlabel(r'Frequency ($\\mu m$)')\n",
    "plt.ylabel(r'$\\delta_g$')\n",
    "plt.show()\n",
    "\n",
    "#l0.to_csv('l0_test.csv')\n",
    "#l0['y'] = 0.0000018703798342580922*l0['nu']**2 + l0['nu']*(-0.013109745137993805) + 22.46095493384917\n",
    "#plt.scatter(l0.nu, l0.dg - l0.y)\n",
    "\n",
    "\n",
    "l0"
   ]
  },
  {
   "cell_type": "markdown",
   "metadata": {},
   "source": [
    "Having obtained our results for the difference between the observed and theoretical large frequency spacing, we can attempt to model the resultant variations using the following relation \n",
    "$$ \\delta_{g, obs} = \\mathcal{A} \\left(\\left<\\Delta\\nu\\right>\\right) \\left( \\frac{2\\pi(\\nu-\\nu_{\\textrm{max}})}{\\mathcal{G}\\left(\\left<\\Delta\\nu\\right>\\right)} + \\phi \\right) $$\n",
    "where $\\mathcal{G}$ and $\\mathcal{A}$ are the period and amplitude of the oscillation expressed in units of $\\left<\\Delta\\nu\\right>$"
   ]
  },
  {
   "cell_type": "code",
   "execution_count": 157,
   "metadata": {},
   "outputs": [
    {
     "name": "stderr",
     "output_type": "stream",
     "text": [
      "INFO:pystan:COMPILING THE C++ CODE FOR MODEL anon_model_fe59f979510b86506d2ff8fa0f5119c7 NOW.\n"
     ]
    }
   ],
   "source": [
    "code = '''\n",
    "functions {\n",
    "    real dgobs(real A, real nu, real numax, real G, real phi){\n",
    "        return A * cos((2*pi()*(nu-numax)/G)+phi);\n",
    "    }\n",
    "}\n",
    "data {\n",
    "    int N;\n",
    "    real nu[N];\n",
    "    real dg[N];\n",
    "    real numax;\n",
    "}\n",
    "parameters {\n",
    "    real A;\n",
    "    real G;\n",
    "    real<lower = -2*pi(), upper = 2*pi()> phi;\n",
    "    real dg_unc[N];\n",
    "}\n",
    "model {\n",
    "\n",
    "    real mod[N];\n",
    "    for (i in 1:N){\n",
    "        mod[i] = dgobs(A, nu[i], numax, G, phi);\n",
    "    }\n",
    "    mod ~ normal(dg,dg_unc);\n",
    "    A ~ normal(0.015*135.4^(-0.32), 0.01);\n",
    "    G ~ normal(100.0, 1);\n",
    "    phi ~ normal(0, 1.5);\n",
    "}\n",
    "'''\n",
    "import pystan\n",
    "sm = pystan.StanModel(model_code=code)"
   ]
  },
  {
   "cell_type": "code",
   "execution_count": 158,
   "metadata": {},
   "outputs": [
    {
     "ename": "RuntimeError",
     "evalue": "Initialization failed.",
     "output_type": "error",
     "traceback": [
      "\u001b[0;31m---------------------------------------------------------------------------\u001b[0m",
      "\u001b[0;31mRemoteTraceback\u001b[0m                           Traceback (most recent call last)",
      "\u001b[0;31mRemoteTraceback\u001b[0m: \n\"\"\"\nTraceback (most recent call last):\n  File \"/usr/lib/python3.7/multiprocessing/pool.py\", line 121, in worker\n    result = (True, func(*args, **kwds))\n  File \"/usr/lib/python3.7/multiprocessing/pool.py\", line 44, in mapstar\n    return list(map(*args))\n  File \"stanfit4anon_model_fe59f979510b86506d2ff8fa0f5119c7_5793982511235673999.pyx\", line 370, in stanfit4anon_model_fe59f979510b86506d2ff8fa0f5119c7_5793982511235673999._call_sampler_star\n  File \"stanfit4anon_model_fe59f979510b86506d2ff8fa0f5119c7_5793982511235673999.pyx\", line 403, in stanfit4anon_model_fe59f979510b86506d2ff8fa0f5119c7_5793982511235673999._call_sampler\nRuntimeError: Initialization failed.\n\"\"\"",
      "\nThe above exception was the direct cause of the following exception:\n",
      "\u001b[0;31mRuntimeError\u001b[0m                              Traceback (most recent call last)",
      "\u001b[0;32m<ipython-input-158-8da2b994efd3>\u001b[0m in \u001b[0;36m<module>\u001b[0;34m\u001b[0m\n\u001b[1;32m      6\u001b[0m \u001b[0mnchains\u001b[0m \u001b[0;34m=\u001b[0m \u001b[0;36m4\u001b[0m\u001b[0;34m\u001b[0m\u001b[0;34m\u001b[0m\u001b[0m\n\u001b[1;32m      7\u001b[0m \u001b[0;34m\u001b[0m\u001b[0m\n\u001b[0;32m----> 8\u001b[0;31m \u001b[0mfit\u001b[0m \u001b[0;34m=\u001b[0m \u001b[0msm\u001b[0m\u001b[0;34m.\u001b[0m\u001b[0msampling\u001b[0m\u001b[0;34m(\u001b[0m\u001b[0mdata\u001b[0m\u001b[0;34m=\u001b[0m\u001b[0mstan_data\u001b[0m\u001b[0;34m,\u001b[0m \u001b[0miter\u001b[0m\u001b[0;34m=\u001b[0m\u001b[0;36m1000\u001b[0m\u001b[0;34m,\u001b[0m \u001b[0mchains\u001b[0m\u001b[0;34m=\u001b[0m\u001b[0mnchains\u001b[0m\u001b[0;34m)\u001b[0m\u001b[0;34m\u001b[0m\u001b[0;34m\u001b[0m\u001b[0m\n\u001b[0m",
      "\u001b[0;32m/usr/lib/python3.7/site-packages/pystan/model.py\u001b[0m in \u001b[0;36msampling\u001b[0;34m(self, data, pars, chains, iter, warmup, thin, seed, init, sample_file, diagnostic_file, verbose, algorithm, control, n_jobs, **kwargs)\u001b[0m\n\u001b[1;32m    774\u001b[0m         \u001b[0mcall_sampler_args\u001b[0m \u001b[0;34m=\u001b[0m \u001b[0mizip\u001b[0m\u001b[0;34m(\u001b[0m\u001b[0mitertools\u001b[0m\u001b[0;34m.\u001b[0m\u001b[0mrepeat\u001b[0m\u001b[0;34m(\u001b[0m\u001b[0mdata\u001b[0m\u001b[0;34m)\u001b[0m\u001b[0;34m,\u001b[0m \u001b[0margs_list\u001b[0m\u001b[0;34m,\u001b[0m \u001b[0mitertools\u001b[0m\u001b[0;34m.\u001b[0m\u001b[0mrepeat\u001b[0m\u001b[0;34m(\u001b[0m\u001b[0mpars\u001b[0m\u001b[0;34m)\u001b[0m\u001b[0;34m)\u001b[0m\u001b[0;34m\u001b[0m\u001b[0;34m\u001b[0m\u001b[0m\n\u001b[1;32m    775\u001b[0m         \u001b[0mcall_sampler_star\u001b[0m \u001b[0;34m=\u001b[0m \u001b[0mself\u001b[0m\u001b[0;34m.\u001b[0m\u001b[0mmodule\u001b[0m\u001b[0;34m.\u001b[0m\u001b[0m_call_sampler_star\u001b[0m\u001b[0;34m\u001b[0m\u001b[0;34m\u001b[0m\u001b[0m\n\u001b[0;32m--> 776\u001b[0;31m         \u001b[0mret_and_samples\u001b[0m \u001b[0;34m=\u001b[0m \u001b[0m_map_parallel\u001b[0m\u001b[0;34m(\u001b[0m\u001b[0mcall_sampler_star\u001b[0m\u001b[0;34m,\u001b[0m \u001b[0mcall_sampler_args\u001b[0m\u001b[0;34m,\u001b[0m \u001b[0mn_jobs\u001b[0m\u001b[0;34m)\u001b[0m\u001b[0;34m\u001b[0m\u001b[0;34m\u001b[0m\u001b[0m\n\u001b[0m\u001b[1;32m    777\u001b[0m         \u001b[0msamples\u001b[0m \u001b[0;34m=\u001b[0m \u001b[0;34m[\u001b[0m\u001b[0msmpl\u001b[0m \u001b[0;32mfor\u001b[0m \u001b[0m_\u001b[0m\u001b[0;34m,\u001b[0m \u001b[0msmpl\u001b[0m \u001b[0;32min\u001b[0m \u001b[0mret_and_samples\u001b[0m\u001b[0;34m]\u001b[0m\u001b[0;34m\u001b[0m\u001b[0;34m\u001b[0m\u001b[0m\n\u001b[1;32m    778\u001b[0m \u001b[0;34m\u001b[0m\u001b[0m\n",
      "\u001b[0;32m/usr/lib/python3.7/site-packages/pystan/model.py\u001b[0m in \u001b[0;36m_map_parallel\u001b[0;34m(function, args, n_jobs)\u001b[0m\n\u001b[1;32m     84\u001b[0m         \u001b[0;32mtry\u001b[0m\u001b[0;34m:\u001b[0m\u001b[0;34m\u001b[0m\u001b[0;34m\u001b[0m\u001b[0m\n\u001b[1;32m     85\u001b[0m             \u001b[0mpool\u001b[0m \u001b[0;34m=\u001b[0m \u001b[0mmultiprocessing\u001b[0m\u001b[0;34m.\u001b[0m\u001b[0mPool\u001b[0m\u001b[0;34m(\u001b[0m\u001b[0mprocesses\u001b[0m\u001b[0;34m=\u001b[0m\u001b[0mn_jobs\u001b[0m\u001b[0;34m)\u001b[0m\u001b[0;34m\u001b[0m\u001b[0;34m\u001b[0m\u001b[0m\n\u001b[0;32m---> 86\u001b[0;31m             \u001b[0mmap_result\u001b[0m \u001b[0;34m=\u001b[0m \u001b[0mpool\u001b[0m\u001b[0;34m.\u001b[0m\u001b[0mmap\u001b[0m\u001b[0;34m(\u001b[0m\u001b[0mfunction\u001b[0m\u001b[0;34m,\u001b[0m \u001b[0margs\u001b[0m\u001b[0;34m)\u001b[0m\u001b[0;34m\u001b[0m\u001b[0;34m\u001b[0m\u001b[0m\n\u001b[0m\u001b[1;32m     87\u001b[0m         \u001b[0;32mfinally\u001b[0m\u001b[0;34m:\u001b[0m\u001b[0;34m\u001b[0m\u001b[0;34m\u001b[0m\u001b[0m\n\u001b[1;32m     88\u001b[0m             \u001b[0mpool\u001b[0m\u001b[0;34m.\u001b[0m\u001b[0mclose\u001b[0m\u001b[0;34m(\u001b[0m\u001b[0;34m)\u001b[0m\u001b[0;34m\u001b[0m\u001b[0;34m\u001b[0m\u001b[0m\n",
      "\u001b[0;32m/usr/lib/python3.7/multiprocessing/pool.py\u001b[0m in \u001b[0;36mmap\u001b[0;34m(self, func, iterable, chunksize)\u001b[0m\n\u001b[1;32m    288\u001b[0m         \u001b[0;32min\u001b[0m \u001b[0ma\u001b[0m \u001b[0mlist\u001b[0m \u001b[0mthat\u001b[0m \u001b[0;32mis\u001b[0m \u001b[0mreturned\u001b[0m\u001b[0;34m.\u001b[0m\u001b[0;34m\u001b[0m\u001b[0;34m\u001b[0m\u001b[0m\n\u001b[1;32m    289\u001b[0m         '''\n\u001b[0;32m--> 290\u001b[0;31m         \u001b[0;32mreturn\u001b[0m \u001b[0mself\u001b[0m\u001b[0;34m.\u001b[0m\u001b[0m_map_async\u001b[0m\u001b[0;34m(\u001b[0m\u001b[0mfunc\u001b[0m\u001b[0;34m,\u001b[0m \u001b[0miterable\u001b[0m\u001b[0;34m,\u001b[0m \u001b[0mmapstar\u001b[0m\u001b[0;34m,\u001b[0m \u001b[0mchunksize\u001b[0m\u001b[0;34m)\u001b[0m\u001b[0;34m.\u001b[0m\u001b[0mget\u001b[0m\u001b[0;34m(\u001b[0m\u001b[0;34m)\u001b[0m\u001b[0;34m\u001b[0m\u001b[0;34m\u001b[0m\u001b[0m\n\u001b[0m\u001b[1;32m    291\u001b[0m \u001b[0;34m\u001b[0m\u001b[0m\n\u001b[1;32m    292\u001b[0m     \u001b[0;32mdef\u001b[0m \u001b[0mstarmap\u001b[0m\u001b[0;34m(\u001b[0m\u001b[0mself\u001b[0m\u001b[0;34m,\u001b[0m \u001b[0mfunc\u001b[0m\u001b[0;34m,\u001b[0m \u001b[0miterable\u001b[0m\u001b[0;34m,\u001b[0m \u001b[0mchunksize\u001b[0m\u001b[0;34m=\u001b[0m\u001b[0;32mNone\u001b[0m\u001b[0;34m)\u001b[0m\u001b[0;34m:\u001b[0m\u001b[0;34m\u001b[0m\u001b[0;34m\u001b[0m\u001b[0m\n",
      "\u001b[0;32m/usr/lib/python3.7/multiprocessing/pool.py\u001b[0m in \u001b[0;36mget\u001b[0;34m(self, timeout)\u001b[0m\n\u001b[1;32m    681\u001b[0m             \u001b[0;32mreturn\u001b[0m \u001b[0mself\u001b[0m\u001b[0;34m.\u001b[0m\u001b[0m_value\u001b[0m\u001b[0;34m\u001b[0m\u001b[0;34m\u001b[0m\u001b[0m\n\u001b[1;32m    682\u001b[0m         \u001b[0;32melse\u001b[0m\u001b[0;34m:\u001b[0m\u001b[0;34m\u001b[0m\u001b[0;34m\u001b[0m\u001b[0m\n\u001b[0;32m--> 683\u001b[0;31m             \u001b[0;32mraise\u001b[0m \u001b[0mself\u001b[0m\u001b[0;34m.\u001b[0m\u001b[0m_value\u001b[0m\u001b[0;34m\u001b[0m\u001b[0;34m\u001b[0m\u001b[0m\n\u001b[0m\u001b[1;32m    684\u001b[0m \u001b[0;34m\u001b[0m\u001b[0m\n\u001b[1;32m    685\u001b[0m     \u001b[0;32mdef\u001b[0m \u001b[0m_set\u001b[0m\u001b[0;34m(\u001b[0m\u001b[0mself\u001b[0m\u001b[0;34m,\u001b[0m \u001b[0mi\u001b[0m\u001b[0;34m,\u001b[0m \u001b[0mobj\u001b[0m\u001b[0;34m)\u001b[0m\u001b[0;34m:\u001b[0m\u001b[0;34m\u001b[0m\u001b[0;34m\u001b[0m\u001b[0m\n",
      "\u001b[0;31mRuntimeError\u001b[0m: Initialization failed."
     ]
    }
   ],
   "source": [
    "stan_data = {'N': len(l0['nu']),\n",
    "             'nu': l0['nu'], \n",
    "             'dg': l0['dg'],\n",
    "             'numax': 3168.6}\n",
    "#start = {'beta': 0.5}\n",
    "nchains = 4\n",
    "\n",
    "fit = sm.sampling(data=stan_data, iter=1000, chains=nchains)"
   ]
  },
  {
   "cell_type": "code",
   "execution_count": null,
   "metadata": {},
   "outputs": [],
   "source": []
  }
 ],
 "metadata": {
  "kernelspec": {
   "display_name": "Python 3",
   "language": "python",
   "name": "python3"
  },
  "language_info": {
   "codemirror_mode": {
    "name": "ipython",
    "version": 3
   },
   "file_extension": ".py",
   "mimetype": "text/x-python",
   "name": "python",
   "nbconvert_exporter": "python",
   "pygments_lexer": "ipython3",
   "version": "3.7.1"
  }
 },
 "nbformat": 4,
 "nbformat_minor": 2
}
