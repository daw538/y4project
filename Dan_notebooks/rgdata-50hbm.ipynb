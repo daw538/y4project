{
 "cells": [
  {
   "cell_type": "code",
   "execution_count": 1,
   "metadata": {},
   "outputs": [],
   "source": [
    "# ORIGINAL RGB FILE\n",
    "import numpy as np\n",
    "import pandas as pd\n",
    "import matplotlib.pyplot as plt\n",
    "import random\n",
    "import pystan\n",
    "\n",
    "from IPython.display import display\n",
    "\n",
    "from matplotlib import rc\n",
    "rc(\"font\", family=\"serif\", size=11)"
   ]
  },
  {
   "cell_type": "markdown",
   "metadata": {},
   "source": [
    "First we will read in a file that contains the overall list of all the available datasets, with corresponding star IDs, $\\nu_{max}$ and $\\sigma_{\\nu_{max}}$ values. From this we will take a random selection for our analysis."
   ]
  },
  {
   "cell_type": "code",
   "execution_count": 2,
   "metadata": {},
   "outputs": [],
   "source": [
    "output = pd.read_csv('../data/output_1000stars.csv', usecols=range(1,4))\n",
    "# Select a random number of stars from the file, recording their IDs\n",
    "IDs = [random.choice(output['ID']) for i in range(6)]\n",
    "# Create a list of the numax values corresponding to each ID\n",
    "Numax = [(output.loc[(output['ID'] == IDs[i])]).iloc[0]['Numax'] for i in range(len(IDs))]\n",
    "Numax_err = [(output.loc[(output['ID'] == IDs[i])]).iloc[0]['Numax_err'] for i in range(len(IDs))]"
   ]
  },
  {
   "cell_type": "markdown",
   "metadata": {},
   "source": [
    "Using our list of selected stars, we can then pull the respective files containing the induvidual mode frequencies and errors. The different files will contain varying numbers of modes; in order to successfully parse the data through Stan, one must ensure that all the arrays are of the same length. To do this, for every dataset that contains less modes than the most complete dataset, we can produce additional modes based on the average frequency spacing $\\left<\\Delta\\nu\\right>$ for each star, ensuring to assign these points with a large uncertainty so that Stan does not use this as restrictive points during the fit (they are essentially ignored)."
   ]
  },
  {
   "cell_type": "code",
   "execution_count": 3,
   "metadata": {},
   "outputs": [],
   "source": [
    "modesID = [pd.read_csv('../data/rgbmodes/modes_'+str(IDs[i])+'.csv', usecols=['f0', 'f0_err', 'A0'])\n",
    "           for i in np.arange(0,len(IDs),1)]\n",
    "lenmodes = [len(modesID[i]) for i in range(len(IDs))]\n",
    "maxmodes = max(lenmodes)\n",
    "arr_n = np.zeros([len(IDs),maxmodes])\n",
    "arr_freq = np.zeros([len(IDs),maxmodes])\n",
    "arr_freqerr = np.zeros([len(IDs),maxmodes])\n",
    "\n",
    "\n",
    "dnu_avgID = []\n",
    "for i in np.arange(0,len(IDs),1):\n",
    "    modesID[i] = modesID[i].sort_values(by=['f0'])\n",
    "    modesID[i] = modesID[i].set_index(np.arange(0,len(modesID[i]),1))\n",
    "    modesID[i]['dnu'] = (modesID[i]['f0'].diff(2).shift(-1))/2\n",
    "    dnu_avg = (np.mean(modesID[i]['dnu']))\n",
    "    dnu_avgID.append(dnu_avg)\n",
    "    \n",
    "    n_min = int(modesID[i]['f0'].min() / dnu_avg)\n",
    "    n = np.arange(n_min, n_min+len(modesID[i]), 1)\n",
    "    modesID[i].insert(loc=0, column='n', value=n)\n",
    "    \n",
    "    # Loop to ensure all arrays are the same length\n",
    "    if lenmodes[i] < maxmodes:\n",
    "        l = lenmodes[i]\n",
    "        while l < maxmodes:\n",
    "            newrow = {'n': int(np.max(modesID[i]['n'])+1),\n",
    "                      'f0': np.max(modesID[i]['f0'])+dnu_avgID[i],\n",
    "                      'f0_err': 100000}\n",
    "            modesID[i] = modesID[i].append(newrow, ignore_index=True)\n",
    "            l += 1\n",
    "        \n",
    "    arr_n[i,:] = modesID[i]['n']\n",
    "    arr_freq[i,:] = modesID[i]['f0']\n",
    "    arr_freqerr[i,:] = modesID[i]['f0_err']\n",
    "    \n",
    "    #display(modesID[i])\n",
    "    \n",
    "dnu_avgarr = np.asarray(dnu_avgID)"
   ]
  },
  {
   "cell_type": "markdown",
   "metadata": {},
   "source": [
    "The data for the different stars can be viewed on an Échelle Diagram."
   ]
  },
  {
   "cell_type": "code",
   "execution_count": 4,
   "metadata": {},
   "outputs": [
    {
     "data": {
      "image/png": "[encoded data removed]",
      "text/plain": [
       "<Figure size 432x288 with 1 Axes>"
      ]
     },
     "metadata": {
      "needs_background": "light"
     },
     "output_type": "display_data"
    }
   ],
   "source": [
    "for i in np.arange(0,len(IDs),1):\n",
    "    plt.scatter(modesID[i]['f0'] % dnu_avgID[i], modesID[i]['f0'], label=r'ID = '+str(IDs[i]))\n",
    "\n",
    "#Define start parameters\n",
    "eps = []\n",
    "for i in range(len(IDs)):\n",
    "    epsilon1 = np.median((modesID[i].f0 % dnu_avg) / dnu_avg)\n",
    "    eps.append(epsilon1)\n",
    "epsilon = np.asarray(eps)\n",
    "\n",
    "numax_obs = Numax\n",
    "nmax = numax_obs/dnu_avgarr - epsilon\n",
    "alpha = 0.015*dnu_avgarr**(-0.32)\n",
    "A = 0.06*dnu_avgarr**(-0.88) \n",
    "G = np.ones([len(IDs)])*3.08\n",
    "tau = np.ones([len(IDs)])*10\n",
    "phi = np.ones([len(IDs)])*1.71\n",
    "\n",
    "plt.ylabel('Frequency')\n",
    "plt.xlabel(r'Mod. Freq. Spacing ('+ str(u\"%.3f\" % dnu_avg) +') $\\mu$Hz')\n",
    "plt.legend(bbox_to_anchor=(1.05, 1), loc=2, borderaxespad=0.5)\n",
    "#plt.savefig('seminar/manyrgbs.pdf')\n",
    "plt.show()"
   ]
  },
  {
   "cell_type": "markdown",
   "metadata": {},
   "source": [
    "With all our required data, we can parse the data into a stan model constructed to perform a hierarchical Bayesian model. Hyperpriors have been introduced on a number of parameters based on values in the Vrard (2014) paper."
   ]
  },
  {
   "cell_type": "code",
   "execution_count": 10,
   "metadata": {},
   "outputs": [
    {
     "name": "stderr",
     "output_type": "stream",
     "text": [
      "INFO:pystan:COMPILING THE C++ CODE FOR MODEL anon_model_00f960a035d810bbec594fa3d8c9432c NOW.\n"
     ]
    }
   ],
   "source": [
    "code = '''\n",
    "data {\n",
    "    int N;  //number of stars\n",
    "    int M; //number of modes\n",
    "    real n[N, M];\n",
    "    real freq[N, M];\n",
    "    real freq_err[N, M];\n",
    "    real dnu_guess[N];\n",
    "}\n",
    "parameters {\n",
    "    real dnu[N];\n",
    "    real nmax[N];\n",
    "    real epsilon[N];\n",
    "    real alpha[N];\n",
    "    real<lower = 0> A[N];\n",
    "    real<lower = 0> G[N];\n",
    "    real<lower = -2.0*pi(), upper = 2.0*pi()> phi[N];\n",
    "    real<lower = 0> tau[N];\n",
    "    real epsA;\n",
    "    real epsB;\n",
    "    real alA;\n",
    "    real alB;\n",
    "    real AA;\n",
    "    real AB;\n",
    "    \n",
    "}\n",
    "\n",
    "transformed parameters {\n",
    "    real tau_t[N];\n",
    "    for (i in 1:N){\n",
    "        tau_t[i] = Ktruestd[i] * sigma + mu;\n",
    "    }\n",
    "}\n",
    "\n",
    "\n",
    "model {\n",
    "    real mod[M];\n",
    "    for (i in 1:N){\n",
    "        for (j in 1:M){\n",
    "            mod[j] = (n[i,j] + epsilon[i] + (alpha[i]/2) * (nmax[i] - n[i,j])^2 + \n",
    "                A[i]*G[i]/(2*pi()) * sin((2*pi()*(n[i,j]-nmax[i]))/G[i] + phi[i]))*dnu[i]*\n",
    "                exp(-n[i,j]/tau[i]);\n",
    "            mod[j] ~ normal(freq[i], freq_err[i]);\n",
    "        }\n",
    "        dnu[i] ~ normal(dnu_guess[i], dnu_guess[i]*0.001);\n",
    "        epsilon[i] ~ normal(epsA + epsB*log(dnu[i]), 0.5);\n",
    "        alpha[i] ~ lognormal(log(alA*dnu[i]^(-alB)), 0.3);\n",
    "        A[i] ~ lognormal(log(AA*dnu[i]^(-AB)), 0.4);\n",
    "    }\n",
    "    \n",
    "    //epsilon ~ uniform(-1.0, 2.0);\n",
    "    nmax ~ normal(10, 4);\n",
    "    //alpha ~ lognormal(log(0.015*dnu^(-0.32)), 0.3);\n",
    "    //A ~ lognormal(log(0.06*dnu^(-0.88)), 0.4);\n",
    "    \n",
    "    G ~ normal(3.08, 0.65);\n",
    "    tau ~ normal(50, 10);\n",
    "    epsA ~ normal(0.601, 0.080);\n",
    "    epsB ~ normal(0.632, 0.080);\n",
    "    alA ~ normal(0.015, 0.005);\n",
    "    alB ~ normal(0.32, 0.08);\n",
    "    AA ~ normal(0.06, 0.01);\n",
    "    AB ~ normal(0.88, 0.05);\n",
    "}\n",
    "'''\n",
    "sm = pystan.StanModel(model_code=code)"
   ]
  },
  {
   "cell_type": "code",
   "execution_count": 11,
   "metadata": {},
   "outputs": [
    {
     "name": "stderr",
     "output_type": "stream",
     "text": [
      "WARNING:pystan:n_eff / iter for parameter nmax[4] is 0.0001983847587594855!\n",
      "WARNING:pystan:n_eff / iter for parameter nmax[5] is 0.0005549451542096261!\n",
      "WARNING:pystan:n_eff / iter for parameter nmax[6] is 0.00032658496502810955!\n",
      "WARNING:pystan:n_eff / iter for parameter epsilon[4] is 0.00019770486845002532!\n",
      "WARNING:pystan:n_eff / iter for parameter epsilon[5] is 0.0005592786253522789!\n",
      "WARNING:pystan:n_eff / iter for parameter epsilon[6] is 0.0003244779391114682!\n",
      "WARNING:pystan:n_eff / iter for parameter alpha[4] is 0.00025274650691590626!\n",
      "WARNING:pystan:n_eff / iter for parameter alpha[5] is 0.0006060982847257295!\n",
      "WARNING:pystan:n_eff / iter for parameter alpha[6] is 0.0003727683651804886!\n",
      "WARNING:pystan:n_eff / iter for parameter phi[4] is 0.00043042873752701977!\n",
      "WARNING:pystan:n_eff / iter for parameter phi[6] is 0.0008315479344177001!\n",
      "WARNING:pystan:n_eff / iter for parameter tau[4] is 0.00021549435965414343!\n",
      "WARNING:pystan:n_eff / iter for parameter tau[5] is 0.0005661801619681249!\n",
      "WARNING:pystan:n_eff / iter for parameter tau[6] is 0.0003344432641819993!\n",
      "WARNING:pystan:n_eff / iter for parameter epsA is 0.0006194026203917763!\n",
      "WARNING:pystan:n_eff / iter for parameter epsB is 0.0004158657059913127!\n",
      "WARNING:pystan:n_eff / iter for parameter lp__ is 0.0004052987647941495!\n",
      "WARNING:pystan:n_eff / iter below 0.001 indicates that the effective sample size has likely been overestimated\n",
      "WARNING:pystan:Rhat for parameter nmax[3] is 1.2188256385661618!\n",
      "WARNING:pystan:Rhat for parameter nmax[4] is 2.0894838259315!\n",
      "WARNING:pystan:Rhat for parameter nmax[5] is 1.3105577665981294!\n",
      "WARNING:pystan:Rhat for parameter nmax[6] is 1.7760464611074815!\n",
      "WARNING:pystan:Rhat for parameter epsilon[3] is 1.2181132957102574!\n",
      "WARNING:pystan:Rhat for parameter epsilon[4] is 2.0774883054161384!\n",
      "WARNING:pystan:Rhat for parameter epsilon[5] is 1.3066377032825718!\n",
      "WARNING:pystan:Rhat for parameter epsilon[6] is 1.7765051999474182!\n",
      "WARNING:pystan:Rhat for parameter alpha[3] is 1.1653699003888678!\n",
      "WARNING:pystan:Rhat for parameter alpha[4] is 1.9757174108988493!\n",
      "WARNING:pystan:Rhat for parameter alpha[5] is 1.2860503453850332!\n",
      "WARNING:pystan:Rhat for parameter alpha[6] is 1.7132392663553997!\n",
      "WARNING:pystan:Rhat for parameter phi[3] is 1.1818072229698862!\n",
      "WARNING:pystan:Rhat for parameter phi[4] is 1.5259833868171069!\n",
      "WARNING:pystan:Rhat for parameter phi[5] is 1.1551376602604995!\n",
      "WARNING:pystan:Rhat for parameter phi[6] is 1.1855877145190172!\n",
      "WARNING:pystan:Rhat for parameter tau[3] is 1.2004265467226067!\n",
      "WARNING:pystan:Rhat for parameter tau[4] is 2.0649564001484797!\n",
      "WARNING:pystan:Rhat for parameter tau[5] is 1.3055381501324783!\n",
      "WARNING:pystan:Rhat for parameter tau[6] is 1.78156769618304!\n",
      "WARNING:pystan:Rhat for parameter epsA is 1.219942793453595!\n",
      "WARNING:pystan:Rhat for parameter epsB is 1.4084352712185217!\n",
      "WARNING:pystan:Rhat for parameter lp__ is 1.612781329606492!\n",
      "WARNING:pystan:Rhat above 1.1 or below 0.9 indicates that the chains very likely have not mixed\n",
      "WARNING:pystan:296 of 20000 iterations ended with a divergence (1.48%).\n",
      "WARNING:pystan:Try running with adapt_delta larger than 0.8 to remove the divergences.\n",
      "WARNING:pystan:19704 of 20000 iterations saturated the maximum tree depth of 10 (98.52%)\n",
      "WARNING:pystan:Run again with max_treedepth larger than 10 to avoid saturation\n",
      "WARNING:pystan:Chain 2: E-BFMI = 0.11981330712082473\n",
      "WARNING:pystan:Chain 4: E-BFMI = 0.03355315440402056\n",
      "WARNING:pystan:E-BFMI below 0.2 indicates you may need to reparameterize your model\n"
     ]
    }
   ],
   "source": [
    "stan_data = {'N': len(IDs),\n",
    "         'M': maxmodes,\n",
    "         'n': arr_n, \n",
    "         'freq': arr_freq,\n",
    "         'freq_err': arr_freqerr,\n",
    "         'dnu_guess': dnu_avgarr\n",
    "        }\n",
    "start = {'dnu': dnu_avgarr,\n",
    "         'nmax': nmax,\n",
    "         'epsilon': epsilon,\n",
    "         'alpha': alpha,\n",
    "         'A': A,\n",
    "         'G': G,\n",
    "         'phi': phi,\n",
    "         'epsA': 0.601,\n",
    "         'epsB': 0.632,\n",
    "         'alA': 0.015,\n",
    "         'alB': 0.32,\n",
    "         'AA': 0.06,\n",
    "         'AB': 0.88,\n",
    "         'tau': tau\n",
    "    }\n",
    "nchains = 4\n",
    "\n",
    "fit = sm.sampling(data=stan_data, iter=10000, chains=nchains, init=[start for n in range(nchains)])"
   ]
  },
  {
   "cell_type": "code",
   "execution_count": 12,
   "metadata": {},
   "outputs": [
    {
     "name": "stdout",
     "output_type": "stream",
     "text": [
      "Inference for Stan model: anon_model_00f960a035d810bbec594fa3d8c9432c.\n",
      "4 chains, each with iter=10000; warmup=5000; thin=1; \n",
      "post-warmup draws per chain=5000, total post-warmup draws=20000.\n",
      "\n",
      "             mean se_mean     sd   2.5%    25%    50%    75%  97.5%  n_eff   Rhat\n",
      "dnu[1]       3.85  2.2e-5 3.9e-3   3.85   3.85   3.85   3.86   3.86  32294    1.0\n",
      "dnu[2]       2.01  1.1e-5 2.0e-3    2.0   2.01   2.01   2.01   2.01  33963    1.0\n",
      "dnu[3]       4.48  2.5e-5 4.4e-3   4.47   4.48   4.48   4.49   4.49  30291    1.0\n",
      "dnu[4]       4.89  3.0e-5 4.8e-3   4.88   4.89   4.89    4.9    4.9  26115    1.0\n",
      "dnu[5]       4.21  2.5e-5 4.2e-3    4.2    4.2   4.21   4.21   4.21  28094    1.0\n",
      "dnu[6]       4.43  2.9e-5 4.5e-3   4.42   4.42   4.43   4.43   4.43  24446    1.0\n",
      "nmax[1]     18.51    0.22   1.36  15.73   17.6  18.56  19.45  21.09     40   1.08\n",
      "nmax[2]     17.62    0.23   1.71  13.56  16.87  17.76  18.68  20.38     56   1.05\n",
      "nmax[3]     14.43     0.4   1.84   9.75  13.54  14.69   15.7  17.23     21   1.22\n",
      "nmax[4]     21.23     1.9   3.79  11.44  19.34  22.56  23.73  25.62      4   2.09\n",
      "nmax[5]     17.78    0.61   2.03  11.92  17.09  17.99  18.95  20.77     11   1.31\n",
      "nmax[6]     20.61    1.64   4.19   9.89  18.83  22.09  23.52  25.49      7   1.78\n",
      "epsilon[1]   1.88    0.08    0.5   0.93   1.54   1.86   2.21    2.9     39   1.08\n",
      "epsilon[2]   1.45    0.09   0.63    0.4   1.06    1.4   1.72   2.92     54   1.05\n",
      "epsilon[3]    1.8    0.14   0.67   0.78   1.33   1.71   2.12   3.48     22   1.22\n",
      "epsilon[4]    3.0    0.69   1.37   1.39    2.1   2.53   3.69   6.53      4   2.08\n",
      "epsilon[5]    2.0    0.22   0.75    0.9   1.57   1.93   2.26   4.16     11   1.31\n",
      "epsilon[6]   3.09     0.6   1.52    1.3   2.04   2.57   3.76   6.97      6   1.78\n",
      "alpha[1]     0.03  3.4e-4 2.4e-3   0.03   0.03   0.03   0.04   0.04     48   1.07\n",
      "alpha[2]     0.04  4.7e-4 4.4e-3   0.03   0.03   0.04   0.04   0.05     85   1.03\n",
      "alpha[3]     0.04  1.3e-3 6.4e-3   0.04   0.04   0.04   0.05   0.06     25   1.17\n",
      "alpha[4]     0.03  3.0e-3 6.8e-3   0.02   0.03   0.03   0.03   0.05      5   1.98\n",
      "alpha[5]     0.04  1.6e-3 5.6e-3   0.03   0.03   0.04   0.04   0.05     12   1.29\n",
      "alpha[6]     0.03  3.0e-3 8.3e-3   0.03   0.03   0.03   0.03   0.06      7   1.71\n",
      "A[1]       6.0e-3  2.3e-4 2.7e-3 1.8e-3 4.0e-3 5.7e-3 7.6e-3   0.01    141   1.03\n",
      "A[2]         0.01  4.4e-4 5.4e-3 2.7e-3 6.7e-3 9.6e-3   0.01   0.02    156   1.04\n",
      "A[3]       6.0e-3  2.1e-4 2.9e-3 1.4e-3 3.8e-3 5.5e-3 7.6e-3   0.01    193   1.03\n",
      "A[4]       4.9e-3  2.7e-4 2.6e-3 1.4e-3 3.3e-3 4.4e-3 6.0e-3   0.01     89   1.04\n",
      "A[5]       5.8e-3  1.8e-4 2.7e-3 1.6e-3 4.0e-3 5.4e-3 7.2e-3   0.01    218   1.02\n",
      "A[6]       5.4e-3  3.8e-4 3.3e-3 1.4e-3 3.5e-3 4.8e-3 6.4e-3   0.01     74   1.06\n",
      "G[1]         2.91    0.04   0.68   1.66   2.45   2.89   3.33   4.37    295   1.02\n",
      "G[2]         2.84    0.03   0.73   1.35   2.35   2.83   3.32   4.32    724   1.01\n",
      "G[3]         3.08    0.04   0.66   1.89   2.62   3.05   3.52    4.4    314   1.01\n",
      "G[4]         2.93    0.05   0.75   1.56   2.37   2.93   3.45   4.42    190   1.03\n",
      "G[5]          2.9    0.05   0.71   1.53    2.4    2.9   3.36    4.3    222   1.04\n",
      "G[6]         2.94    0.06   0.75   1.46   2.42    2.9   3.47   4.42    150   1.02\n",
      "phi[1]       0.72    0.52   3.57  -5.84  -2.15   1.01   3.94   5.98     47   1.07\n",
      "phi[2]       0.47    0.51   3.56  -5.93  -2.45   0.87   3.61   5.77     48   1.09\n",
      "phi[3]       -0.7    0.79   3.63  -6.03  -4.08   -0.8   2.48   5.64     21   1.18\n",
      "phi[4]       1.52    1.25   3.67  -5.18  -1.76   2.18   5.04    6.1      9   1.53\n",
      "phi[5]       0.56    0.69   3.39  -5.45  -2.22   0.62   3.52   5.91     24   1.16\n",
      "phi[6]       1.94    0.88   3.57  -5.68  -0.45   2.86   5.04   6.13     17   1.19\n",
      "tau[1]      18.34    0.08   0.49  17.32  18.02  18.36  18.67  19.24     39   1.08\n",
      "tau[2]       17.2    0.08   0.65  15.73  16.94  17.27  17.58  18.19     60   1.04\n",
      "tau[3]      14.81    0.15   0.71  12.96  14.51  14.92  15.28   15.8     23    1.2\n",
      "tau[4]      22.18    0.75   1.56  17.92   21.6  22.75  23.17  23.83      4   2.06\n",
      "tau[5]       18.2    0.24   0.82  15.79  17.98  18.31  18.65  19.28     11   1.31\n",
      "tau[6]      21.78    0.68   1.76  16.89  21.22  22.43  22.95  23.65      7   1.78\n",
      "epsA         0.68    0.03   0.11    0.5   0.61   0.67   0.74   0.93     12   1.22\n",
      "epsB         0.75    0.05   0.13   0.54   0.66   0.73   0.81   1.09      8   1.41\n",
      "alA          0.03  4.1e-4 3.4e-3   0.03   0.03   0.03   0.03   0.04     68   1.04\n",
      "alB          0.14  9.6e-3   0.07-5.9e-3    0.1   0.14   0.19   0.28     58   1.05\n",
      "AA           0.03  1.0e-3   0.01 7.5e-3   0.02   0.03   0.03   0.05     94   1.06\n",
      "AB           0.91  5.4e-4   0.05   0.81   0.87   0.91   0.94   1.01   8522    1.0\n",
      "lp__       -5.8e6    9.99  28.43 -5.8e6 -5.8e6 -5.8e6 -5.8e6 -5.8e6      8   1.61\n",
      "\n",
      "Samples were drawn using NUTS at Sun Jan 27 16:06:36 2019.\n",
      "For each parameter, n_eff is a crude measure of effective sample size,\n",
      "and Rhat is the potential scale reduction factor on split chains (at \n",
      "convergence, Rhat=1).\n"
     ]
    }
   ],
   "source": [
    "print(fit)"
   ]
  },
  {
   "cell_type": "code",
   "execution_count": 13,
   "metadata": {},
   "outputs": [
    {
     "name": "stderr",
     "output_type": "stream",
     "text": [
      "WARNING:pystan:Deprecation warning. In future, use ArviZ library (`pip install arviz`)\n",
      "INFO:matplotlib.backends._backend_tk:Could not load matplotlib icon: can't use \"pyimage11\" as iconphoto: not a photo image\n"
     ]
    }
   ],
   "source": [
    "%matplotlib tk\n",
    "fit.plot()\n",
    "plt.show()"
   ]
  },
  {
   "cell_type": "code",
   "execution_count": 188,
   "metadata": {},
   "outputs": [
    {
     "ename": "ValueError",
     "evalue": "No parameter k",
     "output_type": "error",
     "traceback": [
      "\u001b[0;31m---------------------------------------------------------------------------\u001b[0m",
      "\u001b[0;31mValueError\u001b[0m                                Traceback (most recent call last)",
      "\u001b[0;32m<ipython-input-188-4c31135868f0>\u001b[0m in \u001b[0;36m<module>\u001b[0;34m\u001b[0m\n\u001b[1;32m      1\u001b[0m \u001b[0;32mimport\u001b[0m \u001b[0mcorner\u001b[0m\u001b[0;34m\u001b[0m\u001b[0;34m\u001b[0m\u001b[0m\n\u001b[0;32m----> 2\u001b[0;31m data = np.vstack([fit['epsilon'], fit['k'], fit['dnu'], fit['nmax'],\n\u001b[0m\u001b[1;32m      3\u001b[0m                   fit['a'], fit['omega'], fit['phi'], fit['tau']]).T\n\u001b[1;32m      4\u001b[0m corner.corner(data, labels=[r'$\\epsilon$', r'$k$',r'$\\Delta\\nu$',r'$n_{max}$',\n\u001b[1;32m      5\u001b[0m                             r'$A$', r'$\\omega$', r'$\\phi$', r'$\\tau$'])\n",
      "\u001b[0;32mstanfit4anon_model_d8c9897ea84e23cc9f60f78cf2de385e_293965374848372038.pyx\u001b[0m in \u001b[0;36mstanfit4anon_model_d8c9897ea84e23cc9f60f78cf2de385e_293965374848372038.StanFit4Model.__getitem__\u001b[0;34m()\u001b[0m\n",
      "\u001b[0;32mstanfit4anon_model_d8c9897ea84e23cc9f60f78cf2de385e_293965374848372038.pyx\u001b[0m in \u001b[0;36mstanfit4anon_model_d8c9897ea84e23cc9f60f78cf2de385e_293965374848372038.StanFit4Model.extract\u001b[0;34m()\u001b[0m\n",
      "\u001b[0;32m/usr/lib/python3.7/site-packages/pystan/misc.py\u001b[0m in \u001b[0;36m_check_pars\u001b[0;34m(allpars, pars)\u001b[0m\n\u001b[1;32m    807\u001b[0m     \u001b[0;32mfor\u001b[0m \u001b[0mpar\u001b[0m \u001b[0;32min\u001b[0m \u001b[0mpars\u001b[0m\u001b[0;34m:\u001b[0m\u001b[0;34m\u001b[0m\u001b[0;34m\u001b[0m\u001b[0m\n\u001b[1;32m    808\u001b[0m         \u001b[0;32mif\u001b[0m \u001b[0mpar\u001b[0m \u001b[0;32mnot\u001b[0m \u001b[0;32min\u001b[0m \u001b[0mallpars\u001b[0m\u001b[0;34m:\u001b[0m\u001b[0;34m\u001b[0m\u001b[0;34m\u001b[0m\u001b[0m\n\u001b[0;32m--> 809\u001b[0;31m             \u001b[0;32mraise\u001b[0m \u001b[0mValueError\u001b[0m\u001b[0;34m(\u001b[0m\u001b[0;34m\"No parameter {}\"\u001b[0m\u001b[0;34m.\u001b[0m\u001b[0mformat\u001b[0m\u001b[0;34m(\u001b[0m\u001b[0mpar\u001b[0m\u001b[0;34m)\u001b[0m\u001b[0;34m)\u001b[0m\u001b[0;34m\u001b[0m\u001b[0;34m\u001b[0m\u001b[0m\n\u001b[0m\u001b[1;32m    810\u001b[0m \u001b[0;34m\u001b[0m\u001b[0m\n\u001b[1;32m    811\u001b[0m \u001b[0;34m\u001b[0m\u001b[0m\n",
      "\u001b[0;31mValueError\u001b[0m: No parameter k"
     ]
    }
   ],
   "source": [
    "import corner\n",
    "data = np.vstack([fit['epsilon'], fit['k'], fit['dnu'], fit['nmax'],\n",
    "                  fit['a'], fit['omega'], fit['phi'], fit['tau']]).T\n",
    "corner.corner(data, labels=[r'$\\epsilon$', r'$k$',r'$\\Delta\\nu$',r'$n_{max}$',\n",
    "                            r'$A$', r'$\\omega$', r'$\\phi$', r'$\\tau$'])\n",
    "              #, truths=[1.436, 0.07, 0.3, 2, 0])\n",
    "plt.show()"
   ]
  },
  {
   "cell_type": "code",
   "execution_count": null,
   "metadata": {},
   "outputs": [],
   "source": [
    "'''\n",
    "#n = np.arange(12,30,1)\n",
    "\n",
    "plt.figure(4)\n",
    "plt.scatter(modes['f0'] % dnu_avg, modes['f0'], c='k', marker='x', label=r'$l=$'+str(0))\n",
    "plt.errorbar(modes['f0'] % dnu_avg, modes['f0'], xerr=modes['f0_err'], zorder=0, fmt=\"none\", label=\"none\",\n",
    "             c='k', capsize=2, markersize=4, elinewidth=1)\n",
    "\n",
    "#g = model(n, fit['dnu'].mean(), fit['nmax'].mean(), fit['epsilon'].mean(), fit['k'].mean(),\n",
    "#          fit['A'].mean(), np.median(fit['omega']), fit['phi'].mean(), fit['tau'].mean())\n",
    "g2 = model(n, fit['dnu'].mean(), fit['nmax'].mean(), fit['epsilon'].mean(), fit['k'].mean(),\n",
    "          fit['a'].mean(), np.median(fit['omega']), fit['phi'].mean(), fit['tau'].mean())\n",
    "#plt.plot(f % dnu_avg, f, ':', label='Guess')\n",
    "#plt.plot(g % fit['dnu'].mean(), g, label='Fit')\n",
    "plt.plot(g2 % fit['dnu'].mean(), g2, label='Fit_2D')\n",
    "#plt.plot(g % dnu, g, label='Fit')\n",
    "\n",
    "plt.ylabel('Frequency')\n",
    "plt.xlabel(f'Mod. Freq. Spacing ('+ str(u\"%.3f\" % dnu_avg) +') $\\mu$Hz')\n",
    "#plt.xlim(58,68)\n",
    "plt.legend()\n",
    "plt.show()\n",
    "'''"
   ]
  },
  {
   "cell_type": "code",
   "execution_count": 50,
   "metadata": {},
   "outputs": [
    {
     "name": "stdout",
     "output_type": "stream",
     "text": [
      "[ 5.  6.  7.  8.  9. 10.]\n",
      "[3.85474402 2.00733191 4.48350415 4.89274182 4.2064364  4.42551044]\n",
      "[3.8547401702878554, 2.007338877069496, 4.483552499830951, 4.892530553073527, 4.20647669657756, 4.425290708461429]\n",
      "[18.51222285 17.62368216 14.43208743 21.23391904 17.77921668 20.61293965]\n",
      "[1.87913431 1.44650276 1.79746933 3.00317744 2.00211536 3.09481258]\n",
      "[0.03419697 0.03693593 0.04436273 0.03062076 0.0368717  0.03195045]\n",
      "[0.00602568 0.01031285 0.00595125 0.00488942 0.00580169 0.00539573]\n",
      "[2.90883946 2.84152753 3.07708307 2.93103981 2.8966362  2.93600769]\n",
      "[ 0.72429977  0.46638283 -0.69939642  1.52236892  0.55597121  1.93920499]\n",
      "[18.34002237 17.20296346 14.81241224 22.18106874 18.19792734 21.7824792 ]\n"
     ]
    },
    {
     "data": {
      "image/png": "[encoded data removed]",
      "text/plain": [
       "<Figure size 864x288 with 1 Axes>"
      ]
     },
     "metadata": {
      "needs_background": "light"
     },
     "output_type": "display_data"
    }
   ],
   "source": [
    "%matplotlib inline\n",
    "def model(n,dnu,nmax,eps,alpha,A,G,phi,tau):\n",
    "    s = (n + eps + ((alpha/2)*(nmax-n)**2) + (((A*G)/(2*np.pi)) * np.sin((2*np.pi*(n-nmax))/G + phi)))*dnu#*np.exp(-n/(tau))\n",
    "    return s\n",
    "\n",
    "\n",
    "fig = plt.figure(1, figsize=(12,4))\n",
    "ax  = fig.add_subplot(111)\n",
    "ax.set_position([0.1,0.1,0.6,0.85])\n",
    "\n",
    "import itertools\n",
    "colours1 = itertools.cycle(('red', 'green', 'orange', 'blue', 'gold', 'purple'))\n",
    "colours2 = itertools.cycle(('red', 'green', 'orange', 'blue', 'gold', 'purple'))\n",
    "    \n",
    "for i in np.arange(0,len(IDs),1):\n",
    "    ax.scatter(modesID[i]['f0'] % dnu_avgID[i], modesID[i]['f0'],\n",
    "                label=r'ID = '+str(IDs[i]), c=next(colours1))\n",
    "  \n",
    "    g2 = model(arr_n[i],\n",
    "           np.mean(fit['dnu'], axis=0)[i],\n",
    "           np.mean(fit['nmax'], axis=0)[i],\n",
    "           np.mean(fit['epsilon'], axis=0)[i],\n",
    "           np.mean(fit['alpha'], axis=0)[i],\n",
    "           np.mean(fit['A'], axis=0)[i],\n",
    "           np.mean(fit['G'], axis=0)[i],\n",
    "           np.mean(fit['phi'], axis=0)[i],\n",
    "           np.mean(fit['tau'], axis=0)[i])\n",
    "    \n",
    "    ax.plot(g2 % np.mean(fit['dnu'], axis=0)[i], g2,\n",
    "             c=next(colours2))\n",
    "'''    \n",
    "g1 = model(arr_n[0],\n",
    "           np.mean(fit['dnu'], axis=0)[0],\n",
    "           np.mean(fit['nmax'], axis=0)[0],\n",
    "           np.mean(fit['epsilon'], axis=0)[0],\n",
    "           np.mean(fit['alpha'], axis=0)[0],\n",
    "           np.mean(fit['A'], axis=0)[0],\n",
    "           np.mean(fit['G'], axis=0)[0],\n",
    "           np.mean(fit['phi'], axis=0)[0],\n",
    "           np.mean(fit['tau'], axis=0)[0])\n",
    "    \n",
    "plt.plot(g1 % np.mean(fit['dnu'], axis=0)[0], g1,\n",
    "             label='Fit_2D')\n",
    " \n",
    "'''       \n",
    "\n",
    "print(arr_n[0])\n",
    "print(np.mean(fit['dnu'], axis=0))\n",
    "print(dnu_avgID)\n",
    "print(np.mean(fit['nmax'], axis=0))\n",
    "print(np.mean(fit['epsilon'], axis=0))\n",
    "print(np.mean(fit['alpha'], axis=0))\n",
    "print(np.mean(fit['A'], axis=0))\n",
    "print(np.mean(fit['G'], axis=0))\n",
    "print(np.mean(fit['phi'], axis=0))\n",
    "print(np.mean(fit['tau'], axis=0))\n",
    "\n",
    "\n",
    "plt.legend()\n",
    "plt.ylabel('Frequency')\n",
    "plt.xlabel(r'Mod. Freq. Spacing ($\\mu$Hz)')\n",
    "plt.legend(bbox_to_anchor=(1.05, 1), loc=2, borderaxespad=0.)\n",
    "#plt.savefig('seminar/somergbseizure.pdf', bbox='tight_layout')"
   ]
  },
  {
   "cell_type": "code",
   "execution_count": null,
   "metadata": {},
   "outputs": [],
   "source": []
  },
  {
   "cell_type": "code",
   "execution_count": null,
   "metadata": {},
   "outputs": [],
   "source": []
  },
  {
   "cell_type": "code",
   "execution_count": 37,
   "metadata": {},
   "outputs": [],
   "source": [
    "#fitdf = fit.to_dataframe(permuted=True)\n",
    "#display(fitdf)"
   ]
  },
  {
   "cell_type": "code",
   "execution_count": null,
   "metadata": {},
   "outputs": [],
   "source": []
  }
 ],
 "metadata": {
  "kernelspec": {
   "display_name": "Python 3",
   "language": "python",
   "name": "python3"
  },
  "language_info": {
   "codemirror_mode": {
    "name": "ipython",
    "version": 3
   },
   "file_extension": ".py",
   "mimetype": "text/x-python",
   "name": "python",
   "nbconvert_exporter": "python",
   "pygments_lexer": "ipython3",
   "version": "3.7.2"
  }
 },
 "nbformat": 4,
 "nbformat_minor": 2
}
